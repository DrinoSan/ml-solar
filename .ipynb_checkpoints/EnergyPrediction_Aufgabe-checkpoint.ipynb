{
 "cells": [
  {
   "cell_type": "markdown",
   "metadata": {
    "id": "uBHsHWmumNKn"
   },
   "source": [
    "Importing the Dependencies"
   ]
  },
  {
   "cell_type": "code",
   "execution_count": 3,
   "metadata": {
    "ExecuteTime": {
     "end_time": "2023-06-02T16:32:15.909329Z",
     "start_time": "2023-06-02T16:32:15.133776Z"
    },
    "id": "6mXdf5RGkzlk"
   },
   "outputs": [],
   "source": [
    "import numpy as np\n",
    "import pandas as pd\n",
    "import matplotlib.pyplot as plt\n",
    "import seaborn as sns"
   ]
  },
  {
   "cell_type": "markdown",
   "metadata": {},
   "source": [
    "## Problem Statement\n",
    "Company XY introduced solar panels and accompanying batteries to make them self, less dependent on the main grid and therefore reduce their overall energy dependance and CO2 emissions. First phase of the project was successfully completed with installation of solar panels and accompanying batteries. The goal of the second phase is to analyze their consumption and try to reduce the usage of the main grid electricity to zero by using ML for prediction of next possible window where electricity from main grid will be needed. Current analysis has shown that the consumption of energy from main grid is still present and therefore the ML should be deployed to make predictions when the next possible usage from the main grid will take place so that the energy management team can put some measurements in place to prohibit such usage. For example, energy consumption should be reduced during this time to overcome the upcoming need for electricity from main grid.\n",
    "\n",
    "nicht ELWOG  = Consumption from battery\n",
    "Energie-Graz_Lf_ERZ = Consumption from mein Grid\n",
    "\n",
    "\n"
   ]
  },
  {
   "cell_type": "markdown",
   "metadata": {
    "id": "bURpf8bkm7-M"
   },
   "source": [
    "## Data Import\n",
    "Import the data from energydata file"
   ]
  },
  {
   "cell_type": "code",
   "execution_count": 104,
   "metadata": {
    "ExecuteTime": {
     "end_time": "2023-06-02T19:19:23.402605Z",
     "start_time": "2023-06-02T19:19:23.143218Z"
    }
   },
   "outputs": [],
   "source": [
    "import os\n",
    "import pandas as pd\n",
    "\n",
    "rootDir = 'Energiedaten/'\n",
    "\n",
    "columns = ['Energie-Erzeuger', 'Von', 'Bis', 'Kwh']\n",
    "\n",
    "grid_dataframes = []\n",
    "bat_dataframes = []\n",
    "\n",
    "# Wir iterieren über alle files im ordner um am ende ein gesamtheitliches df zu erhalten\n",
    "# Die Spalten namen werden angepasst und das df wird geringfügig transformiert, außerdem werden\n",
    "# die unnötigen spalten gelöscht\n",
    "for dirName, subdirList, fileList in os.walk(rootDir):\n",
    "    for fname in fileList:\n",
    "        if \"EV_AT0081000801000000000000000307612\" in fname:\n",
    "            df_grid = pd.read_csv(os.path.join(dirName, fname), delimiter=\";\")\n",
    "            new_columns = [\"KA\", \"Energie-Erzeuger\", \"Von\", \"Bis\", \"Kwh\"]\n",
    "\n",
    "            df_grid.columns = new_columns\n",
    "            df_grid = df_grid.reset_index(drop=True)\n",
    "            df_grid = df_grid.drop(\"KA\", axis=1)\n",
    "\n",
    "            df_grid['Kwh'] = df_grid['Kwh'].str.replace(',', '.').astype(float)\n",
    "\n",
    "            df_grid['Von'] = pd.to_datetime(df_grid['Von'], format=\"%d.%m.%Y %H:%M\")\n",
    "            df_grid['Bis'] = pd.to_datetime(df_grid['Bis'], format=\"%d.%m.%Y %H:%M\")\n",
    "\n",
    "            grid_data = df_grid[df_grid['Energie-Erzeuger'] == 'Energie-Graz_Lf_ERZ']\n",
    "            grid_dataframes.append(df_grid)\n",
    "        elif \"EV_AT0081000801000000000000000310972\" in fname:\n",
    "            df_bat = pd.read_csv(os.path.join(dirName, fname), delimiter=\";\")\n",
    "\n",
    "            new_columns = [\"KA\", \"Nicht ELWOG\", \"Von\", \"Bis\", \"Kwh\"]\n",
    "\n",
    "            df_bat.columns = new_columns\n",
    "            df_bat = df_bat.reset_index(drop=True)\n",
    "            df_bat = df_bat.drop(\"KA\", axis=1)\n",
    "\n",
    "            df_bat['Kwh'] = df_bat['Kwh'].str.replace(',', '.').astype(float)\n",
    "\n",
    "            df_bat['Von'] = pd.to_datetime(df_bat['Von'], format=\"%d.%m.%Y %H:%M\")\n",
    "            df_bat['Bis'] = pd.to_datetime(df_bat['Bis'], format=\"%d.%m.%Y %H:%M\")\n",
    "            \n",
    "            bat_dataframes.append(df_bat)\n",
    "\n",
    "df_grid = pd.concat(grid_dataframes, ignore_index=True)\n",
    "df_bat = pd.concat(bat_dataframes, ignore_index=True)\n",
    "\n",
    "\n",
    "df = df_bat.merge(df_grid, how='inner', on='Von', suffixes=('_battery', '_grid'))\n",
    "\n",
    "\n",
    "df = df[['Von', 'Bis_battery', 'Kwh_battery', 'Kwh_grid']]\n",
    "df.columns = ['von', 'bis', 'battery', 'grid']\n",
    "\n",
    "\n"
   ]
  },
  {
   "cell_type": "code",
   "execution_count": 105,
   "metadata": {
    "ExecuteTime": {
     "end_time": "2023-06-02T19:19:24.200805Z",
     "start_time": "2023-06-02T19:19:23.661545Z"
    }
   },
   "outputs": [
    {
     "name": "stdout",
     "output_type": "stream",
     "text": [
      "     startDate     endDate                  type\n",
      "id                                              \n",
      "1   2021-12-24  2022-01-06                School\n",
      "2   2022-04-09  2022-04-18                School\n",
      "3   2022-06-04  2022-06-06                School\n",
      "4   2022-10-27  2022-10-31                School\n",
      "5   2022-11-02  2022-11-02                School\n",
      "6   2022-12-24  2023-01-06                School\n",
      "7   2023-04-01  2023-04-10                School\n",
      "8   2022-01-01  2022-01-01                Public\n",
      "9   2022-01-06  2022-01-06                Public\n",
      "10  2022-04-18  2022-04-18                Public\n",
      "11  2022-05-01  2022-05-01                Public\n",
      "12  2022-05-26  2022-05-26                Public\n",
      "13  2022-06-06  2022-06-06                Public\n",
      "14  2022-06-16  2022-06-16                Public\n",
      "15  2022-08-15  2022-08-15                Public\n",
      "16  2022-10-26  2022-10-26                Public\n",
      "17  2022-11-01  2022-11-01                Public\n",
      "18  2022-12-08  2022-12-08                Public\n",
      "19  2022-12-25  2022-12-25                Public\n",
      "20  2022-12-26  2022-12-26                Public\n",
      "21  2023-01-01  2023-01-01                Public\n",
      "22  2023-01-06  2023-01-06                Public\n",
      "23  2022-07-09  2022-09-11          Sommerferien\n",
      "24  2023-02-20  2023-02-25  SemesterFerien it in\n"
     ]
    }
   ],
   "source": [
    "# Besorgen von Urlaubsdaten, bzw schulfreien tagen\n",
    "from urllib.request import urlopen\n",
    "import json\n",
    "import pandas as pd\n",
    "\n",
    "response = urlopen(\"https://openholidaysapi.org/SchoolHolidays?countryIsoCode=AT&subdivisionCode=AT-6&languageIsoCode=DE&validFrom=2022-01-01&validTo=2023-04-01\")\n",
    "school_holidays = response.read().decode('utf-8', 'replace')\n",
    "\n",
    "response = urlopen('https://openholidaysapi.org/PublicHolidays?countryIsoCode=AT&subdivisionCode=AT-6&languageIsoCode=DE&validFrom=2022-01-01&validTo=2023-04-01')\n",
    "public_holidays = response.read().decode('utf-8', 'replace')\n",
    "\n",
    "sh = json.loads(school_holidays)\n",
    "ph = json.loads(public_holidays)\n",
    "\n",
    "holidays = sh + ph\n",
    "\n",
    "i = 1\n",
    "for h in holidays:\n",
    "  h['id'] = i\n",
    "  i=i+1\n",
    "\n",
    "hf = pd.DataFrame.from_dict(holidays)\n",
    "\n",
    "hf.drop(axis=1, inplace=True, columns=['name','nationwide', 'subdivisions','comment'])\n",
    "\n",
    "hf.set_index(['id'], inplace=True)\n",
    "\n",
    "hf.loc[23, :] = ['2022-07-09','2022-09-11','Sommerferien']\n",
    "hf.loc[24, :] = ['2023-02-20','2023-02-25','SemesterFerien it in']\n",
    "\n",
    "print(hf)\n",
    "\n",
    "hf.to_csv('Feiertage/holidays.csv')"
   ]
  },
  {
   "cell_type": "code",
   "execution_count": 107,
   "metadata": {
    "ExecuteTime": {
     "end_time": "2023-06-02T19:19:29.581714Z",
     "start_time": "2023-06-02T19:19:29.554752Z"
    }
   },
   "outputs": [],
   "source": [
    "# Hinzufügen der Holiday daten als neue spalte (0,1)\n",
    "holidays_df = pd.read_csv('Feiertage/holidays.csv')\n",
    "\n",
    "#summer_holiday = {\"id\": 23, \"startDate\": \"2022-06-09\", \"endDate\": \"2022-09-11\"}\n",
    "#holidays_df = holidays_df.append(summer_holiday, ignore_index=True)\n",
    "\n",
    "\n",
    "# Konvetieren der datums werte mit to_datetime\n",
    "holidays_df['startDate'] = pd.to_datetime(holidays_df['startDate'], format='%Y-%m-%d')\n",
    "holidays_df['endDate'] = pd.to_datetime(holidays_df['endDate'], format='%Y-%m-%d')\n",
    "\n",
    "# Neue spalte für urlaub mit 0\n",
    "df['holiday'] = 0\n",
    "\n",
    "# 0 ist Anwesenheit frei, 1 ist keine Anwesenheit\n",
    "for i, row in holidays_df.iterrows():\n",
    "    df.loc[(df['von'] >= row['startDate']) & (df['von'] <= row['endDate']), 'holiday'] = 1"
   ]
  },
  {
   "cell_type": "markdown",
   "metadata": {},
   "source": [
    "## Data Analysis\n",
    "Initial decision which Models/Algorithms arr going to br used as potential candidates for the final model. Elaborate why these models"
   ]
  },
  {
   "cell_type": "code",
   "execution_count": 64,
   "metadata": {
    "ExecuteTime": {
     "end_time": "2023-06-01T18:23:41.306764Z",
     "start_time": "2023-06-01T18:23:41.304338Z"
    }
   },
   "outputs": [],
   "source": [
    "#LSTM\n",
    "# We have decided to create one model with the holiday column included and one model without the holiday\n",
    "# column\n",
    "\n",
    "\n",
    "\n"
   ]
  },
  {
   "cell_type": "code",
   "execution_count": 108,
   "metadata": {
    "ExecuteTime": {
     "end_time": "2023-06-02T19:19:33.075616Z",
     "start_time": "2023-06-02T19:19:33.065955Z"
    }
   },
   "outputs": [
    {
     "name": "stdout",
     "output_type": "stream",
     "text": [
      "Durchschnitt an grid einspeisung an freien Tagen: \t\t 0.04514248169147177\n",
      "Durchschnitt an grid einspeisung an nicht freien Tagen: \t 0.023723148773894576\n",
      "Durchschnitt an battery einspeisung an freien Tagen: \t\t 1.7302504134183794\n",
      "Durchschnitt an battery einspeisung an nicht freien Tagen: \t 2.106636114597413\n"
     ]
    }
   ],
   "source": [
    "# Getting general information\n",
    "\n",
    "print(\"Durchschnitt an grid einspeisung an freien Tagen: \\t\\t\", df.loc[df['holiday'] == 1, 'grid'].mean())\n",
    "\n",
    "print(\"Durchschnitt an grid einspeisung an nicht freien Tagen: \\t\", df.loc[df['holiday'] == 0, 'grid'].mean())\n",
    "\n",
    "print(\"Durchschnitt an battery einspeisung an freien Tagen: \\t\\t\", df.loc[df['holiday'] == 1, 'battery'].mean())\n",
    "\n",
    "print(\"Durchschnitt an battery einspeisung an nicht freien Tagen: \\t\",df.loc[df['holiday'] == 0, 'battery'].mean())\n"
   ]
  },
  {
   "cell_type": "code",
   "execution_count": 82,
   "metadata": {
    "ExecuteTime": {
     "end_time": "2023-06-02T18:29:51.653109Z",
     "start_time": "2023-06-02T18:29:47.869874Z"
    }
   },
   "outputs": [
    {
     "data": {
      "image/png": "[encoded data removed]",
      "text/plain": [
       "<Figure size 1400x600 with 1 Axes>"
      ]
     },
     "metadata": {},
     "output_type": "display_data"
    }
   ],
   "source": [
    "# Veni, --> Vidi <--\n",
    "# Wir wollten auch eine visuelle inspektion der daten erledigen.\n",
    "# Die roten areale sind tage an denen keine Studenten im Gebäude sind.\n",
    "\n",
    "\n",
    "import matplotlib.pyplot as plt\n",
    "import matplotlib.dates as mdates\n",
    "\n",
    "plt.figure(figsize=(14, 6))\n",
    "\n",
    "# plot battery\n",
    "plt.plot(df['von'], df['battery'], label='Battery')\n",
    "\n",
    "# plot grid\n",
    "plt.plot(df['von'], df['grid'], label='Grid')\n",
    "\n",
    "holiday_days = df[df['holiday']==1]['von']\n",
    "for day in holiday_days:\n",
    "    plt.axvspan(day, day+pd.DateOffset(days=1), facecolor='r', alpha=1)\n",
    "\n",
    "plt.title('Battery and Grid values over time')\n",
    "plt.xlabel('Time')\n",
    "plt.ylabel('Values')\n",
    "plt.legend(loc='best')\n",
    "plt.grid(True)\n",
    "plt.show()\n",
    "\n"
   ]
  },
  {
   "cell_type": "code",
   "execution_count": 88,
   "metadata": {
    "ExecuteTime": {
     "end_time": "2023-06-02T18:39:06.416985Z",
     "start_time": "2023-06-02T18:38:57.839278Z"
    }
   },
   "outputs": [
    {
     "data": {
      "image/png": "[encoded data removed]",
      "text/plain": [
       "<Figure size 1400x600 with 1 Axes>"
      ]
     },
     "metadata": {},
     "output_type": "display_data"
    }
   ],
   "source": [
    "# Darstellung der grid werte kommulativ.\n",
    "# In dem drunterliegenden chart haben wir die Werte für Grid kommulativ gerechnet.\n",
    "# Wir können sehen das in den roten Berreichen (Ferien) die Werte stärker zunehmen als an normalen tagen\n",
    "# Dies ist dadurch erklärbar, da an diesen tagen weniger personen im Haus sind\n",
    "\n",
    "import matplotlib.pyplot as plt\n",
    "import matplotlib.dates as mdates\n",
    "\n",
    "plt.figure(figsize=(14, 6))\n",
    "\n",
    "plt.plot(df['von'], df['battery'], label='Battery')\n",
    "\n",
    "plt.plot(df['von'], df['grid'], label='Grid')\n",
    "\n",
    "df_sorted = df.sort_values('von')\n",
    "df_sorted['cumulative_grid'] = df_sorted['grid'].cumsum()\n",
    "plt.plot(df_sorted['von'], df_sorted['cumulative_grid'], label='Cumulative Grid')\n",
    "\n",
    "holiday_days = df[df['holiday']==1]['von']\n",
    "for day in holiday_days:\n",
    "    plt.axvspan(day, day+pd.DateOffset(days=1), facecolor='r', alpha=0.3)\n",
    "\n",
    "plt.title('Battery and Grid values over time')\n",
    "plt.xlabel('Time')\n",
    "plt.ylabel('Values')\n",
    "plt.legend(loc='best')\n",
    "plt.grid(True)\n",
    "plt.show()\n"
   ]
  },
  {
   "cell_type": "markdown",
   "metadata": {},
   "source": [
    "## Data Preprocessing\n",
    "Here you should prepare data accordingly"
   ]
  },
  {
   "cell_type": "code",
   "execution_count": 109,
   "metadata": {
    "ExecuteTime": {
     "end_time": "2023-06-02T19:19:54.410106Z",
     "start_time": "2023-06-02T19:19:54.357228Z"
    }
   },
   "outputs": [],
   "source": [
    "# Model 1\n",
    "from sklearn.preprocessing import MinMaxScaler\n",
    "from keras.models import Sequential\n",
    "from keras.layers import Dense, LSTM\n",
    "\n",
    "# Normalize it in man\n",
    "battery_scaler = MinMaxScaler(feature_range=(0, 1))\n",
    "grid_scaler = MinMaxScaler(feature_range=(0, 1))\n",
    "\n",
    "df['battery_scaled'] = battery_scaler.fit_transform(np.array(df['battery']).reshape(-1,1))\n",
    "df['grid_scaled'] = grid_scaler.fit_transform(np.array(df['grid']).reshape(-1,1))\n",
    "\n",
    "scaled_data = np.hstack((df['battery_scaled'].values.reshape(-1,1), df['grid_scaled'].values.reshape(-1,1)))\n",
    "\n",
    "def create_sequences(data, seq_length):\n",
    "    xs = []\n",
    "    ys = []\n",
    "\n",
    "    for i in range(len(data) - seq_length - 1):\n",
    "        x = data[i:(i + seq_length)]\n",
    "        y = data[i + seq_length]\n",
    "        xs.append(x)\n",
    "        ys.append(y)\n",
    "\n",
    "    return np.array(xs), np.array(ys)\n",
    "\n",
    "seq_length = 100\n",
    "X, y = create_sequences(scaled_data, seq_length)\n",
    "\n",
    "\n",
    "y = y[:,1]\n",
    "\n",
    "# We dont use the train_test_split because we want to preserve the temporal order of the data because -> timeseries\n",
    "split = int(0.8 * len(X))\n",
    "X_train = X[:split]\n",
    "y_train = y[:split]\n",
    "X_test = X[split:]\n",
    "y_test = y[split:]\n",
    "\n",
    "\n",
    "\n"
   ]
  },
  {
   "cell_type": "code",
   "execution_count": 114,
   "metadata": {
    "ExecuteTime": {
     "end_time": "2023-06-02T19:27:11.602373Z",
     "start_time": "2023-06-02T19:27:11.546260Z"
    }
   },
   "outputs": [],
   "source": [
    "#############################################################\n",
    "########### Mit holiday spalte gleiches model ###############\n",
    "# MODEL 2 (same values for model only added holiday column) #\n",
    "#############################################################\n",
    "#############################################################\n",
    "\n",
    "\n",
    "from sklearn.preprocessing import MinMaxScaler\n",
    "from keras.models import Sequential\n",
    "from keras.layers import Dense, LSTM\n",
    "\n",
    "# Normalizing the features\n",
    "battery_scaler = MinMaxScaler(feature_range=(0, 1))\n",
    "grid_scaler = MinMaxScaler(feature_range=(0, 1))\n",
    "#holiday_scaler = MinMaxScaler(feature_range=(0, 1))  # scaler for holiday\n",
    "\n",
    "df['battery_scaled'] = battery_scaler.fit_transform(np.array(df['battery']).reshape(-1,1))\n",
    "df['grid_scaled'] = grid_scaler.fit_transform(np.array(df['grid']).reshape(-1,1))\n",
    "#df['holiday_scaled'] = holiday_scaler.fit_transform(np.array(df['holiday']).reshape(-1,1))  # scale holiday\n",
    "\n",
    "scaled_data = np.hstack((df['battery_scaled'].values.reshape(-1,1), df['grid_scaled'].values.reshape(-1,1), df['holiday'].values.reshape(-1,1)))  # add holiday to the data\n",
    "\n",
    "def create_sequences(data, seq_length):\n",
    "    xs = []\n",
    "    ys = []\n",
    "\n",
    "    for i in range(len(data) - seq_length - 1):\n",
    "        x = data[i:(i + seq_length)]\n",
    "        y = data[i + seq_length]\n",
    "        xs.append(x)\n",
    "        ys.append(y)\n",
    "\n",
    "    return np.array(xs), np.array(ys)\n",
    "\n",
    "seq_length = 100\n",
    "X, y = create_sequences(scaled_data, seq_length)\n",
    "\n",
    "y = y[:,1]\n",
    "\n",
    "# We dont use the train_test_split because we want to preserve the temporal order of the data because -> timeseries\n",
    "split = int(0.8 * len(X))\n",
    "X_train = X[:split]\n",
    "y_train = y[:split]\n",
    "X_test = X[split:]\n",
    "y_test = y[split:]\n",
    "\n"
   ]
  },
  {
   "cell_type": "code",
   "execution_count": 120,
   "metadata": {
    "ExecuteTime": {
     "end_time": "2023-06-02T19:36:11.968237Z",
     "start_time": "2023-06-02T19:36:11.948418Z"
    }
   },
   "outputs": [],
   "source": [
    "# Model 3\n",
    "\n",
    "import pandas as pd\n",
    "import numpy as np\n",
    "from sklearn.preprocessing import MinMaxScaler\n",
    "from sklearn.ensemble import GradientBoostingRegressor\n",
    "from sklearn.metrics import mean_squared_error, mean_absolute_error, r2_score\n",
    "from sklearn.model_selection import train_test_split\n",
    "\n",
    "scaler = MinMaxScaler()\n",
    "df_scaled = pd.DataFrame(scaler.fit_transform(df[['grid', 'battery', 'holiday']]), columns=['grid', 'battery', 'holiday'])\n",
    "\n",
    "def create_lagged_dataset(df, lag=1):\n",
    "    df_lagged = df.copy()\n",
    "    lagged_cols = [f\"{col}_lag\" for col in df.columns]\n",
    "    \n",
    "    for col, lag_col in zip(df.columns, lagged_cols):\n",
    "        df_lagged[lag_col] = df_lagged[col].shift(lag)\n",
    "    \n",
    "    df_lagged = df_lagged.dropna()\n",
    "    return df_lagged\n",
    "\n",
    "lag = 1\n",
    "df_lagged = create_lagged_dataset(df_scaled, lag)\n",
    "\n",
    "X = df_lagged[['grid_lag', 'battery_lag', 'holiday_lag']]\n",
    "y = df_lagged['grid']\n",
    "X_train, X_test, y_train, y_test = train_test_split(X, y, test_size=0.2, shuffle=False)"
   ]
  },
  {
   "cell_type": "markdown",
   "metadata": {},
   "source": [
    "## Training and build Models\n",
    "Use at least two different models. One from deep learning LSTM and one from classical ML (ensemble ML)"
   ]
  },
  {
   "cell_type": "code",
   "execution_count": 110,
   "metadata": {
    "ExecuteTime": {
     "end_time": "2023-06-02T19:25:50.530030Z",
     "start_time": "2023-06-02T19:20:28.124352Z"
    }
   },
   "outputs": [
    {
     "name": "stdout",
     "output_type": "stream",
     "text": [
      "Epoch 1/50\n",
      "Epoch 2/50\n",
      "Epoch 3/50\n",
      "Epoch 4/50\n",
      "Epoch 5/50\n",
      "Epoch 6/50\n",
      "Epoch 7/50\n",
      "Epoch 8/50\n",
      "Epoch 9/50\n",
      "Epoch 10/50\n",
      "Epoch 11/50\n",
      "Epoch 12/50\n",
      "Epoch 13/50\n",
      "Epoch 14/50\n",
      "Epoch 15/50\n",
      "Epoch 16/50\n",
      "Epoch 17/50\n",
      "Epoch 18/50\n",
      "Epoch 19/50\n",
      "Epoch 20/50\n",
      "Epoch 21/50\n",
      "Epoch 22/50\n",
      "Epoch 23/50\n",
      "Epoch 24/50\n",
      "Epoch 25/50\n",
      "Epoch 26/50\n",
      "Epoch 27/50\n",
      "Epoch 28/50\n",
      "Epoch 29/50\n",
      "Epoch 30/50\n",
      "Epoch 31/50\n",
      "Epoch 32/50\n",
      "Epoch 33/50\n",
      "Epoch 34/50\n",
      "Epoch 35/50\n",
      "Epoch 36/50\n",
      "Epoch 37/50\n",
      "Epoch 38/50\n",
      "Epoch 39/50\n",
      "Epoch 40/50\n",
      "Epoch 41/50\n",
      "Epoch 42/50\n",
      "Epoch 43/50\n",
      "Epoch 44/50\n",
      "Epoch 45/50\n",
      "Epoch 46/50\n",
      "Epoch 47/50\n",
      "Epoch 48/50\n",
      "Epoch 49/50\n",
      "Epoch 50/50\n"
     ]
    },
    {
     "data": {
      "text/plain": [
       "<keras.src.callbacks.History at 0x16bf14410>"
      ]
     },
     "execution_count": 110,
     "metadata": {},
     "output_type": "execute_result"
    }
   ],
   "source": [
    "# MODEL 1\n",
    "\n",
    "\n",
    "model = Sequential()\n",
    "model.add(LSTM(50, activation='relu', input_shape=(X_train.shape[1], X_train.shape[2])))\n",
    "model.add(Dense(1))\n",
    "model.compile(optimizer='adam', loss='mse')\n",
    "\n",
    "# Train the model\n",
    "model.fit(X_train, y_train, epochs=50, verbose=3)\n"
   ]
  },
  {
   "cell_type": "code",
   "execution_count": 115,
   "metadata": {
    "ExecuteTime": {
     "end_time": "2023-06-02T19:32:57.396575Z",
     "start_time": "2023-06-02T19:27:18.877954Z"
    }
   },
   "outputs": [
    {
     "name": "stdout",
     "output_type": "stream",
     "text": [
      "Epoch 1/50\n",
      "727/727 - 7s - loss: 0.0028 - 7s/epoch - 10ms/step\n",
      "Epoch 2/50\n",
      "727/727 - 7s - loss: 0.0020 - 7s/epoch - 9ms/step\n",
      "Epoch 3/50\n",
      "727/727 - 7s - loss: 0.0019 - 7s/epoch - 9ms/step\n",
      "Epoch 4/50\n",
      "727/727 - 7s - loss: 0.0019 - 7s/epoch - 10ms/step\n",
      "Epoch 5/50\n",
      "727/727 - 7s - loss: 0.0018 - 7s/epoch - 9ms/step\n",
      "Epoch 6/50\n",
      "727/727 - 7s - loss: 0.0018 - 7s/epoch - 9ms/step\n",
      "Epoch 7/50\n",
      "727/727 - 7s - loss: 0.0018 - 7s/epoch - 9ms/step\n",
      "Epoch 8/50\n",
      "727/727 - 7s - loss: 0.0018 - 7s/epoch - 9ms/step\n",
      "Epoch 9/50\n",
      "727/727 - 7s - loss: 0.0018 - 7s/epoch - 9ms/step\n",
      "Epoch 10/50\n",
      "727/727 - 7s - loss: 0.0018 - 7s/epoch - 9ms/step\n",
      "Epoch 11/50\n",
      "727/727 - 7s - loss: 0.0018 - 7s/epoch - 9ms/step\n",
      "Epoch 12/50\n",
      "727/727 - 7s - loss: 0.0017 - 7s/epoch - 9ms/step\n",
      "Epoch 13/50\n",
      "727/727 - 7s - loss: 0.0017 - 7s/epoch - 9ms/step\n",
      "Epoch 14/50\n",
      "727/727 - 7s - loss: 0.0017 - 7s/epoch - 9ms/step\n",
      "Epoch 15/50\n",
      "727/727 - 7s - loss: 0.0017 - 7s/epoch - 9ms/step\n",
      "Epoch 16/50\n",
      "727/727 - 7s - loss: 0.0017 - 7s/epoch - 9ms/step\n",
      "Epoch 17/50\n",
      "727/727 - 7s - loss: 0.0017 - 7s/epoch - 9ms/step\n",
      "Epoch 18/50\n",
      "727/727 - 7s - loss: 0.0017 - 7s/epoch - 9ms/step\n",
      "Epoch 19/50\n",
      "727/727 - 7s - loss: 0.0017 - 7s/epoch - 9ms/step\n",
      "Epoch 20/50\n",
      "727/727 - 7s - loss: 0.0017 - 7s/epoch - 9ms/step\n",
      "Epoch 21/50\n",
      "727/727 - 7s - loss: 0.0017 - 7s/epoch - 9ms/step\n",
      "Epoch 22/50\n",
      "727/727 - 7s - loss: 0.0017 - 7s/epoch - 9ms/step\n",
      "Epoch 23/50\n",
      "727/727 - 7s - loss: 0.0017 - 7s/epoch - 9ms/step\n",
      "Epoch 24/50\n",
      "727/727 - 7s - loss: 0.0017 - 7s/epoch - 9ms/step\n",
      "Epoch 25/50\n",
      "727/727 - 7s - loss: 0.0017 - 7s/epoch - 9ms/step\n",
      "Epoch 26/50\n",
      "727/727 - 7s - loss: 0.0017 - 7s/epoch - 9ms/step\n",
      "Epoch 27/50\n",
      "727/727 - 7s - loss: 0.0016 - 7s/epoch - 9ms/step\n",
      "Epoch 28/50\n",
      "727/727 - 7s - loss: 0.0016 - 7s/epoch - 9ms/step\n",
      "Epoch 29/50\n",
      "727/727 - 7s - loss: 0.0016 - 7s/epoch - 9ms/step\n",
      "Epoch 30/50\n",
      "727/727 - 7s - loss: 0.0016 - 7s/epoch - 9ms/step\n",
      "Epoch 31/50\n",
      "727/727 - 7s - loss: 0.0016 - 7s/epoch - 9ms/step\n",
      "Epoch 32/50\n",
      "727/727 - 7s - loss: 0.0016 - 7s/epoch - 9ms/step\n",
      "Epoch 33/50\n",
      "727/727 - 7s - loss: 0.0016 - 7s/epoch - 10ms/step\n",
      "Epoch 34/50\n",
      "727/727 - 7s - loss: 0.0016 - 7s/epoch - 9ms/step\n",
      "Epoch 35/50\n",
      "727/727 - 7s - loss: 0.0016 - 7s/epoch - 9ms/step\n",
      "Epoch 36/50\n",
      "727/727 - 7s - loss: 0.0016 - 7s/epoch - 9ms/step\n",
      "Epoch 37/50\n",
      "727/727 - 7s - loss: 0.0016 - 7s/epoch - 9ms/step\n",
      "Epoch 38/50\n",
      "727/727 - 7s - loss: 0.0016 - 7s/epoch - 9ms/step\n",
      "Epoch 39/50\n",
      "727/727 - 7s - loss: 0.0016 - 7s/epoch - 9ms/step\n",
      "Epoch 40/50\n",
      "727/727 - 7s - loss: 0.0016 - 7s/epoch - 9ms/step\n",
      "Epoch 41/50\n",
      "727/727 - 7s - loss: 0.0016 - 7s/epoch - 10ms/step\n",
      "Epoch 42/50\n",
      "727/727 - 7s - loss: 0.0015 - 7s/epoch - 9ms/step\n",
      "Epoch 43/50\n",
      "727/727 - 7s - loss: 0.0015 - 7s/epoch - 9ms/step\n",
      "Epoch 44/50\n",
      "727/727 - 7s - loss: 0.0015 - 7s/epoch - 9ms/step\n",
      "Epoch 45/50\n",
      "727/727 - 7s - loss: 0.0015 - 7s/epoch - 9ms/step\n",
      "Epoch 46/50\n",
      "727/727 - 7s - loss: 0.0015 - 7s/epoch - 9ms/step\n",
      "Epoch 47/50\n",
      "727/727 - 7s - loss: 0.0015 - 7s/epoch - 9ms/step\n",
      "Epoch 48/50\n",
      "727/727 - 7s - loss: 0.0015 - 7s/epoch - 9ms/step\n",
      "Epoch 49/50\n",
      "727/727 - 7s - loss: 0.0015 - 7s/epoch - 9ms/step\n",
      "Epoch 50/50\n",
      "727/727 - 7s - loss: 0.0015 - 7s/epoch - 9ms/step\n"
     ]
    },
    {
     "data": {
      "text/plain": [
       "<keras.src.callbacks.History at 0x29488d990>"
      ]
     },
     "execution_count": 115,
     "metadata": {},
     "output_type": "execute_result"
    }
   ],
   "source": [
    "# MODEL 2 (same values for model only added holiday column)\n",
    "\n",
    "# Define the LSTM model\n",
    "\n",
    "model = Sequential()\n",
    "model.add(LSTM(50, activation='relu', input_shape=(X_train.shape[1], X_train.shape[2])))\n",
    "model.add(Dense(1))\n",
    "model.compile(optimizer='adam', loss='mse')\n",
    "\n",
    "\n",
    "# Train the model\n",
    "model.fit(X_train, y_train, epochs=50, verbose=2)"
   ]
  },
  {
   "cell_type": "code",
   "execution_count": 121,
   "metadata": {
    "ExecuteTime": {
     "end_time": "2023-06-02T19:36:17.501951Z",
     "start_time": "2023-06-02T19:36:16.989004Z"
    }
   },
   "outputs": [
    {
     "data": {
      "text/html": [
       "<style>#sk-container-id-1 {color: black;background-color: white;}#sk-container-id-1 pre{padding: 0;}#sk-container-id-1 div.sk-toggleable {background-color: white;}#sk-container-id-1 label.sk-toggleable__label {cursor: pointer;display: block;width: 100%;margin-bottom: 0;padding: 0.3em;box-sizing: border-box;text-align: center;}#sk-container-id-1 label.sk-toggleable__label-arrow:before {content: \"▸\";float: left;margin-right: 0.25em;color: #696969;}#sk-container-id-1 label.sk-toggleable__label-arrow:hover:before {color: black;}#sk-container-id-1 div.sk-estimator:hover label.sk-toggleable__label-arrow:before {color: black;}#sk-container-id-1 div.sk-toggleable__content {max-height: 0;max-width: 0;overflow: hidden;text-align: left;background-color: #f0f8ff;}#sk-container-id-1 div.sk-toggleable__content pre {margin: 0.2em;color: black;border-radius: 0.25em;background-color: #f0f8ff;}#sk-container-id-1 input.sk-toggleable__control:checked~div.sk-toggleable__content {max-height: 200px;max-width: 100%;overflow: auto;}#sk-container-id-1 input.sk-toggleable__control:checked~label.sk-toggleable__label-arrow:before {content: \"▾\";}#sk-container-id-1 div.sk-estimator input.sk-toggleable__control:checked~label.sk-toggleable__label {background-color: #d4ebff;}#sk-container-id-1 div.sk-label input.sk-toggleable__control:checked~label.sk-toggleable__label {background-color: #d4ebff;}#sk-container-id-1 input.sk-hidden--visually {border: 0;clip: rect(1px 1px 1px 1px);clip: rect(1px, 1px, 1px, 1px);height: 1px;margin: -1px;overflow: hidden;padding: 0;position: absolute;width: 1px;}#sk-container-id-1 div.sk-estimator {font-family: monospace;background-color: #f0f8ff;border: 1px dotted black;border-radius: 0.25em;box-sizing: border-box;margin-bottom: 0.5em;}#sk-container-id-1 div.sk-estimator:hover {background-color: #d4ebff;}#sk-container-id-1 div.sk-parallel-item::after {content: \"\";width: 100%;border-bottom: 1px solid gray;flex-grow: 1;}#sk-container-id-1 div.sk-label:hover label.sk-toggleable__label {background-color: #d4ebff;}#sk-container-id-1 div.sk-serial::before {content: \"\";position: absolute;border-left: 1px solid gray;box-sizing: border-box;top: 0;bottom: 0;left: 50%;z-index: 0;}#sk-container-id-1 div.sk-serial {display: flex;flex-direction: column;align-items: center;background-color: white;padding-right: 0.2em;padding-left: 0.2em;position: relative;}#sk-container-id-1 div.sk-item {position: relative;z-index: 1;}#sk-container-id-1 div.sk-parallel {display: flex;align-items: stretch;justify-content: center;background-color: white;position: relative;}#sk-container-id-1 div.sk-item::before, #sk-container-id-1 div.sk-parallel-item::before {content: \"\";position: absolute;border-left: 1px solid gray;box-sizing: border-box;top: 0;bottom: 0;left: 50%;z-index: -1;}#sk-container-id-1 div.sk-parallel-item {display: flex;flex-direction: column;z-index: 1;position: relative;background-color: white;}#sk-container-id-1 div.sk-parallel-item:first-child::after {align-self: flex-end;width: 50%;}#sk-container-id-1 div.sk-parallel-item:last-child::after {align-self: flex-start;width: 50%;}#sk-container-id-1 div.sk-parallel-item:only-child::after {width: 0;}#sk-container-id-1 div.sk-dashed-wrapped {border: 1px dashed gray;margin: 0 0.4em 0.5em 0.4em;box-sizing: border-box;padding-bottom: 0.4em;background-color: white;}#sk-container-id-1 div.sk-label label {font-family: monospace;font-weight: bold;display: inline-block;line-height: 1.2em;}#sk-container-id-1 div.sk-label-container {text-align: center;}#sk-container-id-1 div.sk-container {/* jupyter's `normalize.less` sets `[hidden] { display: none; }` but bootstrap.min.css set `[hidden] { display: none !important; }` so we also need the `!important` here to be able to override the default hidden behavior on the sphinx rendered scikit-learn.org. See: https://github.com/scikit-learn/scikit-learn/issues/21755 */display: inline-block !important;position: relative;}#sk-container-id-1 div.sk-text-repr-fallback {display: none;}</style><div id=\"sk-container-id-1\" class=\"sk-top-container\"><div class=\"sk-text-repr-fallback\"><pre>GradientBoostingRegressor(random_state=0)</pre><b>In a Jupyter environment, please rerun this cell to show the HTML representation or trust the notebook. <br />On GitHub, the HTML representation is unable to render, please try loading this page with nbviewer.org.</b></div><div class=\"sk-container\" hidden><div class=\"sk-item\"><div class=\"sk-estimator sk-toggleable\"><input class=\"sk-toggleable__control sk-hidden--visually\" id=\"sk-estimator-id-1\" type=\"checkbox\" checked><label for=\"sk-estimator-id-1\" class=\"sk-toggleable__label sk-toggleable__label-arrow\">GradientBoostingRegressor</label><div class=\"sk-toggleable__content\"><pre>GradientBoostingRegressor(random_state=0)</pre></div></div></div></div></div>"
      ],
      "text/plain": [
       "GradientBoostingRegressor(random_state=0)"
      ]
     },
     "execution_count": 121,
     "metadata": {},
     "output_type": "execute_result"
    }
   ],
   "source": [
    "# Model 3\n",
    "model = GradientBoostingRegressor(random_state=0)\n",
    "model.fit(X_train, y_train)"
   ]
  },
  {
   "cell_type": "code",
   "execution_count": null,
   "metadata": {},
   "outputs": [],
   "source": []
  },
  {
   "cell_type": "markdown",
   "metadata": {
    "jp-MarkdownHeadingCollapsed": true,
    "tags": []
   },
   "source": [
    "## Evaluation and selection of the model\n",
    "Here multiple models should be evaluated and finaly selected. \n"
   ]
  },
  {
   "cell_type": "code",
   "execution_count": 111,
   "metadata": {
    "ExecuteTime": {
     "end_time": "2023-06-02T19:26:37.764527Z",
     "start_time": "2023-06-02T19:26:34.640377Z"
    }
   },
   "outputs": [
    {
     "name": "stdout",
     "output_type": "stream",
     "text": [
      "727/727 [==============================] - 2s 3ms/step\n",
      "182/182 [==============================] - 1s 3ms/step\n"
     ]
    }
   ],
   "source": [
    "# MODEL 1\n",
    "\n",
    "# Vorhersage\n",
    "train_predict = model.predict(X_train)\n",
    "test_predict = model.predict(X_test)\n",
    "\n",
    "# Original Form\n",
    "train_predict_transformed = grid_scaler.inverse_transform(train_predict)\n",
    "test_predict_transformed = grid_scaler.inverse_transform(test_predict)\n",
    "\n",
    "\n"
   ]
  },
  {
   "cell_type": "code",
   "execution_count": 116,
   "metadata": {
    "ExecuteTime": {
     "end_time": "2023-06-02T19:33:18.211403Z",
     "start_time": "2023-06-02T19:33:15.010849Z"
    }
   },
   "outputs": [
    {
     "name": "stdout",
     "output_type": "stream",
     "text": [
      "727/727 [==============================] - 2s 3ms/step\n",
      "182/182 [==============================] - 1s 3ms/step\n"
     ]
    }
   ],
   "source": [
    "# MODEL 2 (same values for model only added holiday column)\n",
    "\n",
    "# Make predictions\n",
    "train_predict = model.predict(X_train)\n",
    "test_predict = model.predict(X_test)\n",
    "\n",
    "# Transform back to original form\n",
    "train_predict_transformed = grid_scaler.inverse_transform(train_predict)\n",
    "test_predict_transformed = grid_scaler.inverse_transform(test_predict)\n"
   ]
  },
  {
   "cell_type": "code",
   "execution_count": 122,
   "metadata": {
    "ExecuteTime": {
     "end_time": "2023-06-02T19:36:23.579959Z",
     "start_time": "2023-06-02T19:36:23.541432Z"
    }
   },
   "outputs": [],
   "source": [
    "# Model 3\n",
    "train_predict = model.predict(X_train)\n",
    "test_predict = model.predict(X_test)\n",
    "\n",
    "train_predict_transformed = scaler.inverse_transform(np.hstack((train_predict.reshape(-1, 1), np.zeros((len(train_predict), 2)))))\n",
    "test_predict_transformed = scaler.inverse_transform(np.hstack((test_predict.reshape(-1, 1), np.zeros((len(test_predict), 2)))))\n",
    "y_train_transformed = scaler.inverse_transform(np.hstack((y_train.values.reshape(-1, 1), np.zeros((len(y_train), 2)))))\n",
    "y_test_transformed = scaler.inverse_transform(np.hstack((y_test.values.reshape(-1, 1), np.zeros((len(y_test), 2)))))\n"
   ]
  },
  {
   "cell_type": "code",
   "execution_count": 112,
   "metadata": {
    "ExecuteTime": {
     "end_time": "2023-06-02T19:26:44.793686Z",
     "start_time": "2023-06-02T19:26:44.786157Z"
    }
   },
   "outputs": [
    {
     "name": "stdout",
     "output_type": "stream",
     "text": [
      "Training MSE: 0.0015678240293815757\n",
      "Testing MSE: 0.0016371960100776315\n",
      "Training RMSE: 0.039595757719502925\n",
      "Testing RMSE: 0.040462278854232016\n",
      "Training MAE: 0.01446435995605573\n",
      "Testing MAE: 0.01551650535017636\n"
     ]
    }
   ],
   "source": [
    "# MODEL 1\n",
    "\n",
    "from sklearn.metrics import mean_squared_error, mean_absolute_error\n",
    "import numpy as np\n",
    "\n",
    "# Mean Squared Error\n",
    "mse_train = mean_squared_error(y_train, train_predict[:,0])\n",
    "mse_test = mean_squared_error(y_test, test_predict[:,0])\n",
    "\n",
    "# Root Mean Squared Error\n",
    "rmse_train = np.sqrt(mse_train)\n",
    "rmse_test = np.sqrt(mse_test)\n",
    "\n",
    "# Mean Absolute Error\n",
    "mae_train = mean_absolute_error(y_train, train_predict[:,0])\n",
    "mae_test = mean_absolute_error(y_test, test_predict[:,0])\n",
    "\n",
    "print(f'Training MSE: {mse_train}')\n",
    "print(f'Testing MSE: {mse_test}')\n",
    "\n",
    "print(f'Training RMSE: {rmse_train}')\n",
    "print(f'Testing RMSE: {rmse_test}')\n",
    "\n",
    "print(f'Training MAE: {mae_train}')\n",
    "print(f'Testing MAE: {mae_test}')\n",
    "\n"
   ]
  },
  {
   "cell_type": "code",
   "execution_count": 117,
   "metadata": {
    "ExecuteTime": {
     "end_time": "2023-06-02T19:33:20.448917Z",
     "start_time": "2023-06-02T19:33:20.437734Z"
    }
   },
   "outputs": [
    {
     "name": "stdout",
     "output_type": "stream",
     "text": [
      "Training MSE: 0.0014161731322766828\n",
      "Testing MSE: 0.0016430070610144434\n",
      "Training RMSE: 0.037632075843310624\n",
      "Testing RMSE: 0.04053402349896249\n",
      "Training MAE: 0.009796868962818242\n",
      "Testing MAE: 0.010934131452395617\n"
     ]
    }
   ],
   "source": [
    "# Model 2\n",
    "# MIT HOLIDAY\n",
    "\n",
    "from sklearn.metrics import mean_squared_error, mean_absolute_error\n",
    "import numpy as np\n",
    "\n",
    "# Mean Squared Error\n",
    "mse_train = mean_squared_error(y_train, train_predict[:,0])\n",
    "mse_test = mean_squared_error(y_test, test_predict[:,0])\n",
    "\n",
    "# Root Mean Squared Error\n",
    "rmse_train = np.sqrt(mse_train)\n",
    "rmse_test = np.sqrt(mse_test)\n",
    "\n",
    "# Mean Absolute Error\n",
    "mae_train = mean_absolute_error(y_train, train_predict[:,0])\n",
    "mae_test = mean_absolute_error(y_test, test_predict[:,0])\n",
    "\n",
    "print(f'Training MSE: {mse_train}')\n",
    "print(f'Testing MSE: {mse_test}')\n",
    "\n",
    "print(f'Training RMSE: {rmse_train}')\n",
    "print(f'Testing RMSE: {rmse_test}')\n",
    "\n",
    "print(f'Training MAE: {mae_train}')\n",
    "print(f'Testing MAE: {mae_test}')\n"
   ]
  },
  {
   "cell_type": "code",
   "execution_count": 123,
   "metadata": {
    "ExecuteTime": {
     "end_time": "2023-06-02T19:36:29.441768Z",
     "start_time": "2023-06-02T19:36:29.433249Z"
    }
   },
   "outputs": [
    {
     "name": "stdout",
     "output_type": "stream",
     "text": [
      "Train RMSE: 0.06\n",
      "Test RMSE: 0.06\n",
      "Train MAE: 0.01\n",
      "Test MAE: 0.01\n",
      "Train R2 Score: 0.85\n",
      "Test R2 Score: 0.78\n"
     ]
    }
   ],
   "source": [
    "# Model 3\n",
    "train_rmse = np.sqrt(mean_squared_error(y_train_transformed[:, 0], train_predict_transformed[:, 0]))\n",
    "test_rmse = np.sqrt(mean_squared_error(y_test_transformed[:, 0], test_predict_transformed[:, 0]))\n",
    "train_mae = mean_absolute_error(y_train_transformed[:, 0], train_predict_transformed[:, 0])\n",
    "test_mae = mean_absolute_error(y_test_transformed[:, 0], test_predict_transformed[:, 0])\n",
    "train_r2 = r2_score(y_train_transformed[:, 0], train_predict_transformed[:, 0])\n",
    "test_r2 = r2_score(y_test_transformed[:, 0], test_predict_transformed[:, 0])\n",
    "\n",
    "print(f'Train RMSE: {train_rmse:.2f}')\n",
    "print(f'Test RMSE: {test_rmse:.2f}')\n",
    "print(f'Train MAE: {train_mae:.2f}')\n",
    "print(f'Test MAE: {test_mae:.2f}')\n",
    "print(f'Train R2 Score: {train_r2:.2f}')\n",
    "print(f'Test R2 Score: {test_r2:.2f}')"
   ]
  },
  {
   "cell_type": "markdown",
   "metadata": {},
   "source": [
    "## Conclusion and reflection\n",
    "Please reflect on the project and provide the conclusion"
   ]
  },
  {
   "cell_type": "markdown",
   "metadata": {},
   "source": [
    "From these results, it is clear that the first two models (LSTM with and without holiday feature) perform better than the Gradient Boosting Regression model in terms of RMSE and MAE. The Gradient Boosting Regression model's RMSE is higher indicating larger average error per prediction. This difference can be due to the fact that LSTM models are more suitable for time series data due to their ability to capture temporal dependencies, which may not be efficiently captured by Gradient Boosting Regression model.\n",
    "\n",
    "However, it's worth mentioning that the Gradient Boosting Regression model has a decent R2 score indicating a good fit of the model for the training data and a reasonable generalization for the test data.\n",
    "\n",
    "When looking at the LSTM models, although the second model (with holiday feature) had a slightly higher RMSE on the test set compared to the first model, it had a lower Mean Absolute Error (MAE) on both the training and testing sets. This suggests that on average, the second model's forecasts were closer to the actual values, but had a few predictions that were further off (which would have a larger impact on the RMSE)."
   ]
  },
  {
   "cell_type": "code",
   "execution_count": null,
   "metadata": {},
   "outputs": [],
   "source": []
  }
 ],
 "metadata": {
  "colab": {
   "provenance": []
  },
  "kernelspec": {
   "display_name": "Python 3",
   "language": "python",
   "name": "python3"
  },
  "language_info": {
   "codemirror_mode": {
    "name": "ipython",
    "version": 3
   },
   "file_extension": ".py",
   "mimetype": "text/x-python",
   "name": "python",
   "nbconvert_exporter": "python",
   "pygments_lexer": "ipython3",
   "version": "3.11.3"
  },
  "varInspector": {
   "cols": {
    "lenName": 16,
    "lenType": 16,
    "lenVar": 40
   },
   "kernels_config": {
    "python": {
     "delete_cmd_postfix": "",
     "delete_cmd_prefix": "del ",
     "library": "var_list.py",
     "varRefreshCmd": "print(var_dic_list())"
    },
    "r": {
     "delete_cmd_postfix": ") ",
     "delete_cmd_prefix": "rm(",
     "library": "var_list.r",
     "varRefreshCmd": "cat(var_dic_list()) "
    }
   },
   "types_to_exclude": [
    "module",
    "function",
    "builtin_function_or_method",
    "instance",
    "_Feature"
   ],
   "window_display": false
  }
 },
 "nbformat": 4,
 "nbformat_minor": 4
}
