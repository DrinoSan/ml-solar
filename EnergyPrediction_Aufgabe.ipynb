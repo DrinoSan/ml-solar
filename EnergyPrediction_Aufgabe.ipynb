{
 "cells": [
  {
   "cell_type": "markdown",
   "metadata": {
    "id": "uBHsHWmumNKn"
   },
   "source": [
    "Importing the Dependencies"
   ]
  },
  {
   "cell_type": "code",
   "execution_count": 2,
   "metadata": {
    "ExecuteTime": {
     "end_time": "2023-06-01T19:12:03.922743Z",
     "start_time": "2023-06-01T19:12:03.238947Z"
    },
    "id": "6mXdf5RGkzlk"
   },
   "outputs": [],
   "source": [
    "import numpy as np\n",
    "import pandas as pd\n",
    "import matplotlib.pyplot as plt\n",
    "import seaborn as sns"
   ]
  },
  {
   "cell_type": "markdown",
   "metadata": {},
   "source": [
    "## Problem Statement\n",
    "Company XY introduced solar panels and accompanying batteries to make them self, less dependent on the main grid and therefore reduce their overall energy dependance and CO2 emissions. First phase of the project was successfully completed with installation of solar panels and accompanying batteries. The goal of the second phase is to analyze their consumption and try to reduce the usage of the main grid electricity to zero by using ML for prediction of next possible window where electricity from main grid will be needed. Current analysis has shown that the consumption of energy from main grid is still present and therefore the ML should be deployed to make predictions when the next possible usage from the main grid will take place so that the energy management team can put some measurements in place to prohibit such usage. For example, energy consumption should be reduced during this time to overcome the upcoming need for electricity from main grid.\n",
    "\n",
    "nicht ELWOG  = Consumption from battery\n",
    "Energie-Graz_Lf_ERZ = Consumption from mein Grid\n",
    "\n",
    "\n"
   ]
  },
  {
   "cell_type": "markdown",
   "metadata": {
    "id": "bURpf8bkm7-M"
   },
   "source": [
    "## Data Import\n",
    "Import the data from energydata file"
   ]
  },
  {
   "cell_type": "code",
   "execution_count": 29,
   "metadata": {
    "ExecuteTime": {
     "end_time": "2023-06-01T19:32:21.311471Z",
     "start_time": "2023-06-01T19:32:21.235649Z"
    }
   },
   "outputs": [
    {
     "ename": "FileNotFoundError",
     "evalue": "[Errno 2] No such file or directory: 'Energiedaten/EV_AT0081000801000000000000000307612_Mai_2022.csv'",
     "output_type": "error",
     "traceback": [
      "\u001b[0;31m---------------------------------------------------------------------------\u001b[0m",
      "\u001b[0;31mFileNotFoundError\u001b[0m                         Traceback (most recent call last)",
      "Cell \u001b[0;32mIn[29], line 1\u001b[0m\n\u001b[0;32m----> 1\u001b[0m df \u001b[38;5;241m=\u001b[39m \u001b[43mpd\u001b[49m\u001b[38;5;241;43m.\u001b[39;49m\u001b[43mread_csv\u001b[49m\u001b[43m(\u001b[49m\u001b[38;5;124;43m\"\u001b[39;49m\u001b[38;5;124;43mEnergiedaten/EV_AT0081000801000000000000000307612_Mai_2022.csv\u001b[39;49m\u001b[38;5;124;43m\"\u001b[39;49m\u001b[43m,\u001b[49m\u001b[43m \u001b[49m\u001b[43mdelimiter\u001b[49m\u001b[38;5;241;43m=\u001b[39;49m\u001b[38;5;124;43m\"\u001b[39;49m\u001b[38;5;124;43m;\u001b[39;49m\u001b[38;5;124;43m\"\u001b[39;49m\u001b[43m)\u001b[49m\n\u001b[1;32m      2\u001b[0m sun_df \u001b[38;5;241m=\u001b[39m pd\u001b[38;5;241m.\u001b[39mread_csv(\u001b[38;5;124m\"\u001b[39m\u001b[38;5;124mEnergiedaten/HISTALP_AT_GRA_SU1_2022_2023-2.csv\u001b[39m\u001b[38;5;124m\"\u001b[39m, delimiter\u001b[38;5;241m=\u001b[39m\u001b[38;5;124m\"\u001b[39m\u001b[38;5;124m;\u001b[39m\u001b[38;5;124m\"\u001b[39m)\n\u001b[1;32m      4\u001b[0m new_columns \u001b[38;5;241m=\u001b[39m [\u001b[38;5;124m\"\u001b[39m\u001b[38;5;124mKA\u001b[39m\u001b[38;5;124m\"\u001b[39m, \u001b[38;5;124m\"\u001b[39m\u001b[38;5;124mEnergie-Erzeuger\u001b[39m\u001b[38;5;124m\"\u001b[39m, \u001b[38;5;124m\"\u001b[39m\u001b[38;5;124mVon\u001b[39m\u001b[38;5;124m\"\u001b[39m, \u001b[38;5;124m\"\u001b[39m\u001b[38;5;124mBis\u001b[39m\u001b[38;5;124m\"\u001b[39m, \u001b[38;5;124m\"\u001b[39m\u001b[38;5;124mKwh\u001b[39m\u001b[38;5;124m\"\u001b[39m]\n",
      "File \u001b[0;32m/opt/homebrew/lib/python3.11/site-packages/pandas/io/parsers/readers.py:912\u001b[0m, in \u001b[0;36mread_csv\u001b[0;34m(filepath_or_buffer, sep, delimiter, header, names, index_col, usecols, dtype, engine, converters, true_values, false_values, skipinitialspace, skiprows, skipfooter, nrows, na_values, keep_default_na, na_filter, verbose, skip_blank_lines, parse_dates, infer_datetime_format, keep_date_col, date_parser, date_format, dayfirst, cache_dates, iterator, chunksize, compression, thousands, decimal, lineterminator, quotechar, quoting, doublequote, escapechar, comment, encoding, encoding_errors, dialect, on_bad_lines, delim_whitespace, low_memory, memory_map, float_precision, storage_options, dtype_backend)\u001b[0m\n\u001b[1;32m    899\u001b[0m kwds_defaults \u001b[38;5;241m=\u001b[39m _refine_defaults_read(\n\u001b[1;32m    900\u001b[0m     dialect,\n\u001b[1;32m    901\u001b[0m     delimiter,\n\u001b[0;32m   (...)\u001b[0m\n\u001b[1;32m    908\u001b[0m     dtype_backend\u001b[38;5;241m=\u001b[39mdtype_backend,\n\u001b[1;32m    909\u001b[0m )\n\u001b[1;32m    910\u001b[0m kwds\u001b[38;5;241m.\u001b[39mupdate(kwds_defaults)\n\u001b[0;32m--> 912\u001b[0m \u001b[38;5;28;01mreturn\u001b[39;00m \u001b[43m_read\u001b[49m\u001b[43m(\u001b[49m\u001b[43mfilepath_or_buffer\u001b[49m\u001b[43m,\u001b[49m\u001b[43m \u001b[49m\u001b[43mkwds\u001b[49m\u001b[43m)\u001b[49m\n",
      "File \u001b[0;32m/opt/homebrew/lib/python3.11/site-packages/pandas/io/parsers/readers.py:577\u001b[0m, in \u001b[0;36m_read\u001b[0;34m(filepath_or_buffer, kwds)\u001b[0m\n\u001b[1;32m    574\u001b[0m _validate_names(kwds\u001b[38;5;241m.\u001b[39mget(\u001b[38;5;124m\"\u001b[39m\u001b[38;5;124mnames\u001b[39m\u001b[38;5;124m\"\u001b[39m, \u001b[38;5;28;01mNone\u001b[39;00m))\n\u001b[1;32m    576\u001b[0m \u001b[38;5;66;03m# Create the parser.\u001b[39;00m\n\u001b[0;32m--> 577\u001b[0m parser \u001b[38;5;241m=\u001b[39m \u001b[43mTextFileReader\u001b[49m\u001b[43m(\u001b[49m\u001b[43mfilepath_or_buffer\u001b[49m\u001b[43m,\u001b[49m\u001b[43m \u001b[49m\u001b[38;5;241;43m*\u001b[39;49m\u001b[38;5;241;43m*\u001b[39;49m\u001b[43mkwds\u001b[49m\u001b[43m)\u001b[49m\n\u001b[1;32m    579\u001b[0m \u001b[38;5;28;01mif\u001b[39;00m chunksize \u001b[38;5;129;01mor\u001b[39;00m iterator:\n\u001b[1;32m    580\u001b[0m     \u001b[38;5;28;01mreturn\u001b[39;00m parser\n",
      "File \u001b[0;32m/opt/homebrew/lib/python3.11/site-packages/pandas/io/parsers/readers.py:1407\u001b[0m, in \u001b[0;36mTextFileReader.__init__\u001b[0;34m(self, f, engine, **kwds)\u001b[0m\n\u001b[1;32m   1404\u001b[0m     \u001b[38;5;28mself\u001b[39m\u001b[38;5;241m.\u001b[39moptions[\u001b[38;5;124m\"\u001b[39m\u001b[38;5;124mhas_index_names\u001b[39m\u001b[38;5;124m\"\u001b[39m] \u001b[38;5;241m=\u001b[39m kwds[\u001b[38;5;124m\"\u001b[39m\u001b[38;5;124mhas_index_names\u001b[39m\u001b[38;5;124m\"\u001b[39m]\n\u001b[1;32m   1406\u001b[0m \u001b[38;5;28mself\u001b[39m\u001b[38;5;241m.\u001b[39mhandles: IOHandles \u001b[38;5;241m|\u001b[39m \u001b[38;5;28;01mNone\u001b[39;00m \u001b[38;5;241m=\u001b[39m \u001b[38;5;28;01mNone\u001b[39;00m\n\u001b[0;32m-> 1407\u001b[0m \u001b[38;5;28mself\u001b[39m\u001b[38;5;241m.\u001b[39m_engine \u001b[38;5;241m=\u001b[39m \u001b[38;5;28;43mself\u001b[39;49m\u001b[38;5;241;43m.\u001b[39;49m\u001b[43m_make_engine\u001b[49m\u001b[43m(\u001b[49m\u001b[43mf\u001b[49m\u001b[43m,\u001b[49m\u001b[43m \u001b[49m\u001b[38;5;28;43mself\u001b[39;49m\u001b[38;5;241;43m.\u001b[39;49m\u001b[43mengine\u001b[49m\u001b[43m)\u001b[49m\n",
      "File \u001b[0;32m/opt/homebrew/lib/python3.11/site-packages/pandas/io/parsers/readers.py:1661\u001b[0m, in \u001b[0;36mTextFileReader._make_engine\u001b[0;34m(self, f, engine)\u001b[0m\n\u001b[1;32m   1659\u001b[0m     \u001b[38;5;28;01mif\u001b[39;00m \u001b[38;5;124m\"\u001b[39m\u001b[38;5;124mb\u001b[39m\u001b[38;5;124m\"\u001b[39m \u001b[38;5;129;01mnot\u001b[39;00m \u001b[38;5;129;01min\u001b[39;00m mode:\n\u001b[1;32m   1660\u001b[0m         mode \u001b[38;5;241m+\u001b[39m\u001b[38;5;241m=\u001b[39m \u001b[38;5;124m\"\u001b[39m\u001b[38;5;124mb\u001b[39m\u001b[38;5;124m\"\u001b[39m\n\u001b[0;32m-> 1661\u001b[0m \u001b[38;5;28mself\u001b[39m\u001b[38;5;241m.\u001b[39mhandles \u001b[38;5;241m=\u001b[39m \u001b[43mget_handle\u001b[49m\u001b[43m(\u001b[49m\n\u001b[1;32m   1662\u001b[0m \u001b[43m    \u001b[49m\u001b[43mf\u001b[49m\u001b[43m,\u001b[49m\n\u001b[1;32m   1663\u001b[0m \u001b[43m    \u001b[49m\u001b[43mmode\u001b[49m\u001b[43m,\u001b[49m\n\u001b[1;32m   1664\u001b[0m \u001b[43m    \u001b[49m\u001b[43mencoding\u001b[49m\u001b[38;5;241;43m=\u001b[39;49m\u001b[38;5;28;43mself\u001b[39;49m\u001b[38;5;241;43m.\u001b[39;49m\u001b[43moptions\u001b[49m\u001b[38;5;241;43m.\u001b[39;49m\u001b[43mget\u001b[49m\u001b[43m(\u001b[49m\u001b[38;5;124;43m\"\u001b[39;49m\u001b[38;5;124;43mencoding\u001b[39;49m\u001b[38;5;124;43m\"\u001b[39;49m\u001b[43m,\u001b[49m\u001b[43m \u001b[49m\u001b[38;5;28;43;01mNone\u001b[39;49;00m\u001b[43m)\u001b[49m\u001b[43m,\u001b[49m\n\u001b[1;32m   1665\u001b[0m \u001b[43m    \u001b[49m\u001b[43mcompression\u001b[49m\u001b[38;5;241;43m=\u001b[39;49m\u001b[38;5;28;43mself\u001b[39;49m\u001b[38;5;241;43m.\u001b[39;49m\u001b[43moptions\u001b[49m\u001b[38;5;241;43m.\u001b[39;49m\u001b[43mget\u001b[49m\u001b[43m(\u001b[49m\u001b[38;5;124;43m\"\u001b[39;49m\u001b[38;5;124;43mcompression\u001b[39;49m\u001b[38;5;124;43m\"\u001b[39;49m\u001b[43m,\u001b[49m\u001b[43m \u001b[49m\u001b[38;5;28;43;01mNone\u001b[39;49;00m\u001b[43m)\u001b[49m\u001b[43m,\u001b[49m\n\u001b[1;32m   1666\u001b[0m \u001b[43m    \u001b[49m\u001b[43mmemory_map\u001b[49m\u001b[38;5;241;43m=\u001b[39;49m\u001b[38;5;28;43mself\u001b[39;49m\u001b[38;5;241;43m.\u001b[39;49m\u001b[43moptions\u001b[49m\u001b[38;5;241;43m.\u001b[39;49m\u001b[43mget\u001b[49m\u001b[43m(\u001b[49m\u001b[38;5;124;43m\"\u001b[39;49m\u001b[38;5;124;43mmemory_map\u001b[39;49m\u001b[38;5;124;43m\"\u001b[39;49m\u001b[43m,\u001b[49m\u001b[43m \u001b[49m\u001b[38;5;28;43;01mFalse\u001b[39;49;00m\u001b[43m)\u001b[49m\u001b[43m,\u001b[49m\n\u001b[1;32m   1667\u001b[0m \u001b[43m    \u001b[49m\u001b[43mis_text\u001b[49m\u001b[38;5;241;43m=\u001b[39;49m\u001b[43mis_text\u001b[49m\u001b[43m,\u001b[49m\n\u001b[1;32m   1668\u001b[0m \u001b[43m    \u001b[49m\u001b[43merrors\u001b[49m\u001b[38;5;241;43m=\u001b[39;49m\u001b[38;5;28;43mself\u001b[39;49m\u001b[38;5;241;43m.\u001b[39;49m\u001b[43moptions\u001b[49m\u001b[38;5;241;43m.\u001b[39;49m\u001b[43mget\u001b[49m\u001b[43m(\u001b[49m\u001b[38;5;124;43m\"\u001b[39;49m\u001b[38;5;124;43mencoding_errors\u001b[39;49m\u001b[38;5;124;43m\"\u001b[39;49m\u001b[43m,\u001b[49m\u001b[43m \u001b[49m\u001b[38;5;124;43m\"\u001b[39;49m\u001b[38;5;124;43mstrict\u001b[39;49m\u001b[38;5;124;43m\"\u001b[39;49m\u001b[43m)\u001b[49m\u001b[43m,\u001b[49m\n\u001b[1;32m   1669\u001b[0m \u001b[43m    \u001b[49m\u001b[43mstorage_options\u001b[49m\u001b[38;5;241;43m=\u001b[39;49m\u001b[38;5;28;43mself\u001b[39;49m\u001b[38;5;241;43m.\u001b[39;49m\u001b[43moptions\u001b[49m\u001b[38;5;241;43m.\u001b[39;49m\u001b[43mget\u001b[49m\u001b[43m(\u001b[49m\u001b[38;5;124;43m\"\u001b[39;49m\u001b[38;5;124;43mstorage_options\u001b[39;49m\u001b[38;5;124;43m\"\u001b[39;49m\u001b[43m,\u001b[49m\u001b[43m \u001b[49m\u001b[38;5;28;43;01mNone\u001b[39;49;00m\u001b[43m)\u001b[49m\u001b[43m,\u001b[49m\n\u001b[1;32m   1670\u001b[0m \u001b[43m\u001b[49m\u001b[43m)\u001b[49m\n\u001b[1;32m   1671\u001b[0m \u001b[38;5;28;01massert\u001b[39;00m \u001b[38;5;28mself\u001b[39m\u001b[38;5;241m.\u001b[39mhandles \u001b[38;5;129;01mis\u001b[39;00m \u001b[38;5;129;01mnot\u001b[39;00m \u001b[38;5;28;01mNone\u001b[39;00m\n\u001b[1;32m   1672\u001b[0m f \u001b[38;5;241m=\u001b[39m \u001b[38;5;28mself\u001b[39m\u001b[38;5;241m.\u001b[39mhandles\u001b[38;5;241m.\u001b[39mhandle\n",
      "File \u001b[0;32m/opt/homebrew/lib/python3.11/site-packages/pandas/io/common.py:859\u001b[0m, in \u001b[0;36mget_handle\u001b[0;34m(path_or_buf, mode, encoding, compression, memory_map, is_text, errors, storage_options)\u001b[0m\n\u001b[1;32m    854\u001b[0m \u001b[38;5;28;01melif\u001b[39;00m \u001b[38;5;28misinstance\u001b[39m(handle, \u001b[38;5;28mstr\u001b[39m):\n\u001b[1;32m    855\u001b[0m     \u001b[38;5;66;03m# Check whether the filename is to be opened in binary mode.\u001b[39;00m\n\u001b[1;32m    856\u001b[0m     \u001b[38;5;66;03m# Binary mode does not support 'encoding' and 'newline'.\u001b[39;00m\n\u001b[1;32m    857\u001b[0m     \u001b[38;5;28;01mif\u001b[39;00m ioargs\u001b[38;5;241m.\u001b[39mencoding \u001b[38;5;129;01mand\u001b[39;00m \u001b[38;5;124m\"\u001b[39m\u001b[38;5;124mb\u001b[39m\u001b[38;5;124m\"\u001b[39m \u001b[38;5;129;01mnot\u001b[39;00m \u001b[38;5;129;01min\u001b[39;00m ioargs\u001b[38;5;241m.\u001b[39mmode:\n\u001b[1;32m    858\u001b[0m         \u001b[38;5;66;03m# Encoding\u001b[39;00m\n\u001b[0;32m--> 859\u001b[0m         handle \u001b[38;5;241m=\u001b[39m \u001b[38;5;28mopen\u001b[39m(\n\u001b[1;32m    860\u001b[0m             handle,\n\u001b[1;32m    861\u001b[0m             ioargs\u001b[38;5;241m.\u001b[39mmode,\n\u001b[1;32m    862\u001b[0m             encoding\u001b[38;5;241m=\u001b[39mioargs\u001b[38;5;241m.\u001b[39mencoding,\n\u001b[1;32m    863\u001b[0m             errors\u001b[38;5;241m=\u001b[39merrors,\n\u001b[1;32m    864\u001b[0m             newline\u001b[38;5;241m=\u001b[39m\u001b[38;5;124m\"\u001b[39m\u001b[38;5;124m\"\u001b[39m,\n\u001b[1;32m    865\u001b[0m         )\n\u001b[1;32m    866\u001b[0m     \u001b[38;5;28;01melse\u001b[39;00m:\n\u001b[1;32m    867\u001b[0m         \u001b[38;5;66;03m# Binary mode\u001b[39;00m\n\u001b[1;32m    868\u001b[0m         handle \u001b[38;5;241m=\u001b[39m \u001b[38;5;28mopen\u001b[39m(handle, ioargs\u001b[38;5;241m.\u001b[39mmode)\n",
      "\u001b[0;31mFileNotFoundError\u001b[0m: [Errno 2] No such file or directory: 'Energiedaten/EV_AT0081000801000000000000000307612_Mai_2022.csv'"
     ]
    }
   ],
   "source": [
    "df = pd.read_csv(\"Energiedaten/EV_AT0081000801000000000000000307612_Mai_2022.csv\", delimiter=\";\")\n",
    "sun_df = pd.read_csv(\"Energiedaten/HISTALP_AT_GRA_SU1_2022_2023-2.csv\", delimiter=\";\")\n",
    "\n",
    "new_columns = [\"KA\", \"Energie-Erzeuger\", \"Von\", \"Bis\", \"Kwh\"]\n",
    "\n",
    "df.columns = new_columns\n",
    "df = df.reset_index(drop=True)\n",
    "df = df.drop(\"KA\", axis=1)\n",
    "\n",
    "df['Kwh'] = df['Kwh'].str.replace(',', '.').astype(float)\n",
    "\n",
    "df['Von'] = pd.to_datetime(df['Von'], format=\"%d.%m.%Y %H:%M\")\n",
    "df['Bis'] = pd.to_datetime(df['Bis'], format=\"%d.%m.%Y %H:%M\")\n",
    "\n",
    "df.set_index('Von', inplace=True)\n",
    "\n",
    "grid_data = df[df['Energie-Erzeuger'] == 'Energie-Graz_Lf_ERZ']"
   ]
  },
  {
   "cell_type": "code",
   "execution_count": 22,
   "metadata": {
    "ExecuteTime": {
     "end_time": "2023-06-01T19:25:13.856434Z",
     "start_time": "2023-06-01T19:25:13.843425Z"
    }
   },
   "outputs": [
    {
     "data": {
      "text/html": [
       "<div>\n",
       "<style scoped>\n",
       "    .dataframe tbody tr th:only-of-type {\n",
       "        vertical-align: middle;\n",
       "    }\n",
       "\n",
       "    .dataframe tbody tr th {\n",
       "        vertical-align: top;\n",
       "    }\n",
       "\n",
       "    .dataframe thead th {\n",
       "        text-align: right;\n",
       "    }\n",
       "</style>\n",
       "<table border=\"1\" class=\"dataframe\">\n",
       "  <thead>\n",
       "    <tr style=\"text-align: right;\">\n",
       "      <th></th>\n",
       "      <th>year</th>\n",
       "      <th>jan</th>\n",
       "      <th>feb</th>\n",
       "      <th>mar</th>\n",
       "      <th>apr</th>\n",
       "      <th>may</th>\n",
       "      <th>jun</th>\n",
       "      <th>jul</th>\n",
       "      <th>aug</th>\n",
       "      <th>sep</th>\n",
       "      <th>oct</th>\n",
       "      <th>nov</th>\n",
       "      <th>dec</th>\n",
       "      <th>mar-may</th>\n",
       "      <th>jun-aug</th>\n",
       "      <th>sep-nov</th>\n",
       "      <th>dec-feb</th>\n",
       "      <th>apr-sep</th>\n",
       "      <th>oct-mar</th>\n",
       "      <th>jan-dec</th>\n",
       "    </tr>\n",
       "  </thead>\n",
       "  <tbody>\n",
       "    <tr>\n",
       "      <th>0</th>\n",
       "      <td>2022</td>\n",
       "      <td>162</td>\n",
       "      <td>180</td>\n",
       "      <td>237</td>\n",
       "      <td>182</td>\n",
       "      <td>219</td>\n",
       "      <td>237</td>\n",
       "      <td>293</td>\n",
       "      <td>209</td>\n",
       "      <td>158</td>\n",
       "      <td>186</td>\n",
       "      <td>98</td>\n",
       "      <td>76</td>\n",
       "      <td>638</td>\n",
       "      <td>739</td>\n",
       "      <td>442</td>\n",
       "      <td>309</td>\n",
       "      <td>1298</td>\n",
       "      <td>999999</td>\n",
       "      <td>2237</td>\n",
       "    </tr>\n",
       "    <tr>\n",
       "      <th>1</th>\n",
       "      <td>2023</td>\n",
       "      <td>72</td>\n",
       "      <td>161</td>\n",
       "      <td>999999</td>\n",
       "      <td>999999</td>\n",
       "      <td>999999</td>\n",
       "      <td>999999</td>\n",
       "      <td>999999</td>\n",
       "      <td>999999</td>\n",
       "      <td>999999</td>\n",
       "      <td>999999</td>\n",
       "      <td>999999</td>\n",
       "      <td>999999</td>\n",
       "      <td>999999</td>\n",
       "      <td>999999</td>\n",
       "      <td>999999</td>\n",
       "      <td>999999</td>\n",
       "      <td>999999</td>\n",
       "      <td>999999</td>\n",
       "      <td>999999</td>\n",
       "    </tr>\n",
       "  </tbody>\n",
       "</table>\n",
       "</div>"
      ],
      "text/plain": [
       "   year  jan  feb     mar     apr     may     jun     jul     aug     sep   \n",
       "0  2022  162  180     237     182     219     237     293     209     158  \\\n",
       "1  2023   72  161  999999  999999  999999  999999  999999  999999  999999   \n",
       "\n",
       "      oct     nov     dec  mar-may  jun-aug  sep-nov  dec-feb  apr-sep   \n",
       "0     186      98      76      638      739      442      309     1298  \\\n",
       "1  999999  999999  999999   999999   999999   999999   999999   999999   \n",
       "\n",
       "   oct-mar  jan-dec  \n",
       "0   999999     2237  \n",
       "1   999999   999999  "
      ]
     },
     "execution_count": 22,
     "metadata": {},
     "output_type": "execute_result"
    }
   ],
   "source": [
    "sun_df"
   ]
  },
  {
   "cell_type": "code",
   "execution_count": 12,
   "metadata": {
    "ExecuteTime": {
     "end_time": "2023-06-01T19:12:43.114597Z",
     "start_time": "2023-06-01T19:12:43.095179Z"
    }
   },
   "outputs": [],
   "source": [
    "sun_df = sun_df.melt(id_vars='year', var_name='month', value_name='sun_hours')\n",
    "month_map = {'jan': 1, 'feb': 2, 'mar': 3, 'apr': 4, 'may': 5, 'jun': 6, 'jul': 7, 'aug': 8, 'sep': 9, 'oct': 10, 'nov': 11, 'dec': 12}\n",
    "sun_df.dropna(subset=['month'], inplace=True)\n",
    "sun_df = sun_df[sun_df[\"year\"] != 2023]\n",
    "sun_df['month'] = sun_df['month'].map(month_map)\n",
    "sun_df.dropna(subset=['month'], inplace=True)\n",
    "sun_df['date'] = pd.to_datetime(sun_df['year'].astype(str) + '-' + sun_df['month'].astype(int).astype(str) + '-01')\n",
    "\n",
    "df = df.merge(sun_df, left_on=df.index.to_period('M'), right_on=sun_df['date'].dt.to_period('M'), how='left')\n"
   ]
  },
  {
   "cell_type": "code",
   "execution_count": 21,
   "metadata": {
    "ExecuteTime": {
     "end_time": "2023-06-01T19:23:59.627145Z",
     "start_time": "2023-06-01T19:23:59.622932Z"
    }
   },
   "outputs": [
    {
     "data": {
      "text/plain": [
       "1.5525"
      ]
     },
     "execution_count": 21,
     "metadata": {},
     "output_type": "execute_result"
    }
   ],
   "source": [
    "df[\"Kwh\"].max()"
   ]
  },
  {
   "cell_type": "markdown",
   "metadata": {},
   "source": [
    "## Data Analysis\n",
    "Initial decision which Models/Algorithms arr going to br used as potential candidates for the final model. Elaborate why these models"
   ]
  },
  {
   "cell_type": "code",
   "execution_count": 64,
   "metadata": {
    "ExecuteTime": {
     "end_time": "2023-06-01T18:23:41.306764Z",
     "start_time": "2023-06-01T18:23:41.304338Z"
    }
   },
   "outputs": [],
   "source": [
    "#LSTM\n",
    "\n"
   ]
  },
  {
   "cell_type": "markdown",
   "metadata": {},
   "source": [
    "## Data Preprocessing\n",
    "Here you should prepare data accordingly"
   ]
  },
  {
   "cell_type": "code",
   "execution_count": 24,
   "metadata": {
    "ExecuteTime": {
     "end_time": "2023-06-01T19:30:45.828656Z",
     "start_time": "2023-06-01T19:30:45.697952Z"
    }
   },
   "outputs": [],
   "source": [
    "from sklearn.preprocessing import MinMaxScaler\n",
    "\n",
    "grid_data_hourly = grid_data['Kwh'].resample('H').sum()\n",
    "\n",
    "# Reshape data for scaling\n",
    "data = np.array(grid_data_hourly).reshape(-1, 1)\n",
    "\n",
    "scaler = MinMaxScaler(feature_range=(0, 1))\n",
    "scaled_data = scaler.fit_transform(data)"
   ]
  },
  {
   "cell_type": "markdown",
   "metadata": {},
   "source": [
    "## Training and build Models\n",
    "Use at least two different models. One from deep learning LSTM and one from classical ML (ensemble ML)"
   ]
  },
  {
   "cell_type": "code",
   "execution_count": 25,
   "metadata": {
    "ExecuteTime": {
     "end_time": "2023-06-01T19:30:46.540382Z",
     "start_time": "2023-06-01T19:30:46.531286Z"
    }
   },
   "outputs": [],
   "source": [
    "train_size = int(len(scaled_data) * 0.80)\n",
    "test_size = len(scaled_data) - train_size\n",
    "\n",
    "train, test = scaled_data[0:train_size,:], scaled_data[train_size:len(scaled_data),:]\n",
    "\n",
    "def create_dataset(dataset, look_back=1):\n",
    "    X, Y = [], []\n",
    "    for i in range(len(dataset) - look_back - 1):\n",
    "        a = dataset[i:(i + look_back), 0]\n",
    "        X.append(a)\n",
    "        Y.append(dataset[i + look_back, 0])\n",
    "    return np.array(X), np.array(Y)\n",
    "\n",
    "look_back = 10\n",
    "X_train, Y_train = create_dataset(train, look_back)\n",
    "X_test, Y_test = create_dataset(test, look_back)\n",
    "\n",
    "# reshape input to be [samples, time steps, features]\n",
    "X_train = np.reshape(X_train, (X_train.shape[0], 1, X_train.shape[1]))\n",
    "X_test = np.reshape(X_test, (X_test.shape[0], 1, X_test.shape[1]))\n"
   ]
  },
  {
   "cell_type": "code",
   "execution_count": 26,
   "metadata": {
    "ExecuteTime": {
     "end_time": "2023-06-01T19:31:23.509772Z",
     "start_time": "2023-06-01T19:30:47.365201Z"
    }
   },
   "outputs": [
    {
     "name": "stdout",
     "output_type": "stream",
     "text": [
      "Epoch 1/150\n",
      "584/584 - 1s - loss: 0.0164 - 715ms/epoch - 1ms/step\n",
      "Epoch 2/150\n",
      "584/584 - 0s - loss: 0.0149 - 225ms/epoch - 386us/step\n",
      "Epoch 3/150\n",
      "584/584 - 0s - loss: 0.0116 - 217ms/epoch - 372us/step\n",
      "Epoch 4/150\n",
      "584/584 - 0s - loss: 0.0079 - 218ms/epoch - 374us/step\n",
      "Epoch 5/150\n",
      "584/584 - 0s - loss: 0.0058 - 219ms/epoch - 376us/step\n",
      "Epoch 6/150\n",
      "584/584 - 0s - loss: 0.0046 - 220ms/epoch - 376us/step\n",
      "Epoch 7/150\n",
      "584/584 - 0s - loss: 0.0039 - 217ms/epoch - 372us/step\n",
      "Epoch 8/150\n",
      "584/584 - 0s - loss: 0.0035 - 216ms/epoch - 370us/step\n",
      "Epoch 9/150\n",
      "584/584 - 0s - loss: 0.0033 - 218ms/epoch - 374us/step\n",
      "Epoch 10/150\n",
      "584/584 - 0s - loss: 0.0032 - 224ms/epoch - 383us/step\n",
      "Epoch 11/150\n",
      "584/584 - 0s - loss: 0.0030 - 217ms/epoch - 372us/step\n",
      "Epoch 12/150\n",
      "584/584 - 0s - loss: 0.0030 - 218ms/epoch - 373us/step\n",
      "Epoch 13/150\n",
      "584/584 - 0s - loss: 0.0029 - 217ms/epoch - 372us/step\n",
      "Epoch 14/150\n",
      "584/584 - 0s - loss: 0.0028 - 218ms/epoch - 373us/step\n",
      "Epoch 15/150\n",
      "584/584 - 0s - loss: 0.0028 - 217ms/epoch - 372us/step\n",
      "Epoch 16/150\n",
      "584/584 - 0s - loss: 0.0028 - 218ms/epoch - 372us/step\n",
      "Epoch 17/150\n",
      "584/584 - 0s - loss: 0.0027 - 217ms/epoch - 372us/step\n",
      "Epoch 18/150\n",
      "584/584 - 0s - loss: 0.0027 - 218ms/epoch - 372us/step\n",
      "Epoch 19/150\n",
      "584/584 - 0s - loss: 0.0027 - 217ms/epoch - 371us/step\n",
      "Epoch 20/150\n",
      "584/584 - 0s - loss: 0.0027 - 216ms/epoch - 370us/step\n",
      "Epoch 21/150\n",
      "584/584 - 0s - loss: 0.0027 - 215ms/epoch - 369us/step\n",
      "Epoch 22/150\n",
      "584/584 - 0s - loss: 0.0026 - 218ms/epoch - 374us/step\n",
      "Epoch 23/150\n",
      "584/584 - 0s - loss: 0.0026 - 218ms/epoch - 373us/step\n",
      "Epoch 24/150\n",
      "584/584 - 0s - loss: 0.0026 - 216ms/epoch - 370us/step\n",
      "Epoch 25/150\n",
      "584/584 - 0s - loss: 0.0026 - 215ms/epoch - 368us/step\n",
      "Epoch 26/150\n",
      "584/584 - 0s - loss: 0.0026 - 218ms/epoch - 373us/step\n",
      "Epoch 27/150\n",
      "584/584 - 0s - loss: 0.0026 - 218ms/epoch - 373us/step\n",
      "Epoch 28/150\n",
      "584/584 - 0s - loss: 0.0026 - 218ms/epoch - 374us/step\n",
      "Epoch 29/150\n",
      "584/584 - 0s - loss: 0.0025 - 215ms/epoch - 368us/step\n",
      "Epoch 30/150\n",
      "584/584 - 0s - loss: 0.0025 - 215ms/epoch - 368us/step\n",
      "Epoch 31/150\n",
      "584/584 - 0s - loss: 0.0026 - 216ms/epoch - 371us/step\n",
      "Epoch 32/150\n",
      "584/584 - 0s - loss: 0.0025 - 216ms/epoch - 370us/step\n",
      "Epoch 33/150\n",
      "584/584 - 0s - loss: 0.0025 - 220ms/epoch - 376us/step\n",
      "Epoch 34/150\n",
      "584/584 - 0s - loss: 0.0025 - 216ms/epoch - 369us/step\n",
      "Epoch 35/150\n",
      "584/584 - 0s - loss: 0.0025 - 217ms/epoch - 371us/step\n",
      "Epoch 36/150\n",
      "584/584 - 0s - loss: 0.0024 - 217ms/epoch - 371us/step\n",
      "Epoch 37/150\n",
      "584/584 - 0s - loss: 0.0025 - 219ms/epoch - 375us/step\n",
      "Epoch 38/150\n",
      "584/584 - 0s - loss: 0.0025 - 216ms/epoch - 370us/step\n",
      "Epoch 39/150\n",
      "584/584 - 0s - loss: 0.0025 - 217ms/epoch - 372us/step\n",
      "Epoch 40/150\n",
      "584/584 - 0s - loss: 0.0025 - 218ms/epoch - 373us/step\n",
      "Epoch 41/150\n",
      "584/584 - 0s - loss: 0.0025 - 214ms/epoch - 366us/step\n",
      "Epoch 42/150\n",
      "584/584 - 0s - loss: 0.0024 - 219ms/epoch - 375us/step\n",
      "Epoch 43/150\n",
      "584/584 - 0s - loss: 0.0024 - 216ms/epoch - 370us/step\n",
      "Epoch 44/150\n",
      "584/584 - 0s - loss: 0.0025 - 218ms/epoch - 374us/step\n",
      "Epoch 45/150\n",
      "584/584 - 0s - loss: 0.0025 - 213ms/epoch - 365us/step\n",
      "Epoch 46/150\n",
      "584/584 - 0s - loss: 0.0025 - 213ms/epoch - 364us/step\n",
      "Epoch 47/150\n",
      "584/584 - 0s - loss: 0.0025 - 217ms/epoch - 371us/step\n",
      "Epoch 48/150\n",
      "584/584 - 0s - loss: 0.0025 - 217ms/epoch - 371us/step\n",
      "Epoch 49/150\n",
      "584/584 - 0s - loss: 0.0025 - 217ms/epoch - 372us/step\n",
      "Epoch 50/150\n",
      "584/584 - 0s - loss: 0.0025 - 217ms/epoch - 371us/step\n",
      "Epoch 51/150\n",
      "584/584 - 0s - loss: 0.0025 - 219ms/epoch - 375us/step\n",
      "Epoch 52/150\n",
      "584/584 - 0s - loss: 0.0025 - 218ms/epoch - 373us/step\n",
      "Epoch 53/150\n",
      "584/584 - 0s - loss: 0.0024 - 217ms/epoch - 371us/step\n",
      "Epoch 54/150\n",
      "584/584 - 0s - loss: 0.0024 - 220ms/epoch - 377us/step\n",
      "Epoch 55/150\n",
      "584/584 - 0s - loss: 0.0024 - 219ms/epoch - 374us/step\n",
      "Epoch 56/150\n",
      "584/584 - 0s - loss: 0.0025 - 217ms/epoch - 372us/step\n",
      "Epoch 57/150\n",
      "584/584 - 0s - loss: 0.0024 - 216ms/epoch - 370us/step\n",
      "Epoch 58/150\n",
      "584/584 - 0s - loss: 0.0024 - 217ms/epoch - 372us/step\n",
      "Epoch 59/150\n",
      "584/584 - 0s - loss: 0.0024 - 218ms/epoch - 373us/step\n",
      "Epoch 60/150\n",
      "584/584 - 0s - loss: 0.0024 - 217ms/epoch - 371us/step\n",
      "Epoch 61/150\n",
      "584/584 - 0s - loss: 0.0024 - 219ms/epoch - 375us/step\n",
      "Epoch 62/150\n",
      "584/584 - 0s - loss: 0.0024 - 217ms/epoch - 371us/step\n",
      "Epoch 63/150\n",
      "584/584 - 0s - loss: 0.0024 - 217ms/epoch - 371us/step\n",
      "Epoch 64/150\n",
      "584/584 - 0s - loss: 0.0025 - 218ms/epoch - 374us/step\n",
      "Epoch 65/150\n",
      "584/584 - 0s - loss: 0.0024 - 218ms/epoch - 374us/step\n",
      "Epoch 66/150\n",
      "584/584 - 0s - loss: 0.0025 - 219ms/epoch - 375us/step\n",
      "Epoch 67/150\n",
      "584/584 - 0s - loss: 0.0024 - 220ms/epoch - 376us/step\n",
      "Epoch 68/150\n",
      "584/584 - 0s - loss: 0.0024 - 220ms/epoch - 378us/step\n",
      "Epoch 69/150\n",
      "584/584 - 0s - loss: 0.0024 - 217ms/epoch - 372us/step\n",
      "Epoch 70/150\n",
      "584/584 - 0s - loss: 0.0024 - 216ms/epoch - 370us/step\n",
      "Epoch 71/150\n",
      "584/584 - 0s - loss: 0.0024 - 221ms/epoch - 379us/step\n",
      "Epoch 72/150\n",
      "584/584 - 0s - loss: 0.0024 - 220ms/epoch - 376us/step\n",
      "Epoch 73/150\n",
      "584/584 - 0s - loss: 0.0023 - 219ms/epoch - 376us/step\n",
      "Epoch 74/150\n",
      "584/584 - 0s - loss: 0.0025 - 218ms/epoch - 373us/step\n",
      "Epoch 75/150\n",
      "584/584 - 0s - loss: 0.0024 - 216ms/epoch - 370us/step\n",
      "Epoch 76/150\n",
      "584/584 - 0s - loss: 0.0024 - 222ms/epoch - 381us/step\n",
      "Epoch 77/150\n",
      "584/584 - 0s - loss: 0.0024 - 219ms/epoch - 376us/step\n",
      "Epoch 78/150\n",
      "584/584 - 0s - loss: 0.0024 - 223ms/epoch - 382us/step\n",
      "Epoch 79/150\n",
      "584/584 - 0s - loss: 0.0024 - 217ms/epoch - 372us/step\n",
      "Epoch 80/150\n",
      "584/584 - 0s - loss: 0.0024 - 223ms/epoch - 381us/step\n",
      "Epoch 81/150\n",
      "584/584 - 0s - loss: 0.0024 - 220ms/epoch - 376us/step\n",
      "Epoch 82/150\n",
      "584/584 - 0s - loss: 0.0024 - 221ms/epoch - 378us/step\n",
      "Epoch 83/150\n",
      "584/584 - 0s - loss: 0.0023 - 216ms/epoch - 369us/step\n",
      "Epoch 84/150\n",
      "584/584 - 0s - loss: 0.0024 - 219ms/epoch - 374us/step\n",
      "Epoch 85/150\n",
      "584/584 - 0s - loss: 0.0024 - 219ms/epoch - 376us/step\n",
      "Epoch 86/150\n",
      "584/584 - 0s - loss: 0.0024 - 226ms/epoch - 388us/step\n",
      "Epoch 87/150\n",
      "584/584 - 0s - loss: 0.0024 - 219ms/epoch - 374us/step\n",
      "Epoch 88/150\n",
      "584/584 - 0s - loss: 0.0024 - 219ms/epoch - 375us/step\n",
      "Epoch 89/150\n",
      "584/584 - 0s - loss: 0.0024 - 217ms/epoch - 371us/step\n",
      "Epoch 90/150\n",
      "584/584 - 0s - loss: 0.0024 - 218ms/epoch - 374us/step\n",
      "Epoch 91/150\n",
      "584/584 - 0s - loss: 0.0024 - 221ms/epoch - 379us/step\n",
      "Epoch 92/150\n",
      "584/584 - 0s - loss: 0.0024 - 218ms/epoch - 373us/step\n",
      "Epoch 93/150\n",
      "584/584 - 0s - loss: 0.0024 - 217ms/epoch - 372us/step\n",
      "Epoch 94/150\n",
      "584/584 - 0s - loss: 0.0024 - 218ms/epoch - 374us/step\n",
      "Epoch 95/150\n",
      "584/584 - 0s - loss: 0.0024 - 220ms/epoch - 377us/step\n",
      "Epoch 96/150\n",
      "584/584 - 0s - loss: 0.0024 - 217ms/epoch - 371us/step\n",
      "Epoch 97/150\n",
      "584/584 - 0s - loss: 0.0023 - 217ms/epoch - 372us/step\n",
      "Epoch 98/150\n",
      "584/584 - 0s - loss: 0.0024 - 216ms/epoch - 370us/step\n",
      "Epoch 99/150\n",
      "584/584 - 0s - loss: 0.0023 - 221ms/epoch - 379us/step\n",
      "Epoch 100/150\n",
      "584/584 - 0s - loss: 0.0024 - 217ms/epoch - 372us/step\n",
      "Epoch 101/150\n",
      "584/584 - 0s - loss: 0.0023 - 216ms/epoch - 370us/step\n",
      "Epoch 102/150\n",
      "584/584 - 0s - loss: 0.0023 - 215ms/epoch - 369us/step\n",
      "Epoch 103/150\n",
      "584/584 - 0s - loss: 0.0024 - 218ms/epoch - 372us/step\n",
      "Epoch 104/150\n",
      "584/584 - 0s - loss: 0.0024 - 220ms/epoch - 376us/step\n",
      "Epoch 105/150\n",
      "584/584 - 0s - loss: 0.0023 - 216ms/epoch - 370us/step\n",
      "Epoch 106/150\n",
      "584/584 - 0s - loss: 0.0023 - 215ms/epoch - 368us/step\n",
      "Epoch 107/150\n",
      "584/584 - 0s - loss: 0.0024 - 216ms/epoch - 370us/step\n",
      "Epoch 108/150\n",
      "584/584 - 0s - loss: 0.0023 - 218ms/epoch - 373us/step\n",
      "Epoch 109/150\n",
      "584/584 - 0s - loss: 0.0023 - 218ms/epoch - 373us/step\n",
      "Epoch 110/150\n",
      "584/584 - 0s - loss: 0.0023 - 218ms/epoch - 373us/step\n",
      "Epoch 111/150\n",
      "584/584 - 0s - loss: 0.0024 - 217ms/epoch - 371us/step\n",
      "Epoch 112/150\n",
      "584/584 - 0s - loss: 0.0024 - 217ms/epoch - 372us/step\n",
      "Epoch 113/150\n",
      "584/584 - 0s - loss: 0.0023 - 221ms/epoch - 378us/step\n",
      "Epoch 114/150\n",
      "584/584 - 0s - loss: 0.0023 - 217ms/epoch - 371us/step\n",
      "Epoch 115/150\n",
      "584/584 - 0s - loss: 0.0024 - 219ms/epoch - 375us/step\n",
      "Epoch 116/150\n",
      "584/584 - 0s - loss: 0.0023 - 218ms/epoch - 373us/step\n",
      "Epoch 117/150\n",
      "584/584 - 0s - loss: 0.0023 - 219ms/epoch - 374us/step\n",
      "Epoch 118/150\n",
      "584/584 - 0s - loss: 0.0023 - 217ms/epoch - 372us/step\n",
      "Epoch 119/150\n",
      "584/584 - 0s - loss: 0.0023 - 221ms/epoch - 378us/step\n",
      "Epoch 120/150\n",
      "584/584 - 0s - loss: 0.0023 - 218ms/epoch - 373us/step\n",
      "Epoch 121/150\n",
      "584/584 - 0s - loss: 0.0023 - 223ms/epoch - 382us/step\n"
     ]
    },
    {
     "name": "stdout",
     "output_type": "stream",
     "text": [
      "Epoch 122/150\n",
      "584/584 - 0s - loss: 0.0023 - 217ms/epoch - 372us/step\n",
      "Epoch 123/150\n",
      "584/584 - 0s - loss: 0.0024 - 216ms/epoch - 370us/step\n",
      "Epoch 124/150\n",
      "584/584 - 0s - loss: 0.0023 - 216ms/epoch - 370us/step\n",
      "Epoch 125/150\n",
      "584/584 - 0s - loss: 0.0023 - 224ms/epoch - 383us/step\n",
      "Epoch 126/150\n",
      "584/584 - 0s - loss: 0.0023 - 219ms/epoch - 374us/step\n",
      "Epoch 127/150\n",
      "584/584 - 0s - loss: 0.0023 - 217ms/epoch - 371us/step\n",
      "Epoch 128/150\n",
      "584/584 - 0s - loss: 0.0023 - 219ms/epoch - 376us/step\n",
      "Epoch 129/150\n",
      "584/584 - 0s - loss: 0.0023 - 231ms/epoch - 396us/step\n",
      "Epoch 130/150\n",
      "584/584 - 0s - loss: 0.0023 - 219ms/epoch - 376us/step\n",
      "Epoch 131/150\n",
      "584/584 - 0s - loss: 0.0023 - 217ms/epoch - 372us/step\n",
      "Epoch 132/150\n",
      "584/584 - 0s - loss: 0.0023 - 220ms/epoch - 377us/step\n",
      "Epoch 133/150\n",
      "584/584 - 0s - loss: 0.0023 - 229ms/epoch - 391us/step\n",
      "Epoch 134/150\n",
      "584/584 - 0s - loss: 0.0023 - 219ms/epoch - 376us/step\n",
      "Epoch 135/150\n",
      "584/584 - 0s - loss: 0.0023 - 217ms/epoch - 371us/step\n",
      "Epoch 136/150\n",
      "584/584 - 0s - loss: 0.0023 - 218ms/epoch - 373us/step\n",
      "Epoch 137/150\n",
      "584/584 - 0s - loss: 0.0023 - 217ms/epoch - 371us/step\n",
      "Epoch 138/150\n",
      "584/584 - 0s - loss: 0.0023 - 219ms/epoch - 375us/step\n",
      "Epoch 139/150\n",
      "584/584 - 0s - loss: 0.0023 - 216ms/epoch - 370us/step\n",
      "Epoch 140/150\n",
      "584/584 - 0s - loss: 0.0023 - 219ms/epoch - 375us/step\n",
      "Epoch 141/150\n",
      "584/584 - 0s - loss: 0.0023 - 218ms/epoch - 373us/step\n",
      "Epoch 142/150\n",
      "584/584 - 0s - loss: 0.0023 - 217ms/epoch - 371us/step\n",
      "Epoch 143/150\n",
      "584/584 - 0s - loss: 0.0023 - 219ms/epoch - 375us/step\n",
      "Epoch 144/150\n",
      "584/584 - 0s - loss: 0.0022 - 219ms/epoch - 375us/step\n",
      "Epoch 145/150\n",
      "584/584 - 0s - loss: 0.0022 - 218ms/epoch - 373us/step\n",
      "Epoch 146/150\n",
      "584/584 - 0s - loss: 0.0023 - 215ms/epoch - 368us/step\n",
      "Epoch 147/150\n",
      "584/584 - 0s - loss: 0.0023 - 216ms/epoch - 369us/step\n",
      "Epoch 148/150\n",
      "584/584 - 0s - loss: 0.0023 - 216ms/epoch - 370us/step\n",
      "Epoch 149/150\n",
      "584/584 - 0s - loss: 0.0023 - 218ms/epoch - 374us/step\n",
      "Epoch 150/150\n",
      "584/584 - 0s - loss: 0.0023 - 216ms/epoch - 369us/step\n"
     ]
    },
    {
     "data": {
      "text/plain": [
       "<keras.src.callbacks.History at 0x28c80ee50>"
      ]
     },
     "execution_count": 26,
     "metadata": {},
     "output_type": "execute_result"
    }
   ],
   "source": [
    "from tensorflow.keras.models import Sequential\n",
    "from tensorflow.keras.layers import Dense, LSTM\n",
    "\n",
    "model = Sequential()\n",
    "model.add(LSTM(4, input_shape=(1, look_back)))\n",
    "model.add(Dense(20))\n",
    "model.compile(loss='mean_squared_error', optimizer='adam')\n",
    "model.fit(X_train, Y_train, epochs=150, batch_size=1, verbose=2)\n"
   ]
  },
  {
   "cell_type": "code",
   "execution_count": null,
   "metadata": {},
   "outputs": [],
   "source": []
  },
  {
   "cell_type": "markdown",
   "metadata": {
    "jp-MarkdownHeadingCollapsed": true,
    "tags": []
   },
   "source": [
    "## Evaluation and selection of the model\n",
    "Here multiple models should be evaluated and finaly selected. \n"
   ]
  },
  {
   "cell_type": "code",
   "execution_count": 27,
   "metadata": {
    "ExecuteTime": {
     "end_time": "2023-06-01T19:31:28.907020Z",
     "start_time": "2023-06-01T19:31:28.626799Z"
    }
   },
   "outputs": [
    {
     "name": "stdout",
     "output_type": "stream",
     "text": [
      "19/19 [==============================] - 0s 511us/step\n",
      "5/5 [==============================] - 0s 572us/step\n",
      "Train Score: 0.26 RMSE\n",
      "Test Score: 0.44 RMSE\n"
     ]
    }
   ],
   "source": [
    "# Make predictions\n",
    "train_predict = model.predict(X_train)\n",
    "test_predict = model.predict(X_test)\n",
    "\n",
    "# invert predictions back to original scale\n",
    "train_predict = scaler.inverse_transform(train_predict)\n",
    "Y_train = scaler.inverse_transform([Y_train])\n",
    "test_predict = scaler.inverse_transform(test_predict)\n",
    "Y_test = scaler.inverse_transform([Y_test])\n",
    "\n",
    "\n",
    "import math\n",
    "from sklearn.metrics import mean_squared_error\n",
    "\n",
    "train_score = math.sqrt(mean_squared_error(Y_train[0], train_predict[:,0]))\n",
    "print('Train Score: %.2f RMSE' % (train_score))\n",
    "\n",
    "test_score = math.sqrt(mean_squared_error(Y_test[0], test_predict[:,0]))\n",
    "print('Test Score: %.2f RMSE' % (test_score))\n"
   ]
  },
  {
   "cell_type": "markdown",
   "metadata": {},
   "source": [
    "## Conclusion and reflection\n",
    "Please reflect on the project and provide the conclusion"
   ]
  },
  {
   "cell_type": "markdown",
   "metadata": {},
   "source": [
    "## Test the model with some data\n",
    "Create your own new data representing wine and test the model"
   ]
  }
 ],
 "metadata": {
  "colab": {
   "provenance": []
  },
  "kernelspec": {
   "display_name": "Python 3",
   "language": "python",
   "name": "python3"
  },
  "language_info": {
   "codemirror_mode": {
    "name": "ipython",
    "version": 3
   },
   "file_extension": ".py",
   "mimetype": "text/x-python",
   "name": "python",
   "nbconvert_exporter": "python",
   "pygments_lexer": "ipython3",
   "version": "3.11.3"
  },
  "varInspector": {
   "cols": {
    "lenName": 16,
    "lenType": 16,
    "lenVar": 40
   },
   "kernels_config": {
    "python": {
     "delete_cmd_postfix": "",
     "delete_cmd_prefix": "del ",
     "library": "var_list.py",
     "varRefreshCmd": "print(var_dic_list())"
    },
    "r": {
     "delete_cmd_postfix": ") ",
     "delete_cmd_prefix": "rm(",
     "library": "var_list.r",
     "varRefreshCmd": "cat(var_dic_list()) "
    }
   },
   "types_to_exclude": [
    "module",
    "function",
    "builtin_function_or_method",
    "instance",
    "_Feature"
   ],
   "window_display": false
  }
 },
 "nbformat": 4,
 "nbformat_minor": 4
}
