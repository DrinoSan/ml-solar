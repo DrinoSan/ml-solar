{
 "cells": [
  {
   "cell_type": "markdown",
   "metadata": {
    "id": "uBHsHWmumNKn"
   },
   "source": [
    "Importing the Dependencies"
   ]
  },
  {
   "cell_type": "code",
   "execution_count": 3,
   "metadata": {
    "ExecuteTime": {
     "end_time": "2023-06-02T16:32:15.909329Z",
     "start_time": "2023-06-02T16:32:15.133776Z"
    },
    "id": "6mXdf5RGkzlk"
   },
   "outputs": [],
   "source": [
    "import numpy as np\n",
    "import pandas as pd\n",
    "import matplotlib.pyplot as plt\n",
    "import seaborn as sns"
   ]
  },
  {
   "cell_type": "markdown",
   "metadata": {},
   "source": [
    "## Problem Statement\n",
    "Company XY introduced solar panels and accompanying batteries to make them self, less dependent on the main grid and therefore reduce their overall energy dependance and CO2 emissions. First phase of the project was successfully completed with installation of solar panels and accompanying batteries. The goal of the second phase is to analyze their consumption and try to reduce the usage of the main grid electricity to zero by using ML for prediction of next possible window where electricity from main grid will be needed. Current analysis has shown that the consumption of energy from main grid is still present and therefore the ML should be deployed to make predictions when the next possible usage from the main grid will take place so that the energy management team can put some measurements in place to prohibit such usage. For example, energy consumption should be reduced during this time to overcome the upcoming need for electricity from main grid.\n",
    "\n",
    "nicht ELWOG  = Consumption from battery\n",
    "Energie-Graz_Lf_ERZ = Consumption from mein Grid\n",
    "\n",
    "\n"
   ]
  },
  {
   "cell_type": "code",
   "execution_count": 33,
   "metadata": {
    "ExecuteTime": {
     "end_time": "2023-06-02T17:11:16.086839Z",
     "start_time": "2023-06-02T17:11:15.798071Z"
    }
   },
   "outputs": [],
   "source": [
    "import os\n",
    "import pandas as pd\n",
    "\n",
    "rootDir = 'Energiedaten/'\n",
    "\n",
    "# The columns you're interested in\n",
    "columns = ['Energie-Erzeuger', 'Von', 'Bis', 'Kwh']\n",
    "\n",
    "grid_dataframes = []\n",
    "bat_dataframes = []\n",
    "\n",
    "for dirName, subdirList, fileList in os.walk(rootDir):\n",
    "    for fname in fileList:\n",
    "        if \"EV_AT0081000801000000000000000307612\" in fname:\n",
    "            df_grid = pd.read_csv(os.path.join(dirName, fname), delimiter=\";\")\n",
    "            new_columns = [\"KA\", \"Energie-Erzeuger\", \"Von\", \"Bis\", \"Kwh\"]\n",
    "\n",
    "            df_grid.columns = new_columns\n",
    "            df_grid = df_grid.reset_index(drop=True)\n",
    "            df_grid = df_grid.drop(\"KA\", axis=1)\n",
    "\n",
    "            df_grid['Kwh'] = df_grid['Kwh'].str.replace(',', '.').astype(float)\n",
    "\n",
    "            df_grid['Von'] = pd.to_datetime(df_grid['Von'], format=\"%d.%m.%Y %H:%M\")\n",
    "            df_grid['Bis'] = pd.to_datetime(df_grid['Bis'], format=\"%d.%m.%Y %H:%M\")\n",
    "\n",
    "            #df_grid.set_index('Von', inplace=True)\n",
    "\n",
    "            grid_data = df_grid[df_grid['Energie-Erzeuger'] == 'Energie-Graz_Lf_ERZ']\n",
    "            grid_dataframes.append(df_grid)\n",
    "        elif \"EV_AT0081000801000000000000000310972\" in fname:\n",
    "            df_bat = pd.read_csv(os.path.join(dirName, fname), delimiter=\";\")\n",
    "\n",
    "            new_columns = [\"KA\", \"Nicht ELWOG\", \"Von\", \"Bis\", \"Kwh\"]\n",
    "\n",
    "            df_bat.columns = new_columns\n",
    "            df_bat = df_bat.reset_index(drop=True)\n",
    "            df_bat = df_bat.drop(\"KA\", axis=1)\n",
    "\n",
    "            df_bat['Kwh'] = df_bat['Kwh'].str.replace(',', '.').astype(float)\n",
    "\n",
    "            df_bat['Von'] = pd.to_datetime(df_bat['Von'], format=\"%d.%m.%Y %H:%M\")\n",
    "            df_bat['Bis'] = pd.to_datetime(df_bat['Bis'], format=\"%d.%m.%Y %H:%M\")\n",
    "            \n",
    "            bat_dataframes.append(df_bat)\n",
    "\n",
    "df_grid = pd.concat(grid_dataframes, ignore_index=True)\n",
    "df_bat = pd.concat(bat_dataframes, ignore_index=True)\n",
    "\n",
    "# Merge the dataframes on 'Von'\n",
    "df = df_bat.merge(df_grid, how='inner', on='Von', suffixes=('_battery', '_grid'))\n",
    "\n",
    "# Select the required columns and rename them\n",
    "df = df[['Von', 'Bis_battery', 'Kwh_battery', 'Kwh_grid']]\n",
    "df.columns = ['von', 'bis', 'battery', 'grid']\n"
   ]
  },
  {
   "cell_type": "code",
   "execution_count": 34,
   "metadata": {
    "ExecuteTime": {
     "end_time": "2023-06-02T17:11:17.106395Z",
     "start_time": "2023-06-02T17:11:17.080489Z"
    }
   },
   "outputs": [],
   "source": [
    "# Assuming main_df is your main DataFrame\n",
    "# Load the holidays data\n",
    "holidays_df = pd.read_csv('Feiertage/holidays.csv')\n",
    "\n",
    "# Convert the 'startDate' and 'endDate' to datetime format\n",
    "holidays_df['startDate'] = pd.to_datetime(holidays_df['startDate'], format='%Y-%m-%d')\n",
    "holidays_df['endDate'] = pd.to_datetime(holidays_df['endDate'], format='%Y-%m-%d')\n",
    "\n",
    "# Initialize a new column 'holiday' in your main DataFrame with 0\n",
    "df['holiday'] = 0\n",
    "\n",
    "# Iterate over the holidays DataFrame\n",
    "for i, row in holidays_df.iterrows():\n",
    "    # Set 'holiday' to 1 where the date is in the holiday date range\n",
    "    df.loc[(df['von'] >= row['startDate']) & (df['von'] <= row['endDate']), 'holiday'] = 1\n"
   ]
  },
  {
   "cell_type": "code",
   "execution_count": 15,
   "metadata": {
    "ExecuteTime": {
     "end_time": "2023-06-02T16:45:08.663458Z",
     "start_time": "2023-06-02T16:45:08.659005Z"
    }
   },
   "outputs": [
    {
     "data": {
      "text/plain": [
       "Index(['von', 'bis', 'battery', 'grid', 'holiday'], dtype='object')"
      ]
     },
     "execution_count": 15,
     "metadata": {},
     "output_type": "execute_result"
    }
   ],
   "source": [
    "df.columns"
   ]
  },
  {
   "cell_type": "markdown",
   "metadata": {
    "id": "bURpf8bkm7-M"
   },
   "source": [
    "## Data Import\n",
    "Import the data from energydata file"
   ]
  },
  {
   "cell_type": "code",
   "execution_count": 4,
   "metadata": {},
   "outputs": [],
   "source": [
    "import os\n",
    "import pandas as pd\n",
    "\n",
    "rootDir = 'Energiedaten/'\n",
    "\n",
    "columns = ['Energie-Erzeuger', 'Von', 'Bis', 'Kwh']\n",
    "\n",
    "grid_dataframes = []\n",
    "bat_dataframes = []\n",
    "\n",
    "# Wir iterieren über alle files im ordner um am ende ein gesamtheitliches df zu erhalten\n",
    "# Die Spalten namen werden angepasst und das df wird geringfügig transformiert, außerdem werden\n",
    "# die unnötigen spalten gelöscht\n",
    "for dirName, subdirList, fileList in os.walk(rootDir):\n",
    "    for fname in fileList:\n",
    "        if \"EV_AT0081000801000000000000000307612\" in fname:\n",
    "            df_grid = pd.read_csv(os.path.join(dirName, fname), delimiter=\";\")\n",
    "            new_columns = [\"KA\", \"Energie-Erzeuger\", \"Von\", \"Bis\", \"Kwh\"]\n",
    "\n",
    "            df_grid.columns = new_columns\n",
    "            df_grid = df_grid.reset_index(drop=True)\n",
    "            df_grid = df_grid.drop(\"KA\", axis=1)\n",
    "\n",
    "            df_grid['Kwh'] = df_grid['Kwh'].str.replace(',', '.').astype(float)\n",
    "\n",
    "            df_grid['Von'] = pd.to_datetime(df_grid['Von'], format=\"%d.%m.%Y %H:%M\")\n",
    "            df_grid['Bis'] = pd.to_datetime(df_grid['Bis'], format=\"%d.%m.%Y %H:%M\")\n",
    "\n",
    "            grid_data = df_grid[df_grid['Energie-Erzeuger'] == 'Energie-Graz_Lf_ERZ']\n",
    "            grid_dataframes.append(df_grid)\n",
    "        elif \"EV_AT0081000801000000000000000310972\" in fname:\n",
    "            df_bat = pd.read_csv(os.path.join(dirName, fname), delimiter=\";\")\n",
    "\n",
    "            new_columns = [\"KA\", \"Nicht ELWOG\", \"Von\", \"Bis\", \"Kwh\"]\n",
    "\n",
    "            df_bat.columns = new_columns\n",
    "            df_bat = df_bat.reset_index(drop=True)\n",
    "            df_bat = df_bat.drop(\"KA\", axis=1)\n",
    "\n",
    "            df_bat['Kwh'] = df_bat['Kwh'].str.replace(',', '.').astype(float)\n",
    "\n",
    "            df_bat['Von'] = pd.to_datetime(df_bat['Von'], format=\"%d.%m.%Y %H:%M\")\n",
    "            df_bat['Bis'] = pd.to_datetime(df_bat['Bis'], format=\"%d.%m.%Y %H:%M\")\n",
    "            \n",
    "            bat_dataframes.append(df_bat)\n",
    "\n",
    "df_grid = pd.concat(grid_dataframes, ignore_index=True)\n",
    "df_bat = pd.concat(bat_dataframes, ignore_index=True)\n",
    "\n",
    "\n",
    "df = df_bat.merge(df_grid, how='inner', on='Von', suffixes=('_battery', '_grid'))\n",
    "\n",
    "\n",
    "df = df[['Von', 'Bis_battery', 'Kwh_battery', 'Kwh_grid']]\n",
    "df.columns = ['von', 'bis', 'battery', 'grid']\n",
    "\n",
    "\n"
   ]
  },
  {
   "cell_type": "code",
   "execution_count": null,
   "metadata": {},
   "outputs": [],
   "source": [
    "# Besorgen von Urlaubsdaten, bzw schulfreien tagen\n",
    "from urllib.request import urlopen\n",
    "import json\n",
    "import pandas as pd\n",
    "\n",
    "response = urlopen(\"https://openholidaysapi.org/SchoolHolidays?countryIsoCode=AT&subdivisionCode=AT-6&languageIsoCode=DE&validFrom=2022-01-01&validTo=2023-04-01\")\n",
    "school_holidays = response.read().decode('utf-8', 'replace')\n",
    "\n",
    "response = urlopen('https://openholidaysapi.org/PublicHolidays?countryIsoCode=AT&subdivisionCode=AT-6&languageIsoCode=DE&validFrom=2022-01-01&validTo=2023-04-01')\n",
    "public_holidays = response.read().decode('utf-8', 'replace')\n",
    "\n",
    "sh = json.loads(school_holidays)\n",
    "ph = json.loads(public_holidays)\n",
    "\n",
    "holidays = sh + ph\n",
    "\n",
    "i = 1\n",
    "for h in holidays:\n",
    "  h['id'] = i\n",
    "  i=i+1\n",
    "\n",
    "hf = pd.DataFrame.from_dict(holidays)\n",
    "\n",
    "hf.drop(axis=1, inplace=True, columns=['name','nationwide', 'subdivisions','comment'])\n",
    "\n",
    "hf.set_index(['id'], inplace=True)\n",
    "\n",
    "print(hf)\n",
    "\n",
    "hf.to_csv('Feiertage/holidays.csv')"
   ]
  },
  {
   "cell_type": "code",
   "execution_count": null,
   "metadata": {},
   "outputs": [],
   "source": [
    "# Hinzufügen der Holiday daten als neue spalte (0,1)\n",
    "holidays_df = pd.read_csv('Feiertage/holidays.csv')\n",
    "\n",
    "# Konvetieren der datums werte mit to_datetime\n",
    "holidays_df['startDate'] = pd.to_datetime(holidays_df['startDate'], format='%Y-%m-%d')\n",
    "holidays_df['endDate'] = pd.to_datetime(holidays_df['endDate'], format='%Y-%m-%d')\n",
    "\n",
    "# Neue spalte für urlaub mit 0\n",
    "df['holiday'] = 0\n",
    "\n",
    "# 0 ist Anwesenheit frei, 1 ist keine Anwesenheit\n",
    "for i, row in holidays_df.iterrows():\n",
    "    # Set 'holiday' to 1 where the date is in the holiday date range\n",
    "    df.loc[(df['von'] >= row['startDate']) & (df['von'] <= row['endDate']), 'holiday'] = 1"
   ]
  },
  {
   "cell_type": "code",
   "execution_count": null,
   "metadata": {
    "ExecuteTime": {
     "start_time": "2023-06-02T17:18:16.067Z"
    }
   },
   "outputs": [
    {
     "name": "stdout",
     "output_type": "stream",
     "text": [
      "Epoch 1/50\n",
      "713/713 - 59s - loss: 0.0025 - 59s/epoch - 83ms/step\n",
      "Epoch 2/50\n",
      "713/713 - 59s - loss: 0.0019 - 59s/epoch - 82ms/step\n",
      "Epoch 3/50\n",
      "713/713 - 59s - loss: 0.0018 - 59s/epoch - 83ms/step\n",
      "Epoch 4/50\n",
      "713/713 - 59s - loss: 0.0017 - 59s/epoch - 83ms/step\n",
      "Epoch 5/50\n",
      "713/713 - 58s - loss: 0.0017 - 58s/epoch - 82ms/step\n",
      "Epoch 6/50\n",
      "713/713 - 59s - loss: 0.0017 - 59s/epoch - 82ms/step\n",
      "Epoch 7/50\n",
      "713/713 - 59s - loss: 0.0017 - 59s/epoch - 83ms/step\n",
      "Epoch 8/50\n",
      "713/713 - 60s - loss: 0.0017 - 60s/epoch - 85ms/step\n",
      "Epoch 9/50\n",
      "713/713 - 60s - loss: 0.0016 - 60s/epoch - 84ms/step\n",
      "Epoch 10/50\n",
      "713/713 - 60s - loss: 0.0017 - 60s/epoch - 84ms/step\n",
      "Epoch 11/50\n",
      "713/713 - 60s - loss: 0.0016 - 60s/epoch - 84ms/step\n",
      "Epoch 12/50\n",
      "713/713 - 60s - loss: 0.0016 - 60s/epoch - 84ms/step\n",
      "Epoch 13/50\n",
      "713/713 - 59s - loss: 0.0016 - 59s/epoch - 83ms/step\n",
      "Epoch 14/50\n",
      "713/713 - 59s - loss: 0.0016 - 59s/epoch - 83ms/step\n",
      "Epoch 15/50\n",
      "713/713 - 60s - loss: 0.0016 - 60s/epoch - 84ms/step\n",
      "Epoch 16/50\n",
      "713/713 - 59s - loss: 0.0016 - 59s/epoch - 82ms/step\n",
      "Epoch 17/50\n",
      "713/713 - 59s - loss: 0.0016 - 59s/epoch - 82ms/step\n",
      "Epoch 18/50\n",
      "713/713 - 59s - loss: 0.0016 - 59s/epoch - 82ms/step\n",
      "Epoch 19/50\n"
     ]
    }
   ],
   "source": [
    "from sklearn.preprocessing import MinMaxScaler\n",
    "from keras.models import Sequential\n",
    "from keras.layers import Dense, LSTM\n",
    "\n",
    "# Normalizing the features\n",
    "battery_scaler = MinMaxScaler(feature_range=(0, 1))\n",
    "grid_scaler = MinMaxScaler(feature_range=(0, 1))\n",
    "\n",
    "df['battery_scaled'] = battery_scaler.fit_transform(np.array(df['battery']).reshape(-1,1))\n",
    "df['grid_scaled'] = grid_scaler.fit_transform(np.array(df['grid']).reshape(-1,1))\n",
    "\n",
    "scaled_data = np.hstack((df['battery_scaled'].values.reshape(-1,1), df['grid_scaled'].values.reshape(-1,1)))\n",
    "\n",
    "\n",
    "# Create sequences of 3 previous time steps (t-2, t-1, t) to predict the next time step (t+1)\n",
    "def create_sequences(data, seq_length):\n",
    "    xs = []\n",
    "    ys = []\n",
    "\n",
    "    for i in range(len(data) - seq_length - 1):\n",
    "        x = data[i:(i + seq_length)]\n",
    "        y = data[i + seq_length]\n",
    "        xs.append(x)\n",
    "        ys.append(y)\n",
    "\n",
    "    return np.array(xs), np.array(ys)\n",
    "\n",
    "seq_length = 672\n",
    "X, y = create_sequences(scaled_data, seq_length)\n",
    "\n",
    "# Reshape y for later compatibility with a keras method\n",
    "y = y[:,1]\n",
    "\n",
    "# Split the data into training (80%) and test sets (20%)\n",
    "# We dont use the train_test_split because we want to preserve the temporal order of the data because -> timeseries\n",
    "split = int(0.8 * len(X))\n",
    "X_train = X[:split]\n",
    "y_train = y[:split]\n",
    "X_test = X[split:]\n",
    "y_test = y[split:]\n",
    "\n",
    "# Define the LSTM model\n",
    "model = Sequential()\n",
    "model.add(LSTM(50, activation='relu', input_shape=(X_train.shape[1], X_train.shape[2])))\n",
    "model.add(Dense(1))\n",
    "model.compile(optimizer='adam', loss='mse')\n",
    "\n",
    "# Train the model\n",
    "model.fit(X_train, y_train, epochs=50, verbose=2)\n",
    "\n",
    "# Make predictions\n",
    "train_predict = model.predict(X_train)\n",
    "test_predict = model.predict(X_test)\n",
    "\n",
    "# Transform back to original form\n",
    "train_predict_transformed = grid_scaler.inverse_transform(train_predict)\n",
    "test_predict_transformed = grid_scaler.inverse_transform(test_predict)\n",
    "\n",
    "\n",
    "\n"
   ]
  },
  {
   "cell_type": "code",
   "execution_count": 6,
   "metadata": {
    "ExecuteTime": {
     "end_time": "2023-06-01T22:19:09.684296Z",
     "start_time": "2023-06-01T22:15:24.422683Z"
    }
   },
   "outputs": [
    {
     "name": "stdout",
     "output_type": "stream",
     "text": [
      "Epoch 1/50\n",
      "729/729 - 5s - loss: 0.0027 - 5s/epoch - 7ms/step\n",
      "Epoch 2/50\n",
      "729/729 - 5s - loss: 0.0020 - 5s/epoch - 6ms/step\n",
      "Epoch 3/50\n",
      "729/729 - 5s - loss: 0.0019 - 5s/epoch - 6ms/step\n",
      "Epoch 4/50\n",
      "729/729 - 5s - loss: 0.0018 - 5s/epoch - 6ms/step\n",
      "Epoch 5/50\n",
      "729/729 - 5s - loss: 0.0018 - 5s/epoch - 6ms/step\n",
      "Epoch 6/50\n",
      "729/729 - 4s - loss: 0.0018 - 4s/epoch - 6ms/step\n",
      "Epoch 7/50\n",
      "729/729 - 4s - loss: 0.0018 - 4s/epoch - 6ms/step\n",
      "Epoch 8/50\n",
      "729/729 - 4s - loss: 0.0018 - 4s/epoch - 6ms/step\n",
      "Epoch 9/50\n",
      "729/729 - 4s - loss: 0.0018 - 4s/epoch - 6ms/step\n",
      "Epoch 10/50\n",
      "729/729 - 4s - loss: 0.0017 - 4s/epoch - 6ms/step\n",
      "Epoch 11/50\n",
      "729/729 - 4s - loss: 0.0017 - 4s/epoch - 6ms/step\n",
      "Epoch 12/50\n",
      "729/729 - 4s - loss: 0.0017 - 4s/epoch - 6ms/step\n",
      "Epoch 13/50\n",
      "729/729 - 4s - loss: 0.0017 - 4s/epoch - 6ms/step\n",
      "Epoch 14/50\n",
      "729/729 - 4s - loss: 0.0017 - 4s/epoch - 6ms/step\n",
      "Epoch 15/50\n",
      "729/729 - 4s - loss: 0.0017 - 4s/epoch - 6ms/step\n",
      "Epoch 16/50\n",
      "729/729 - 4s - loss: 0.0017 - 4s/epoch - 6ms/step\n",
      "Epoch 17/50\n",
      "729/729 - 4s - loss: 0.0017 - 4s/epoch - 6ms/step\n",
      "Epoch 18/50\n",
      "729/729 - 4s - loss: 0.0017 - 4s/epoch - 6ms/step\n",
      "Epoch 19/50\n",
      "729/729 - 4s - loss: 0.0017 - 4s/epoch - 6ms/step\n",
      "Epoch 20/50\n",
      "729/729 - 4s - loss: 0.0017 - 4s/epoch - 6ms/step\n",
      "Epoch 21/50\n",
      "729/729 - 5s - loss: 0.0017 - 5s/epoch - 6ms/step\n",
      "Epoch 22/50\n",
      "729/729 - 5s - loss: 0.0017 - 5s/epoch - 6ms/step\n",
      "Epoch 23/50\n",
      "729/729 - 4s - loss: 0.0017 - 4s/epoch - 6ms/step\n",
      "Epoch 24/50\n",
      "729/729 - 4s - loss: 0.0017 - 4s/epoch - 6ms/step\n",
      "Epoch 25/50\n",
      "729/729 - 4s - loss: 0.0017 - 4s/epoch - 6ms/step\n",
      "Epoch 26/50\n",
      "729/729 - 4s - loss: 0.0017 - 4s/epoch - 6ms/step\n",
      "Epoch 27/50\n",
      "729/729 - 4s - loss: 0.0017 - 4s/epoch - 6ms/step\n",
      "Epoch 28/50\n",
      "729/729 - 4s - loss: 0.0017 - 4s/epoch - 6ms/step\n",
      "Epoch 29/50\n",
      "729/729 - 4s - loss: 0.0017 - 4s/epoch - 6ms/step\n",
      "Epoch 30/50\n",
      "729/729 - 4s - loss: 0.0016 - 4s/epoch - 6ms/step\n",
      "Epoch 31/50\n",
      "729/729 - 5s - loss: 0.0016 - 5s/epoch - 6ms/step\n",
      "Epoch 32/50\n",
      "729/729 - 5s - loss: 0.0016 - 5s/epoch - 6ms/step\n",
      "Epoch 33/50\n",
      "729/729 - 4s - loss: 0.0016 - 4s/epoch - 6ms/step\n",
      "Epoch 34/50\n",
      "729/729 - 4s - loss: 0.0016 - 4s/epoch - 6ms/step\n",
      "Epoch 35/50\n",
      "729/729 - 4s - loss: 0.0016 - 4s/epoch - 6ms/step\n",
      "Epoch 36/50\n",
      "729/729 - 4s - loss: 0.0016 - 4s/epoch - 6ms/step\n",
      "Epoch 37/50\n",
      "729/729 - 4s - loss: 0.0016 - 4s/epoch - 6ms/step\n",
      "Epoch 38/50\n",
      "729/729 - 4s - loss: 0.0016 - 4s/epoch - 6ms/step\n",
      "Epoch 39/50\n",
      "729/729 - 4s - loss: 0.0016 - 4s/epoch - 6ms/step\n",
      "Epoch 40/50\n",
      "729/729 - 4s - loss: 0.0016 - 4s/epoch - 6ms/step\n",
      "Epoch 41/50\n",
      "729/729 - 5s - loss: 0.0016 - 5s/epoch - 6ms/step\n",
      "Epoch 42/50\n",
      "729/729 - 4s - loss: 0.0016 - 4s/epoch - 6ms/step\n",
      "Epoch 43/50\n",
      "729/729 - 4s - loss: 0.0016 - 4s/epoch - 6ms/step\n",
      "Epoch 44/50\n",
      "729/729 - 5s - loss: 0.0016 - 5s/epoch - 6ms/step\n",
      "Epoch 45/50\n",
      "729/729 - 5s - loss: 0.0016 - 5s/epoch - 6ms/step\n",
      "Epoch 46/50\n",
      "729/729 - 4s - loss: 0.0016 - 4s/epoch - 6ms/step\n",
      "Epoch 47/50\n",
      "729/729 - 4s - loss: 0.0016 - 4s/epoch - 6ms/step\n",
      "Epoch 48/50\n",
      "729/729 - 4s - loss: 0.0016 - 4s/epoch - 6ms/step\n",
      "Epoch 49/50\n",
      "729/729 - 4s - loss: 0.0015 - 4s/epoch - 6ms/step\n",
      "Epoch 50/50\n",
      "729/729 - 4s - loss: 0.0015 - 4s/epoch - 6ms/step\n",
      "729/729 [==============================] - 1s 2ms/step\n",
      "183/183 [==============================] - 0s 2ms/step\n"
     ]
    }
   ],
   "source": [
    "from sklearn.preprocessing import MinMaxScaler\n",
    "from keras.models import Sequential\n",
    "from keras.layers import Dense, LSTM\n",
    "\n",
    "# Normalizing the features\n",
    "battery_scaler = MinMaxScaler(feature_range=(0, 1))\n",
    "grid_scaler = MinMaxScaler(feature_range=(0, 1))\n",
    "#holiday_scaler = MinMaxScaler(feature_range=(0, 1))  # scaler for holiday\n",
    "\n",
    "df['battery_scaled'] = battery_scaler.fit_transform(np.array(df['battery']).reshape(-1,1))\n",
    "df['grid_scaled'] = grid_scaler.fit_transform(np.array(df['grid']).reshape(-1,1))\n",
    "#df['holiday_scaled'] = holiday_scaler.fit_transform(np.array(df['holiday']).reshape(-1,1))  # scale holiday\n",
    "\n",
    "scaled_data = np.hstack((df['battery_scaled'].values.reshape(-1,1), df['grid_scaled'].values.reshape(-1,1), df['holiday'].values.reshape(-1,1)))  # add holiday to the data\n",
    "\n",
    "# Create sequences of 3 previous time steps (t-2, t-1, t) to predict the next time step (t+1)\n",
    "def create_sequences(data, seq_length):\n",
    "    xs = []\n",
    "    ys = []\n",
    "\n",
    "    for i in range(len(data) - seq_length - 1):\n",
    "        x = data[i:(i + seq_length)]\n",
    "        y = data[i + seq_length]\n",
    "        xs.append(x)\n",
    "        ys.append(y)\n",
    "\n",
    "    return np.array(xs), np.array(ys)\n",
    "\n",
    "seq_length = 50\n",
    "X, y = create_sequences(scaled_data, seq_length)\n",
    "\n",
    "# Reshape y for later compatibility with a keras method\n",
    "y = y[:,1]\n",
    "\n",
    "# Split the data into training (80%) and test sets (20%)\n",
    "# We dont use the train_test_split because we want to preserve the temporal order of the data because -> timeseries\n",
    "split = int(0.8 * len(X))\n",
    "X_train = X[:split]\n",
    "y_train = y[:split]\n",
    "X_test = X[split:]\n",
    "y_test = y[split:]\n",
    "\n",
    "# Define the LSTM model\n",
    "model = Sequential()\n",
    "model.add(LSTM(50, activation='relu', input_shape=(X_train.shape[1], X_train.shape[2])))\n",
    "model.add(Dense(1))\n",
    "model.compile(optimizer='adam', loss='mse')\n",
    "\n",
    "# Train the model\n",
    "model.fit(X_train, y_train, epochs=50, verbose=2)\n",
    "\n",
    "# Make predictions\n",
    "train_predict = model.predict(X_train)\n",
    "test_predict = model.predict(X_test)\n",
    "\n",
    "# Transform back to original form\n",
    "train_predict_transformed = grid_scaler.inverse_transform(train_predict)\n",
    "test_predict_transformed = grid_scaler.inverse_transform(test_predict)\n"
   ]
  },
  {
   "cell_type": "code",
   "execution_count": 5,
   "metadata": {
    "ExecuteTime": {
     "end_time": "2023-06-01T22:14:57.266725Z",
     "start_time": "2023-06-01T22:14:57.199093Z"
    }
   },
   "outputs": [
    {
     "name": "stdout",
     "output_type": "stream",
     "text": [
      "Train Score: 0.03795 RMSE\n",
      "Test Score: 0.03786 RMSE\n"
     ]
    }
   ],
   "source": [
    "from sklearn.metrics import mean_squared_error\n",
    "import math\n",
    "\n",
    "# calculate root mean squared error\n",
    "train_score = math.sqrt(mean_squared_error(y_train, train_predict[:,0]))\n",
    "print('Train Score: %.5f RMSE' % (train_score))\n",
    "\n",
    "test_score = math.sqrt(mean_squared_error(y_test, test_predict[:,0]))\n",
    "print('Test Score: %.5f RMSE' % (test_score))\n"
   ]
  },
  {
   "cell_type": "code",
   "execution_count": 73,
   "metadata": {},
   "outputs": [
    {
     "name": "stdout",
     "output_type": "stream",
     "text": [
      "Train Score: 0.04376 RMSE\n",
      "Test Score: 0.02744 RMSE\n"
     ]
    }
   ],
   "source": [
    "from sklearn.metrics import mean_squared_error\n",
    "import math\n",
    "\n",
    "# calculate root mean squared error\n",
    "train_score = math.sqrt(mean_squared_error(y_train, train_predict[:,0]))\n",
    "print('Train Score: %.5f RMSE' % (train_score))\n",
    "\n",
    "test_score = math.sqrt(mean_squared_error(y_test, test_predict[:,0]))\n",
    "print('Test Score: %.5f RMSE' % (test_score))\n"
   ]
  },
  {
   "cell_type": "code",
   "execution_count": 71,
   "metadata": {},
   "outputs": [
    {
     "name": "stdout",
     "output_type": "stream",
     "text": [
      "Train Score: 0.04377 RMSE\n",
      "Test Score: 0.02669 RMSE\n"
     ]
    }
   ],
   "source": [
    "from sklearn.metrics import mean_squared_error\n",
    "import math\n",
    "# MIT HOLIDAY\n",
    "# calculate root mean squared error\n",
    "train_score = math.sqrt(mean_squared_error(y_train, train_predict[:,0]))\n",
    "print('Train Score: %.5f RMSE' % (train_score))\n",
    "\n",
    "test_score = math.sqrt(mean_squared_error(y_test, test_predict[:,0]))\n",
    "print('Test Score: %.5f RMSE' % (test_score))\n"
   ]
  },
  {
   "cell_type": "code",
   "execution_count": 7,
   "metadata": {
    "ExecuteTime": {
     "end_time": "2023-06-01T22:19:39.368383Z",
     "start_time": "2023-06-01T22:19:39.363074Z"
    }
   },
   "outputs": [
    {
     "name": "stdout",
     "output_type": "stream",
     "text": [
      "Train Score: 0.03852 RMSE\n",
      "Test Score: 0.03881 RMSE\n"
     ]
    }
   ],
   "source": [
    "from sklearn.metrics import mean_squared_error\n",
    "import math\n",
    "# MIT HOLIDAY\n",
    "# calculate root mean squared error\n",
    "train_score = math.sqrt(mean_squared_error(y_train, train_predict[:,0]))\n",
    "print('Train Score: %.5f RMSE' % (train_score))\n",
    "\n",
    "test_score = math.sqrt(mean_squared_error(y_test, test_predict[:,0]))\n",
    "print('Test Score: %.5f RMSE' % (test_score))\n"
   ]
  },
  {
   "cell_type": "code",
   "execution_count": 8,
   "metadata": {
    "ExecuteTime": {
     "end_time": "2023-06-01T22:24:26.768963Z",
     "start_time": "2023-06-01T22:24:26.758975Z"
    }
   },
   "outputs": [
    {
     "name": "stdout",
     "output_type": "stream",
     "text": [
      "0.026595454545454547\n",
      "0.030137385587679793\n",
      "1.5153992424242424\n",
      "2.0263317230858635\n"
     ]
    }
   ],
   "source": [
    "print(df.loc[df['holiday'] == 1, 'grid'].mean())\n",
    "\n",
    "print(df.loc[df['holiday'] == 0, 'grid'].mean())\n",
    "\n",
    "print(df.loc[df['holiday'] == 1, 'battery'].mean())\n",
    "\n",
    "print(df.loc[df['holiday'] == 0, 'battery'].mean())\n"
   ]
  },
  {
   "cell_type": "code",
   "execution_count": 9,
   "metadata": {
    "ExecuteTime": {
     "end_time": "2023-06-02T16:41:25.990140Z",
     "start_time": "2023-06-02T16:41:25.051606Z"
    }
   },
   "outputs": [
    {
     "data": {
      "image/png": "[encoded data removed]",
      "text/plain": [
       "<Figure size 1400x600 with 1 Axes>"
      ]
     },
     "metadata": {},
     "output_type": "display_data"
    }
   ],
   "source": [
    "import matplotlib.pyplot as plt\n",
    "import matplotlib.dates as mdates\n",
    "\n",
    "plt.figure(figsize=(14, 6))\n",
    "\n",
    "# plot battery\n",
    "plt.plot(df['von'], df['battery'], label='Battery')\n",
    "\n",
    "# plot grid\n",
    "plt.plot(df['von'], df['grid'], label='Grid')\n",
    "\n",
    "# highlighting the holiday days\n",
    "holiday_days = df[df['holiday']==1]['von']\n",
    "for day in holiday_days:\n",
    "    plt.axvspan(day, day+pd.DateOffset(days=1), facecolor='r', alpha=1)\n",
    "\n",
    "plt.title('Battery and Grid values over time')\n",
    "plt.xlabel('Time')\n",
    "plt.ylabel('Values')\n",
    "plt.legend(loc='best')\n",
    "plt.grid(True)\n",
    "plt.show()\n"
   ]
  },
  {
   "cell_type": "code",
   "execution_count": 32,
   "metadata": {
    "ExecuteTime": {
     "end_time": "2023-06-02T17:10:18.181179Z",
     "start_time": "2023-06-02T17:10:17.953007Z"
    }
   },
   "outputs": [
    {
     "ename": "TypeError",
     "evalue": "datetime64 type does not support sum operations",
     "output_type": "error",
     "traceback": [
      "\u001b[0;31m---------------------------------------------------------------------------\u001b[0m",
      "\u001b[0;31mTypeError\u001b[0m                                 Traceback (most recent call last)",
      "Cell \u001b[0;32mIn[32], line 7\u001b[0m\n\u001b[1;32m      4\u001b[0m df[\u001b[38;5;124m'\u001b[39m\u001b[38;5;124myear_month\u001b[39m\u001b[38;5;124m'\u001b[39m] \u001b[38;5;241m=\u001b[39m df[\u001b[38;5;124m'\u001b[39m\u001b[38;5;124mvon\u001b[39m\u001b[38;5;124m'\u001b[39m]\u001b[38;5;241m.\u001b[39mdt\u001b[38;5;241m.\u001b[39mto_period(\u001b[38;5;124m'\u001b[39m\u001b[38;5;124mM\u001b[39m\u001b[38;5;124m'\u001b[39m)\n\u001b[1;32m      6\u001b[0m \u001b[38;5;66;03m# Then group by year and month and calculate the sum\u001b[39;00m\n\u001b[0;32m----> 7\u001b[0m monthly_data \u001b[38;5;241m=\u001b[39m \u001b[43mdf\u001b[49m\u001b[38;5;241;43m.\u001b[39;49m\u001b[43mgroupby\u001b[49m\u001b[43m(\u001b[49m\u001b[38;5;124;43m'\u001b[39;49m\u001b[38;5;124;43myear_month\u001b[39;49m\u001b[38;5;124;43m'\u001b[39;49m\u001b[43m)\u001b[49m\u001b[38;5;241;43m.\u001b[39;49m\u001b[43msum\u001b[49m\u001b[43m(\u001b[49m\u001b[43m)\u001b[49m\n\u001b[1;32m      9\u001b[0m \u001b[38;5;66;03m# Create a bar chart\u001b[39;00m\n\u001b[1;32m     10\u001b[0m fig \u001b[38;5;241m=\u001b[39m go\u001b[38;5;241m.\u001b[39mFigure()\n",
      "File \u001b[0;32m/opt/homebrew/lib/python3.11/site-packages/pandas/core/groupby/groupby.py:2263\u001b[0m, in \u001b[0;36mGroupBy.sum\u001b[0;34m(self, numeric_only, min_count, engine, engine_kwargs)\u001b[0m\n\u001b[1;32m   2258\u001b[0m \u001b[38;5;28;01melse\u001b[39;00m:\n\u001b[1;32m   2259\u001b[0m     \u001b[38;5;66;03m# If we are grouping on categoricals we want unobserved categories to\u001b[39;00m\n\u001b[1;32m   2260\u001b[0m     \u001b[38;5;66;03m# return zero, rather than the default of NaN which the reindexing in\u001b[39;00m\n\u001b[1;32m   2261\u001b[0m     \u001b[38;5;66;03m# _agg_general() returns. GH #31422\u001b[39;00m\n\u001b[1;32m   2262\u001b[0m     \u001b[38;5;28;01mwith\u001b[39;00m com\u001b[38;5;241m.\u001b[39mtemp_setattr(\u001b[38;5;28mself\u001b[39m, \u001b[38;5;124m\"\u001b[39m\u001b[38;5;124mobserved\u001b[39m\u001b[38;5;124m\"\u001b[39m, \u001b[38;5;28;01mTrue\u001b[39;00m):\n\u001b[0;32m-> 2263\u001b[0m         result \u001b[38;5;241m=\u001b[39m \u001b[38;5;28;43mself\u001b[39;49m\u001b[38;5;241;43m.\u001b[39;49m\u001b[43m_agg_general\u001b[49m\u001b[43m(\u001b[49m\n\u001b[1;32m   2264\u001b[0m \u001b[43m            \u001b[49m\u001b[43mnumeric_only\u001b[49m\u001b[38;5;241;43m=\u001b[39;49m\u001b[43mnumeric_only\u001b[49m\u001b[43m,\u001b[49m\n\u001b[1;32m   2265\u001b[0m \u001b[43m            \u001b[49m\u001b[43mmin_count\u001b[49m\u001b[38;5;241;43m=\u001b[39;49m\u001b[43mmin_count\u001b[49m\u001b[43m,\u001b[49m\n\u001b[1;32m   2266\u001b[0m \u001b[43m            \u001b[49m\u001b[43malias\u001b[49m\u001b[38;5;241;43m=\u001b[39;49m\u001b[38;5;124;43m\"\u001b[39;49m\u001b[38;5;124;43msum\u001b[39;49m\u001b[38;5;124;43m\"\u001b[39;49m\u001b[43m,\u001b[49m\n\u001b[1;32m   2267\u001b[0m \u001b[43m            \u001b[49m\u001b[43mnpfunc\u001b[49m\u001b[38;5;241;43m=\u001b[39;49m\u001b[43mnp\u001b[49m\u001b[38;5;241;43m.\u001b[39;49m\u001b[43msum\u001b[49m\u001b[43m,\u001b[49m\n\u001b[1;32m   2268\u001b[0m \u001b[43m        \u001b[49m\u001b[43m)\u001b[49m\n\u001b[1;32m   2270\u001b[0m     \u001b[38;5;28;01mreturn\u001b[39;00m \u001b[38;5;28mself\u001b[39m\u001b[38;5;241m.\u001b[39m_reindex_output(result, fill_value\u001b[38;5;241m=\u001b[39m\u001b[38;5;241m0\u001b[39m)\n",
      "File \u001b[0;32m/opt/homebrew/lib/python3.11/site-packages/pandas/core/groupby/groupby.py:1422\u001b[0m, in \u001b[0;36mGroupBy._agg_general\u001b[0;34m(self, numeric_only, min_count, alias, npfunc)\u001b[0m\n\u001b[1;32m   1413\u001b[0m \u001b[38;5;129m@final\u001b[39m\n\u001b[1;32m   1414\u001b[0m \u001b[38;5;28;01mdef\u001b[39;00m \u001b[38;5;21m_agg_general\u001b[39m(\n\u001b[1;32m   1415\u001b[0m     \u001b[38;5;28mself\u001b[39m,\n\u001b[0;32m   (...)\u001b[0m\n\u001b[1;32m   1420\u001b[0m     npfunc: Callable,\n\u001b[1;32m   1421\u001b[0m ):\n\u001b[0;32m-> 1422\u001b[0m     result \u001b[38;5;241m=\u001b[39m \u001b[38;5;28;43mself\u001b[39;49m\u001b[38;5;241;43m.\u001b[39;49m\u001b[43m_cython_agg_general\u001b[49m\u001b[43m(\u001b[49m\n\u001b[1;32m   1423\u001b[0m \u001b[43m        \u001b[49m\u001b[43mhow\u001b[49m\u001b[38;5;241;43m=\u001b[39;49m\u001b[43malias\u001b[49m\u001b[43m,\u001b[49m\n\u001b[1;32m   1424\u001b[0m \u001b[43m        \u001b[49m\u001b[43malt\u001b[49m\u001b[38;5;241;43m=\u001b[39;49m\u001b[43mnpfunc\u001b[49m\u001b[43m,\u001b[49m\n\u001b[1;32m   1425\u001b[0m \u001b[43m        \u001b[49m\u001b[43mnumeric_only\u001b[49m\u001b[38;5;241;43m=\u001b[39;49m\u001b[43mnumeric_only\u001b[49m\u001b[43m,\u001b[49m\n\u001b[1;32m   1426\u001b[0m \u001b[43m        \u001b[49m\u001b[43mmin_count\u001b[49m\u001b[38;5;241;43m=\u001b[39;49m\u001b[43mmin_count\u001b[49m\u001b[43m,\u001b[49m\n\u001b[1;32m   1427\u001b[0m \u001b[43m    \u001b[49m\u001b[43m)\u001b[49m\n\u001b[1;32m   1428\u001b[0m     \u001b[38;5;28;01mreturn\u001b[39;00m result\u001b[38;5;241m.\u001b[39m__finalize__(\u001b[38;5;28mself\u001b[39m\u001b[38;5;241m.\u001b[39mobj, method\u001b[38;5;241m=\u001b[39m\u001b[38;5;124m\"\u001b[39m\u001b[38;5;124mgroupby\u001b[39m\u001b[38;5;124m\"\u001b[39m)\n",
      "File \u001b[0;32m/opt/homebrew/lib/python3.11/site-packages/pandas/core/groupby/groupby.py:1507\u001b[0m, in \u001b[0;36mGroupBy._cython_agg_general\u001b[0;34m(self, how, alt, numeric_only, min_count, **kwargs)\u001b[0m\n\u001b[1;32m   1503\u001b[0m         result \u001b[38;5;241m=\u001b[39m \u001b[38;5;28mself\u001b[39m\u001b[38;5;241m.\u001b[39m_agg_py_fallback(values, ndim\u001b[38;5;241m=\u001b[39mdata\u001b[38;5;241m.\u001b[39mndim, alt\u001b[38;5;241m=\u001b[39malt)\n\u001b[1;32m   1505\u001b[0m     \u001b[38;5;28;01mreturn\u001b[39;00m result\n\u001b[0;32m-> 1507\u001b[0m new_mgr \u001b[38;5;241m=\u001b[39m \u001b[43mdata\u001b[49m\u001b[38;5;241;43m.\u001b[39;49m\u001b[43mgrouped_reduce\u001b[49m\u001b[43m(\u001b[49m\u001b[43marray_func\u001b[49m\u001b[43m)\u001b[49m\n\u001b[1;32m   1508\u001b[0m res \u001b[38;5;241m=\u001b[39m \u001b[38;5;28mself\u001b[39m\u001b[38;5;241m.\u001b[39m_wrap_agged_manager(new_mgr)\n\u001b[1;32m   1509\u001b[0m out \u001b[38;5;241m=\u001b[39m \u001b[38;5;28mself\u001b[39m\u001b[38;5;241m.\u001b[39m_wrap_aggregated_output(res)\n",
      "File \u001b[0;32m/opt/homebrew/lib/python3.11/site-packages/pandas/core/internals/managers.py:1506\u001b[0m, in \u001b[0;36mBlockManager.grouped_reduce\u001b[0;34m(self, func)\u001b[0m\n\u001b[1;32m   1504\u001b[0m             result_blocks \u001b[38;5;241m=\u001b[39m extend_blocks(applied, result_blocks)\n\u001b[1;32m   1505\u001b[0m     \u001b[38;5;28;01melse\u001b[39;00m:\n\u001b[0;32m-> 1506\u001b[0m         applied \u001b[38;5;241m=\u001b[39m \u001b[43mblk\u001b[49m\u001b[38;5;241;43m.\u001b[39;49m\u001b[43mapply\u001b[49m\u001b[43m(\u001b[49m\u001b[43mfunc\u001b[49m\u001b[43m)\u001b[49m\n\u001b[1;32m   1507\u001b[0m         result_blocks \u001b[38;5;241m=\u001b[39m extend_blocks(applied, result_blocks)\n\u001b[1;32m   1509\u001b[0m \u001b[38;5;28;01mif\u001b[39;00m \u001b[38;5;28mlen\u001b[39m(result_blocks) \u001b[38;5;241m==\u001b[39m \u001b[38;5;241m0\u001b[39m:\n",
      "File \u001b[0;32m/opt/homebrew/lib/python3.11/site-packages/pandas/core/internals/blocks.py:329\u001b[0m, in \u001b[0;36mBlock.apply\u001b[0;34m(self, func, **kwargs)\u001b[0m\n\u001b[1;32m    323\u001b[0m \u001b[38;5;129m@final\u001b[39m\n\u001b[1;32m    324\u001b[0m \u001b[38;5;28;01mdef\u001b[39;00m \u001b[38;5;21mapply\u001b[39m(\u001b[38;5;28mself\u001b[39m, func, \u001b[38;5;241m*\u001b[39m\u001b[38;5;241m*\u001b[39mkwargs) \u001b[38;5;241m-\u001b[39m\u001b[38;5;241m>\u001b[39m \u001b[38;5;28mlist\u001b[39m[Block]:\n\u001b[1;32m    325\u001b[0m \u001b[38;5;250m    \u001b[39m\u001b[38;5;124;03m\"\"\"\u001b[39;00m\n\u001b[1;32m    326\u001b[0m \u001b[38;5;124;03m    apply the function to my values; return a block if we are not\u001b[39;00m\n\u001b[1;32m    327\u001b[0m \u001b[38;5;124;03m    one\u001b[39;00m\n\u001b[1;32m    328\u001b[0m \u001b[38;5;124;03m    \"\"\"\u001b[39;00m\n\u001b[0;32m--> 329\u001b[0m     result \u001b[38;5;241m=\u001b[39m \u001b[43mfunc\u001b[49m\u001b[43m(\u001b[49m\u001b[38;5;28;43mself\u001b[39;49m\u001b[38;5;241;43m.\u001b[39;49m\u001b[43mvalues\u001b[49m\u001b[43m,\u001b[49m\u001b[43m \u001b[49m\u001b[38;5;241;43m*\u001b[39;49m\u001b[38;5;241;43m*\u001b[39;49m\u001b[43mkwargs\u001b[49m\u001b[43m)\u001b[49m\n\u001b[1;32m    331\u001b[0m     \u001b[38;5;28;01mreturn\u001b[39;00m \u001b[38;5;28mself\u001b[39m\u001b[38;5;241m.\u001b[39m_split_op_result(result)\n",
      "File \u001b[0;32m/opt/homebrew/lib/python3.11/site-packages/pandas/core/groupby/groupby.py:1490\u001b[0m, in \u001b[0;36mGroupBy._cython_agg_general.<locals>.array_func\u001b[0;34m(values)\u001b[0m\n\u001b[1;32m   1488\u001b[0m \u001b[38;5;28;01mdef\u001b[39;00m \u001b[38;5;21marray_func\u001b[39m(values: ArrayLike) \u001b[38;5;241m-\u001b[39m\u001b[38;5;241m>\u001b[39m ArrayLike:\n\u001b[1;32m   1489\u001b[0m     \u001b[38;5;28;01mtry\u001b[39;00m:\n\u001b[0;32m-> 1490\u001b[0m         result \u001b[38;5;241m=\u001b[39m \u001b[38;5;28;43mself\u001b[39;49m\u001b[38;5;241;43m.\u001b[39;49m\u001b[43mgrouper\u001b[49m\u001b[38;5;241;43m.\u001b[39;49m\u001b[43m_cython_operation\u001b[49m\u001b[43m(\u001b[49m\n\u001b[1;32m   1491\u001b[0m \u001b[43m            \u001b[49m\u001b[38;5;124;43m\"\u001b[39;49m\u001b[38;5;124;43maggregate\u001b[39;49m\u001b[38;5;124;43m\"\u001b[39;49m\u001b[43m,\u001b[49m\n\u001b[1;32m   1492\u001b[0m \u001b[43m            \u001b[49m\u001b[43mvalues\u001b[49m\u001b[43m,\u001b[49m\n\u001b[1;32m   1493\u001b[0m \u001b[43m            \u001b[49m\u001b[43mhow\u001b[49m\u001b[43m,\u001b[49m\n\u001b[1;32m   1494\u001b[0m \u001b[43m            \u001b[49m\u001b[43maxis\u001b[49m\u001b[38;5;241;43m=\u001b[39;49m\u001b[43mdata\u001b[49m\u001b[38;5;241;43m.\u001b[39;49m\u001b[43mndim\u001b[49m\u001b[43m \u001b[49m\u001b[38;5;241;43m-\u001b[39;49m\u001b[43m \u001b[49m\u001b[38;5;241;43m1\u001b[39;49m\u001b[43m,\u001b[49m\n\u001b[1;32m   1495\u001b[0m \u001b[43m            \u001b[49m\u001b[43mmin_count\u001b[49m\u001b[38;5;241;43m=\u001b[39;49m\u001b[43mmin_count\u001b[49m\u001b[43m,\u001b[49m\n\u001b[1;32m   1496\u001b[0m \u001b[43m            \u001b[49m\u001b[38;5;241;43m*\u001b[39;49m\u001b[38;5;241;43m*\u001b[39;49m\u001b[43mkwargs\u001b[49m\u001b[43m,\u001b[49m\n\u001b[1;32m   1497\u001b[0m \u001b[43m        \u001b[49m\u001b[43m)\u001b[49m\n\u001b[1;32m   1498\u001b[0m     \u001b[38;5;28;01mexcept\u001b[39;00m \u001b[38;5;167;01mNotImplementedError\u001b[39;00m:\n\u001b[1;32m   1499\u001b[0m         \u001b[38;5;66;03m# generally if we have numeric_only=False\u001b[39;00m\n\u001b[1;32m   1500\u001b[0m         \u001b[38;5;66;03m# and non-applicable functions\u001b[39;00m\n\u001b[1;32m   1501\u001b[0m         \u001b[38;5;66;03m# try to python agg\u001b[39;00m\n\u001b[1;32m   1502\u001b[0m         \u001b[38;5;66;03m# TODO: shouldn't min_count matter?\u001b[39;00m\n\u001b[1;32m   1503\u001b[0m         result \u001b[38;5;241m=\u001b[39m \u001b[38;5;28mself\u001b[39m\u001b[38;5;241m.\u001b[39m_agg_py_fallback(values, ndim\u001b[38;5;241m=\u001b[39mdata\u001b[38;5;241m.\u001b[39mndim, alt\u001b[38;5;241m=\u001b[39malt)\n",
      "File \u001b[0;32m/opt/homebrew/lib/python3.11/site-packages/pandas/core/groupby/ops.py:959\u001b[0m, in \u001b[0;36mBaseGrouper._cython_operation\u001b[0;34m(self, kind, values, how, axis, min_count, **kwargs)\u001b[0m\n\u001b[1;32m    957\u001b[0m ids, _, _ \u001b[38;5;241m=\u001b[39m \u001b[38;5;28mself\u001b[39m\u001b[38;5;241m.\u001b[39mgroup_info\n\u001b[1;32m    958\u001b[0m ngroups \u001b[38;5;241m=\u001b[39m \u001b[38;5;28mself\u001b[39m\u001b[38;5;241m.\u001b[39mngroups\n\u001b[0;32m--> 959\u001b[0m \u001b[38;5;28;01mreturn\u001b[39;00m \u001b[43mcy_op\u001b[49m\u001b[38;5;241;43m.\u001b[39;49m\u001b[43mcython_operation\u001b[49m\u001b[43m(\u001b[49m\n\u001b[1;32m    960\u001b[0m \u001b[43m    \u001b[49m\u001b[43mvalues\u001b[49m\u001b[38;5;241;43m=\u001b[39;49m\u001b[43mvalues\u001b[49m\u001b[43m,\u001b[49m\n\u001b[1;32m    961\u001b[0m \u001b[43m    \u001b[49m\u001b[43maxis\u001b[49m\u001b[38;5;241;43m=\u001b[39;49m\u001b[43maxis\u001b[49m\u001b[43m,\u001b[49m\n\u001b[1;32m    962\u001b[0m \u001b[43m    \u001b[49m\u001b[43mmin_count\u001b[49m\u001b[38;5;241;43m=\u001b[39;49m\u001b[43mmin_count\u001b[49m\u001b[43m,\u001b[49m\n\u001b[1;32m    963\u001b[0m \u001b[43m    \u001b[49m\u001b[43mcomp_ids\u001b[49m\u001b[38;5;241;43m=\u001b[39;49m\u001b[43mids\u001b[49m\u001b[43m,\u001b[49m\n\u001b[1;32m    964\u001b[0m \u001b[43m    \u001b[49m\u001b[43mngroups\u001b[49m\u001b[38;5;241;43m=\u001b[39;49m\u001b[43mngroups\u001b[49m\u001b[43m,\u001b[49m\n\u001b[1;32m    965\u001b[0m \u001b[43m    \u001b[49m\u001b[38;5;241;43m*\u001b[39;49m\u001b[38;5;241;43m*\u001b[39;49m\u001b[43mkwargs\u001b[49m\u001b[43m,\u001b[49m\n\u001b[1;32m    966\u001b[0m \u001b[43m\u001b[49m\u001b[43m)\u001b[49m\n",
      "File \u001b[0;32m/opt/homebrew/lib/python3.11/site-packages/pandas/core/groupby/ops.py:645\u001b[0m, in \u001b[0;36mWrappedCythonOp.cython_operation\u001b[0;34m(self, values, axis, min_count, comp_ids, ngroups, **kwargs)\u001b[0m\n\u001b[1;32m    641\u001b[0m is_numeric \u001b[38;5;241m=\u001b[39m is_numeric_dtype(dtype)\n\u001b[1;32m    643\u001b[0m \u001b[38;5;66;03m# can we do this operation with our cython functions\u001b[39;00m\n\u001b[1;32m    644\u001b[0m \u001b[38;5;66;03m# if not raise NotImplementedError\u001b[39;00m\n\u001b[0;32m--> 645\u001b[0m \u001b[38;5;28;43mself\u001b[39;49m\u001b[38;5;241;43m.\u001b[39;49m\u001b[43m_disallow_invalid_ops\u001b[49m\u001b[43m(\u001b[49m\u001b[43mdtype\u001b[49m\u001b[43m,\u001b[49m\u001b[43m \u001b[49m\u001b[43mis_numeric\u001b[49m\u001b[43m)\u001b[49m\n\u001b[1;32m    647\u001b[0m \u001b[38;5;28;01mif\u001b[39;00m \u001b[38;5;129;01mnot\u001b[39;00m \u001b[38;5;28misinstance\u001b[39m(values, np\u001b[38;5;241m.\u001b[39mndarray):\n\u001b[1;32m    648\u001b[0m     \u001b[38;5;66;03m# i.e. ExtensionArray\u001b[39;00m\n\u001b[1;32m    649\u001b[0m     \u001b[38;5;28;01mreturn\u001b[39;00m \u001b[38;5;28mself\u001b[39m\u001b[38;5;241m.\u001b[39m_ea_wrap_cython_operation(\n\u001b[1;32m    650\u001b[0m         values,\n\u001b[1;32m    651\u001b[0m         min_count\u001b[38;5;241m=\u001b[39mmin_count,\n\u001b[0;32m   (...)\u001b[0m\n\u001b[1;32m    654\u001b[0m         \u001b[38;5;241m*\u001b[39m\u001b[38;5;241m*\u001b[39mkwargs,\n\u001b[1;32m    655\u001b[0m     )\n",
      "File \u001b[0;32m/opt/homebrew/lib/python3.11/site-packages/pandas/core/groupby/ops.py:257\u001b[0m, in \u001b[0;36mWrappedCythonOp._disallow_invalid_ops\u001b[0;34m(self, dtype, is_numeric)\u001b[0m\n\u001b[1;32m    254\u001b[0m \u001b[38;5;28;01melif\u001b[39;00m is_datetime64_any_dtype(dtype):\n\u001b[1;32m    255\u001b[0m     \u001b[38;5;66;03m# Adding/multiplying datetimes is not valid\u001b[39;00m\n\u001b[1;32m    256\u001b[0m     \u001b[38;5;28;01mif\u001b[39;00m how \u001b[38;5;129;01min\u001b[39;00m [\u001b[38;5;124m\"\u001b[39m\u001b[38;5;124msum\u001b[39m\u001b[38;5;124m\"\u001b[39m, \u001b[38;5;124m\"\u001b[39m\u001b[38;5;124mprod\u001b[39m\u001b[38;5;124m\"\u001b[39m, \u001b[38;5;124m\"\u001b[39m\u001b[38;5;124mcumsum\u001b[39m\u001b[38;5;124m\"\u001b[39m, \u001b[38;5;124m\"\u001b[39m\u001b[38;5;124mcumprod\u001b[39m\u001b[38;5;124m\"\u001b[39m]:\n\u001b[0;32m--> 257\u001b[0m         \u001b[38;5;28;01mraise\u001b[39;00m \u001b[38;5;167;01mTypeError\u001b[39;00m(\u001b[38;5;124mf\u001b[39m\u001b[38;5;124m\"\u001b[39m\u001b[38;5;124mdatetime64 type does not support \u001b[39m\u001b[38;5;132;01m{\u001b[39;00mhow\u001b[38;5;132;01m}\u001b[39;00m\u001b[38;5;124m operations\u001b[39m\u001b[38;5;124m\"\u001b[39m)\n\u001b[1;32m    258\u001b[0m \u001b[38;5;28;01melif\u001b[39;00m is_period_dtype(dtype):\n\u001b[1;32m    259\u001b[0m     \u001b[38;5;66;03m# Adding/multiplying Periods is not valid\u001b[39;00m\n\u001b[1;32m    260\u001b[0m     \u001b[38;5;28;01mif\u001b[39;00m how \u001b[38;5;129;01min\u001b[39;00m [\u001b[38;5;124m\"\u001b[39m\u001b[38;5;124msum\u001b[39m\u001b[38;5;124m\"\u001b[39m, \u001b[38;5;124m\"\u001b[39m\u001b[38;5;124mprod\u001b[39m\u001b[38;5;124m\"\u001b[39m, \u001b[38;5;124m\"\u001b[39m\u001b[38;5;124mcumsum\u001b[39m\u001b[38;5;124m\"\u001b[39m, \u001b[38;5;124m\"\u001b[39m\u001b[38;5;124mcumprod\u001b[39m\u001b[38;5;124m\"\u001b[39m]:\n",
      "\u001b[0;31mTypeError\u001b[0m: datetime64 type does not support sum operations"
     ]
    }
   ],
   "source": [
    "import plotly.graph_objects as go\n",
    "\n",
    "# First, create a new column for year and month\n",
    "df['year_month'] = df['von'].dt.to_period('M')\n",
    "\n",
    "# Then group by year and month and calculate the sum\n",
    "monthly_data = df.groupby('year_month').sum()\n",
    "\n",
    "# Create a bar chart\n",
    "fig = go.Figure()\n",
    "fig.add_trace(go.Bar(x=monthly_data.index.astype(str), y=monthly_data['battery'], name='Battery'))\n",
    "fig.add_trace(go.Bar(x=monthly_data.index.astype(str), y=monthly_data['grid'], name='Grid'))\n",
    "\n",
    "# Customize layout\n",
    "fig.update_layout(\n",
    "    title='Monthly Consumption',\n",
    "    xaxis_title='Month',\n",
    "    yaxis_title='Consumption',\n",
    "    barmode='group'  # 'group' will stack values\n",
    ")\n",
    "\n",
    "fig.show()\n"
   ]
  },
  {
   "cell_type": "code",
   "execution_count": 30,
   "metadata": {
    "ExecuteTime": {
     "end_time": "2023-06-02T17:08:27.142734Z",
     "start_time": "2023-06-02T17:08:27.135157Z"
    }
   },
   "outputs": [
    {
     "name": "stdout",
     "output_type": "stream",
     "text": [
      "5478.3225\n",
      "160.98\n"
     ]
    }
   ],
   "source": [
    "print(df[(df[\"von\"] >= \"2022-07-01\") & (df[\"bis\"] <= \"2022-08-01\")][\"battery\"].sum())\n",
    "print(df[(df[\"von\"] >= \"2022-07-01\") & (df[\"bis\"] <= \"2022-08-01\")][\"grid\"].sum())"
   ]
  },
  {
   "cell_type": "code",
   "execution_count": 31,
   "metadata": {
    "ExecuteTime": {
     "end_time": "2023-06-02T17:08:34.125539Z",
     "start_time": "2023-06-02T17:08:34.108708Z"
    }
   },
   "outputs": [
    {
     "data": {
      "text/html": [
       "<div>\n",
       "<style scoped>\n",
       "    .dataframe tbody tr th:only-of-type {\n",
       "        vertical-align: middle;\n",
       "    }\n",
       "\n",
       "    .dataframe tbody tr th {\n",
       "        vertical-align: top;\n",
       "    }\n",
       "\n",
       "    .dataframe thead th {\n",
       "        text-align: right;\n",
       "    }\n",
       "</style>\n",
       "<table border=\"1\" class=\"dataframe\">\n",
       "  <thead>\n",
       "    <tr style=\"text-align: right;\">\n",
       "      <th></th>\n",
       "      <th>von</th>\n",
       "      <th>bis</th>\n",
       "      <th>battery</th>\n",
       "      <th>grid</th>\n",
       "      <th>holiday</th>\n",
       "    </tr>\n",
       "  </thead>\n",
       "  <tbody>\n",
       "    <tr>\n",
       "      <th>14691</th>\n",
       "      <td>2023-02-01 00:15:00</td>\n",
       "      <td>2023-02-01 00:30:00</td>\n",
       "      <td>1.56125</td>\n",
       "      <td>0.0</td>\n",
       "      <td>0</td>\n",
       "    </tr>\n",
       "    <tr>\n",
       "      <th>14692</th>\n",
       "      <td>2023-02-01 00:30:00</td>\n",
       "      <td>2023-02-01 00:45:00</td>\n",
       "      <td>1.68500</td>\n",
       "      <td>0.0</td>\n",
       "      <td>0</td>\n",
       "    </tr>\n",
       "    <tr>\n",
       "      <th>14693</th>\n",
       "      <td>2023-02-01 00:45:00</td>\n",
       "      <td>2023-02-01 01:00:00</td>\n",
       "      <td>1.59500</td>\n",
       "      <td>0.0</td>\n",
       "      <td>0</td>\n",
       "    </tr>\n",
       "    <tr>\n",
       "      <th>14694</th>\n",
       "      <td>2023-02-01 01:00:00</td>\n",
       "      <td>2023-02-01 01:15:00</td>\n",
       "      <td>1.39500</td>\n",
       "      <td>0.0</td>\n",
       "      <td>0</td>\n",
       "    </tr>\n",
       "    <tr>\n",
       "      <th>14695</th>\n",
       "      <td>2023-02-01 01:15:00</td>\n",
       "      <td>2023-02-01 01:30:00</td>\n",
       "      <td>1.53625</td>\n",
       "      <td>0.0</td>\n",
       "      <td>0</td>\n",
       "    </tr>\n",
       "    <tr>\n",
       "      <th>...</th>\n",
       "      <td>...</td>\n",
       "      <td>...</td>\n",
       "      <td>...</td>\n",
       "      <td>...</td>\n",
       "      <td>...</td>\n",
       "    </tr>\n",
       "    <tr>\n",
       "      <th>26202</th>\n",
       "      <td>2022-12-31 22:45:00</td>\n",
       "      <td>2022-12-31 23:00:00</td>\n",
       "      <td>1.82250</td>\n",
       "      <td>0.0</td>\n",
       "      <td>1</td>\n",
       "    </tr>\n",
       "    <tr>\n",
       "      <th>26203</th>\n",
       "      <td>2022-12-31 23:00:00</td>\n",
       "      <td>2022-12-31 23:15:00</td>\n",
       "      <td>1.82000</td>\n",
       "      <td>0.0</td>\n",
       "      <td>1</td>\n",
       "    </tr>\n",
       "    <tr>\n",
       "      <th>26204</th>\n",
       "      <td>2022-12-31 23:15:00</td>\n",
       "      <td>2022-12-31 23:30:00</td>\n",
       "      <td>1.88500</td>\n",
       "      <td>0.0</td>\n",
       "      <td>1</td>\n",
       "    </tr>\n",
       "    <tr>\n",
       "      <th>26205</th>\n",
       "      <td>2022-12-31 23:30:00</td>\n",
       "      <td>2022-12-31 23:45:00</td>\n",
       "      <td>1.70500</td>\n",
       "      <td>0.0</td>\n",
       "      <td>1</td>\n",
       "    </tr>\n",
       "    <tr>\n",
       "      <th>26206</th>\n",
       "      <td>2022-12-31 23:45:00</td>\n",
       "      <td>2023-01-01 00:00:00</td>\n",
       "      <td>1.88750</td>\n",
       "      <td>0.0</td>\n",
       "      <td>1</td>\n",
       "    </tr>\n",
       "  </tbody>\n",
       "</table>\n",
       "<p>5662 rows × 5 columns</p>\n",
       "</div>"
      ],
      "text/plain": [
       "                      von                 bis  battery  grid  holiday\n",
       "14691 2023-02-01 00:15:00 2023-02-01 00:30:00  1.56125   0.0        0\n",
       "14692 2023-02-01 00:30:00 2023-02-01 00:45:00  1.68500   0.0        0\n",
       "14693 2023-02-01 00:45:00 2023-02-01 01:00:00  1.59500   0.0        0\n",
       "14694 2023-02-01 01:00:00 2023-02-01 01:15:00  1.39500   0.0        0\n",
       "14695 2023-02-01 01:15:00 2023-02-01 01:30:00  1.53625   0.0        0\n",
       "...                   ...                 ...      ...   ...      ...\n",
       "26202 2022-12-31 22:45:00 2022-12-31 23:00:00  1.82250   0.0        1\n",
       "26203 2022-12-31 23:00:00 2022-12-31 23:15:00  1.82000   0.0        1\n",
       "26204 2022-12-31 23:15:00 2022-12-31 23:30:00  1.88500   0.0        1\n",
       "26205 2022-12-31 23:30:00 2022-12-31 23:45:00  1.70500   0.0        1\n",
       "26206 2022-12-31 23:45:00 2023-01-01 00:00:00  1.88750   0.0        1\n",
       "\n",
       "[5662 rows x 5 columns]"
      ]
     },
     "execution_count": 31,
     "metadata": {},
     "output_type": "execute_result"
    }
   ],
   "source": [
    "df[(df[\"von\"] >= \"2022-12-15\") & (df[\"bis\"] <= \"2023-02-12\")]\n",
    "df[(df[\"von\"] >= \"2022-12-15\") & (df[\"bis\"] <= \"2023-02-12\")]"
   ]
  },
  {
   "cell_type": "markdown",
   "metadata": {},
   "source": [
    "## Data Analysis\n",
    "Initial decision which Models/Algorithms arr going to br used as potential candidates for the final model. Elaborate why these models"
   ]
  },
  {
   "cell_type": "code",
   "execution_count": 64,
   "metadata": {
    "ExecuteTime": {
     "end_time": "2023-06-01T18:23:41.306764Z",
     "start_time": "2023-06-01T18:23:41.304338Z"
    }
   },
   "outputs": [],
   "source": [
    "#LSTM\n",
    "\n"
   ]
  },
  {
   "cell_type": "markdown",
   "metadata": {},
   "source": [
    "## Data Preprocessing\n",
    "Here you should prepare data accordingly"
   ]
  },
  {
   "cell_type": "code",
   "execution_count": 24,
   "metadata": {
    "ExecuteTime": {
     "end_time": "2023-06-01T19:30:45.828656Z",
     "start_time": "2023-06-01T19:30:45.697952Z"
    }
   },
   "outputs": [],
   "source": [
    "from sklearn.preprocessing import MinMaxScaler\n",
    "\n",
    "grid_data_hourly = grid_data['Kwh'].resample('H').sum()\n",
    "\n",
    "# Reshape data for scaling\n",
    "data = np.array(grid_data_hourly).reshape(-1, 1)\n",
    "\n",
    "scaler = MinMaxScaler(feature_range=(0, 1))\n",
    "scaled_data = scaler.fit_transform(data)"
   ]
  },
  {
   "cell_type": "markdown",
   "metadata": {},
   "source": [
    "## Training and build Models\n",
    "Use at least two different models. One from deep learning LSTM and one from classical ML (ensemble ML)"
   ]
  },
  {
   "cell_type": "code",
   "execution_count": 25,
   "metadata": {
    "ExecuteTime": {
     "end_time": "2023-06-01T19:30:46.540382Z",
     "start_time": "2023-06-01T19:30:46.531286Z"
    }
   },
   "outputs": [],
   "source": [
    "train_size = int(len(scaled_data) * 0.80)\n",
    "test_size = len(scaled_data) - train_size\n",
    "\n",
    "train, test = scaled_data[0:train_size,:], scaled_data[train_size:len(scaled_data),:]\n",
    "\n",
    "def create_dataset(dataset, look_back=1):\n",
    "    X, Y = [], []\n",
    "    for i in range(len(dataset) - look_back - 1):\n",
    "        a = dataset[i:(i + look_back), 0]\n",
    "        X.append(a)\n",
    "        Y.append(dataset[i + look_back, 0])\n",
    "    return np.array(X), np.array(Y)\n",
    "\n",
    "look_back = 10\n",
    "X_train, Y_train = create_dataset(train, look_back)\n",
    "X_test, Y_test = create_dataset(test, look_back)\n",
    "\n",
    "# reshape input to be [samples, time steps, features]\n",
    "X_train = np.reshape(X_train, (X_train.shape[0], 1, X_train.shape[1]))\n",
    "X_test = np.reshape(X_test, (X_test.shape[0], 1, X_test.shape[1]))\n"
   ]
  },
  {
   "cell_type": "code",
   "execution_count": 26,
   "metadata": {
    "ExecuteTime": {
     "end_time": "2023-06-01T19:31:23.509772Z",
     "start_time": "2023-06-01T19:30:47.365201Z"
    }
   },
   "outputs": [
    {
     "name": "stdout",
     "output_type": "stream",
     "text": [
      "Epoch 1/150\n",
      "584/584 - 1s - loss: 0.0164 - 715ms/epoch - 1ms/step\n",
      "Epoch 2/150\n",
      "584/584 - 0s - loss: 0.0149 - 225ms/epoch - 386us/step\n",
      "Epoch 3/150\n",
      "584/584 - 0s - loss: 0.0116 - 217ms/epoch - 372us/step\n",
      "Epoch 4/150\n",
      "584/584 - 0s - loss: 0.0079 - 218ms/epoch - 374us/step\n",
      "Epoch 5/150\n",
      "584/584 - 0s - loss: 0.0058 - 219ms/epoch - 376us/step\n",
      "Epoch 6/150\n",
      "584/584 - 0s - loss: 0.0046 - 220ms/epoch - 376us/step\n",
      "Epoch 7/150\n",
      "584/584 - 0s - loss: 0.0039 - 217ms/epoch - 372us/step\n",
      "Epoch 8/150\n",
      "584/584 - 0s - loss: 0.0035 - 216ms/epoch - 370us/step\n",
      "Epoch 9/150\n",
      "584/584 - 0s - loss: 0.0033 - 218ms/epoch - 374us/step\n",
      "Epoch 10/150\n",
      "584/584 - 0s - loss: 0.0032 - 224ms/epoch - 383us/step\n",
      "Epoch 11/150\n",
      "584/584 - 0s - loss: 0.0030 - 217ms/epoch - 372us/step\n",
      "Epoch 12/150\n",
      "584/584 - 0s - loss: 0.0030 - 218ms/epoch - 373us/step\n",
      "Epoch 13/150\n",
      "584/584 - 0s - loss: 0.0029 - 217ms/epoch - 372us/step\n",
      "Epoch 14/150\n",
      "584/584 - 0s - loss: 0.0028 - 218ms/epoch - 373us/step\n",
      "Epoch 15/150\n",
      "584/584 - 0s - loss: 0.0028 - 217ms/epoch - 372us/step\n",
      "Epoch 16/150\n",
      "584/584 - 0s - loss: 0.0028 - 218ms/epoch - 372us/step\n",
      "Epoch 17/150\n",
      "584/584 - 0s - loss: 0.0027 - 217ms/epoch - 372us/step\n",
      "Epoch 18/150\n",
      "584/584 - 0s - loss: 0.0027 - 218ms/epoch - 372us/step\n",
      "Epoch 19/150\n",
      "584/584 - 0s - loss: 0.0027 - 217ms/epoch - 371us/step\n",
      "Epoch 20/150\n",
      "584/584 - 0s - loss: 0.0027 - 216ms/epoch - 370us/step\n",
      "Epoch 21/150\n",
      "584/584 - 0s - loss: 0.0027 - 215ms/epoch - 369us/step\n",
      "Epoch 22/150\n",
      "584/584 - 0s - loss: 0.0026 - 218ms/epoch - 374us/step\n",
      "Epoch 23/150\n",
      "584/584 - 0s - loss: 0.0026 - 218ms/epoch - 373us/step\n",
      "Epoch 24/150\n",
      "584/584 - 0s - loss: 0.0026 - 216ms/epoch - 370us/step\n",
      "Epoch 25/150\n",
      "584/584 - 0s - loss: 0.0026 - 215ms/epoch - 368us/step\n",
      "Epoch 26/150\n",
      "584/584 - 0s - loss: 0.0026 - 218ms/epoch - 373us/step\n",
      "Epoch 27/150\n",
      "584/584 - 0s - loss: 0.0026 - 218ms/epoch - 373us/step\n",
      "Epoch 28/150\n",
      "584/584 - 0s - loss: 0.0026 - 218ms/epoch - 374us/step\n",
      "Epoch 29/150\n",
      "584/584 - 0s - loss: 0.0025 - 215ms/epoch - 368us/step\n",
      "Epoch 30/150\n",
      "584/584 - 0s - loss: 0.0025 - 215ms/epoch - 368us/step\n",
      "Epoch 31/150\n",
      "584/584 - 0s - loss: 0.0026 - 216ms/epoch - 371us/step\n",
      "Epoch 32/150\n",
      "584/584 - 0s - loss: 0.0025 - 216ms/epoch - 370us/step\n",
      "Epoch 33/150\n",
      "584/584 - 0s - loss: 0.0025 - 220ms/epoch - 376us/step\n",
      "Epoch 34/150\n",
      "584/584 - 0s - loss: 0.0025 - 216ms/epoch - 369us/step\n",
      "Epoch 35/150\n",
      "584/584 - 0s - loss: 0.0025 - 217ms/epoch - 371us/step\n",
      "Epoch 36/150\n",
      "584/584 - 0s - loss: 0.0024 - 217ms/epoch - 371us/step\n",
      "Epoch 37/150\n",
      "584/584 - 0s - loss: 0.0025 - 219ms/epoch - 375us/step\n",
      "Epoch 38/150\n",
      "584/584 - 0s - loss: 0.0025 - 216ms/epoch - 370us/step\n",
      "Epoch 39/150\n",
      "584/584 - 0s - loss: 0.0025 - 217ms/epoch - 372us/step\n",
      "Epoch 40/150\n",
      "584/584 - 0s - loss: 0.0025 - 218ms/epoch - 373us/step\n",
      "Epoch 41/150\n",
      "584/584 - 0s - loss: 0.0025 - 214ms/epoch - 366us/step\n",
      "Epoch 42/150\n",
      "584/584 - 0s - loss: 0.0024 - 219ms/epoch - 375us/step\n",
      "Epoch 43/150\n",
      "584/584 - 0s - loss: 0.0024 - 216ms/epoch - 370us/step\n",
      "Epoch 44/150\n",
      "584/584 - 0s - loss: 0.0025 - 218ms/epoch - 374us/step\n",
      "Epoch 45/150\n",
      "584/584 - 0s - loss: 0.0025 - 213ms/epoch - 365us/step\n",
      "Epoch 46/150\n",
      "584/584 - 0s - loss: 0.0025 - 213ms/epoch - 364us/step\n",
      "Epoch 47/150\n",
      "584/584 - 0s - loss: 0.0025 - 217ms/epoch - 371us/step\n",
      "Epoch 48/150\n",
      "584/584 - 0s - loss: 0.0025 - 217ms/epoch - 371us/step\n",
      "Epoch 49/150\n",
      "584/584 - 0s - loss: 0.0025 - 217ms/epoch - 372us/step\n",
      "Epoch 50/150\n",
      "584/584 - 0s - loss: 0.0025 - 217ms/epoch - 371us/step\n",
      "Epoch 51/150\n",
      "584/584 - 0s - loss: 0.0025 - 219ms/epoch - 375us/step\n",
      "Epoch 52/150\n",
      "584/584 - 0s - loss: 0.0025 - 218ms/epoch - 373us/step\n",
      "Epoch 53/150\n",
      "584/584 - 0s - loss: 0.0024 - 217ms/epoch - 371us/step\n",
      "Epoch 54/150\n",
      "584/584 - 0s - loss: 0.0024 - 220ms/epoch - 377us/step\n",
      "Epoch 55/150\n",
      "584/584 - 0s - loss: 0.0024 - 219ms/epoch - 374us/step\n",
      "Epoch 56/150\n",
      "584/584 - 0s - loss: 0.0025 - 217ms/epoch - 372us/step\n",
      "Epoch 57/150\n",
      "584/584 - 0s - loss: 0.0024 - 216ms/epoch - 370us/step\n",
      "Epoch 58/150\n",
      "584/584 - 0s - loss: 0.0024 - 217ms/epoch - 372us/step\n",
      "Epoch 59/150\n",
      "584/584 - 0s - loss: 0.0024 - 218ms/epoch - 373us/step\n",
      "Epoch 60/150\n",
      "584/584 - 0s - loss: 0.0024 - 217ms/epoch - 371us/step\n",
      "Epoch 61/150\n",
      "584/584 - 0s - loss: 0.0024 - 219ms/epoch - 375us/step\n",
      "Epoch 62/150\n",
      "584/584 - 0s - loss: 0.0024 - 217ms/epoch - 371us/step\n",
      "Epoch 63/150\n",
      "584/584 - 0s - loss: 0.0024 - 217ms/epoch - 371us/step\n",
      "Epoch 64/150\n",
      "584/584 - 0s - loss: 0.0025 - 218ms/epoch - 374us/step\n",
      "Epoch 65/150\n",
      "584/584 - 0s - loss: 0.0024 - 218ms/epoch - 374us/step\n",
      "Epoch 66/150\n",
      "584/584 - 0s - loss: 0.0025 - 219ms/epoch - 375us/step\n",
      "Epoch 67/150\n",
      "584/584 - 0s - loss: 0.0024 - 220ms/epoch - 376us/step\n",
      "Epoch 68/150\n",
      "584/584 - 0s - loss: 0.0024 - 220ms/epoch - 378us/step\n",
      "Epoch 69/150\n",
      "584/584 - 0s - loss: 0.0024 - 217ms/epoch - 372us/step\n",
      "Epoch 70/150\n",
      "584/584 - 0s - loss: 0.0024 - 216ms/epoch - 370us/step\n",
      "Epoch 71/150\n",
      "584/584 - 0s - loss: 0.0024 - 221ms/epoch - 379us/step\n",
      "Epoch 72/150\n",
      "584/584 - 0s - loss: 0.0024 - 220ms/epoch - 376us/step\n",
      "Epoch 73/150\n",
      "584/584 - 0s - loss: 0.0023 - 219ms/epoch - 376us/step\n",
      "Epoch 74/150\n",
      "584/584 - 0s - loss: 0.0025 - 218ms/epoch - 373us/step\n",
      "Epoch 75/150\n",
      "584/584 - 0s - loss: 0.0024 - 216ms/epoch - 370us/step\n",
      "Epoch 76/150\n",
      "584/584 - 0s - loss: 0.0024 - 222ms/epoch - 381us/step\n",
      "Epoch 77/150\n",
      "584/584 - 0s - loss: 0.0024 - 219ms/epoch - 376us/step\n",
      "Epoch 78/150\n",
      "584/584 - 0s - loss: 0.0024 - 223ms/epoch - 382us/step\n",
      "Epoch 79/150\n",
      "584/584 - 0s - loss: 0.0024 - 217ms/epoch - 372us/step\n",
      "Epoch 80/150\n",
      "584/584 - 0s - loss: 0.0024 - 223ms/epoch - 381us/step\n",
      "Epoch 81/150\n",
      "584/584 - 0s - loss: 0.0024 - 220ms/epoch - 376us/step\n",
      "Epoch 82/150\n",
      "584/584 - 0s - loss: 0.0024 - 221ms/epoch - 378us/step\n",
      "Epoch 83/150\n",
      "584/584 - 0s - loss: 0.0023 - 216ms/epoch - 369us/step\n",
      "Epoch 84/150\n",
      "584/584 - 0s - loss: 0.0024 - 219ms/epoch - 374us/step\n",
      "Epoch 85/150\n",
      "584/584 - 0s - loss: 0.0024 - 219ms/epoch - 376us/step\n",
      "Epoch 86/150\n",
      "584/584 - 0s - loss: 0.0024 - 226ms/epoch - 388us/step\n",
      "Epoch 87/150\n",
      "584/584 - 0s - loss: 0.0024 - 219ms/epoch - 374us/step\n",
      "Epoch 88/150\n",
      "584/584 - 0s - loss: 0.0024 - 219ms/epoch - 375us/step\n",
      "Epoch 89/150\n",
      "584/584 - 0s - loss: 0.0024 - 217ms/epoch - 371us/step\n",
      "Epoch 90/150\n",
      "584/584 - 0s - loss: 0.0024 - 218ms/epoch - 374us/step\n",
      "Epoch 91/150\n",
      "584/584 - 0s - loss: 0.0024 - 221ms/epoch - 379us/step\n",
      "Epoch 92/150\n",
      "584/584 - 0s - loss: 0.0024 - 218ms/epoch - 373us/step\n",
      "Epoch 93/150\n",
      "584/584 - 0s - loss: 0.0024 - 217ms/epoch - 372us/step\n",
      "Epoch 94/150\n",
      "584/584 - 0s - loss: 0.0024 - 218ms/epoch - 374us/step\n",
      "Epoch 95/150\n",
      "584/584 - 0s - loss: 0.0024 - 220ms/epoch - 377us/step\n",
      "Epoch 96/150\n",
      "584/584 - 0s - loss: 0.0024 - 217ms/epoch - 371us/step\n",
      "Epoch 97/150\n",
      "584/584 - 0s - loss: 0.0023 - 217ms/epoch - 372us/step\n",
      "Epoch 98/150\n",
      "584/584 - 0s - loss: 0.0024 - 216ms/epoch - 370us/step\n",
      "Epoch 99/150\n",
      "584/584 - 0s - loss: 0.0023 - 221ms/epoch - 379us/step\n",
      "Epoch 100/150\n",
      "584/584 - 0s - loss: 0.0024 - 217ms/epoch - 372us/step\n",
      "Epoch 101/150\n",
      "584/584 - 0s - loss: 0.0023 - 216ms/epoch - 370us/step\n",
      "Epoch 102/150\n",
      "584/584 - 0s - loss: 0.0023 - 215ms/epoch - 369us/step\n",
      "Epoch 103/150\n",
      "584/584 - 0s - loss: 0.0024 - 218ms/epoch - 372us/step\n",
      "Epoch 104/150\n",
      "584/584 - 0s - loss: 0.0024 - 220ms/epoch - 376us/step\n",
      "Epoch 105/150\n",
      "584/584 - 0s - loss: 0.0023 - 216ms/epoch - 370us/step\n",
      "Epoch 106/150\n",
      "584/584 - 0s - loss: 0.0023 - 215ms/epoch - 368us/step\n",
      "Epoch 107/150\n",
      "584/584 - 0s - loss: 0.0024 - 216ms/epoch - 370us/step\n",
      "Epoch 108/150\n",
      "584/584 - 0s - loss: 0.0023 - 218ms/epoch - 373us/step\n",
      "Epoch 109/150\n",
      "584/584 - 0s - loss: 0.0023 - 218ms/epoch - 373us/step\n",
      "Epoch 110/150\n",
      "584/584 - 0s - loss: 0.0023 - 218ms/epoch - 373us/step\n",
      "Epoch 111/150\n",
      "584/584 - 0s - loss: 0.0024 - 217ms/epoch - 371us/step\n",
      "Epoch 112/150\n",
      "584/584 - 0s - loss: 0.0024 - 217ms/epoch - 372us/step\n",
      "Epoch 113/150\n",
      "584/584 - 0s - loss: 0.0023 - 221ms/epoch - 378us/step\n",
      "Epoch 114/150\n",
      "584/584 - 0s - loss: 0.0023 - 217ms/epoch - 371us/step\n",
      "Epoch 115/150\n",
      "584/584 - 0s - loss: 0.0024 - 219ms/epoch - 375us/step\n",
      "Epoch 116/150\n",
      "584/584 - 0s - loss: 0.0023 - 218ms/epoch - 373us/step\n",
      "Epoch 117/150\n",
      "584/584 - 0s - loss: 0.0023 - 219ms/epoch - 374us/step\n",
      "Epoch 118/150\n",
      "584/584 - 0s - loss: 0.0023 - 217ms/epoch - 372us/step\n",
      "Epoch 119/150\n",
      "584/584 - 0s - loss: 0.0023 - 221ms/epoch - 378us/step\n",
      "Epoch 120/150\n",
      "584/584 - 0s - loss: 0.0023 - 218ms/epoch - 373us/step\n",
      "Epoch 121/150\n",
      "584/584 - 0s - loss: 0.0023 - 223ms/epoch - 382us/step\n"
     ]
    },
    {
     "name": "stdout",
     "output_type": "stream",
     "text": [
      "Epoch 122/150\n",
      "584/584 - 0s - loss: 0.0023 - 217ms/epoch - 372us/step\n",
      "Epoch 123/150\n",
      "584/584 - 0s - loss: 0.0024 - 216ms/epoch - 370us/step\n",
      "Epoch 124/150\n",
      "584/584 - 0s - loss: 0.0023 - 216ms/epoch - 370us/step\n",
      "Epoch 125/150\n",
      "584/584 - 0s - loss: 0.0023 - 224ms/epoch - 383us/step\n",
      "Epoch 126/150\n",
      "584/584 - 0s - loss: 0.0023 - 219ms/epoch - 374us/step\n",
      "Epoch 127/150\n",
      "584/584 - 0s - loss: 0.0023 - 217ms/epoch - 371us/step\n",
      "Epoch 128/150\n",
      "584/584 - 0s - loss: 0.0023 - 219ms/epoch - 376us/step\n",
      "Epoch 129/150\n",
      "584/584 - 0s - loss: 0.0023 - 231ms/epoch - 396us/step\n",
      "Epoch 130/150\n",
      "584/584 - 0s - loss: 0.0023 - 219ms/epoch - 376us/step\n",
      "Epoch 131/150\n",
      "584/584 - 0s - loss: 0.0023 - 217ms/epoch - 372us/step\n",
      "Epoch 132/150\n",
      "584/584 - 0s - loss: 0.0023 - 220ms/epoch - 377us/step\n",
      "Epoch 133/150\n",
      "584/584 - 0s - loss: 0.0023 - 229ms/epoch - 391us/step\n",
      "Epoch 134/150\n",
      "584/584 - 0s - loss: 0.0023 - 219ms/epoch - 376us/step\n",
      "Epoch 135/150\n",
      "584/584 - 0s - loss: 0.0023 - 217ms/epoch - 371us/step\n",
      "Epoch 136/150\n",
      "584/584 - 0s - loss: 0.0023 - 218ms/epoch - 373us/step\n",
      "Epoch 137/150\n",
      "584/584 - 0s - loss: 0.0023 - 217ms/epoch - 371us/step\n",
      "Epoch 138/150\n",
      "584/584 - 0s - loss: 0.0023 - 219ms/epoch - 375us/step\n",
      "Epoch 139/150\n",
      "584/584 - 0s - loss: 0.0023 - 216ms/epoch - 370us/step\n",
      "Epoch 140/150\n",
      "584/584 - 0s - loss: 0.0023 - 219ms/epoch - 375us/step\n",
      "Epoch 141/150\n",
      "584/584 - 0s - loss: 0.0023 - 218ms/epoch - 373us/step\n",
      "Epoch 142/150\n",
      "584/584 - 0s - loss: 0.0023 - 217ms/epoch - 371us/step\n",
      "Epoch 143/150\n",
      "584/584 - 0s - loss: 0.0023 - 219ms/epoch - 375us/step\n",
      "Epoch 144/150\n",
      "584/584 - 0s - loss: 0.0022 - 219ms/epoch - 375us/step\n",
      "Epoch 145/150\n",
      "584/584 - 0s - loss: 0.0022 - 218ms/epoch - 373us/step\n",
      "Epoch 146/150\n",
      "584/584 - 0s - loss: 0.0023 - 215ms/epoch - 368us/step\n",
      "Epoch 147/150\n",
      "584/584 - 0s - loss: 0.0023 - 216ms/epoch - 369us/step\n",
      "Epoch 148/150\n",
      "584/584 - 0s - loss: 0.0023 - 216ms/epoch - 370us/step\n",
      "Epoch 149/150\n",
      "584/584 - 0s - loss: 0.0023 - 218ms/epoch - 374us/step\n",
      "Epoch 150/150\n",
      "584/584 - 0s - loss: 0.0023 - 216ms/epoch - 369us/step\n"
     ]
    },
    {
     "data": {
      "text/plain": [
       "<keras.src.callbacks.History at 0x28c80ee50>"
      ]
     },
     "execution_count": 26,
     "metadata": {},
     "output_type": "execute_result"
    }
   ],
   "source": [
    "from tensorflow.keras.models import Sequential\n",
    "from tensorflow.keras.layers import Dense, LSTM\n",
    "\n",
    "model = Sequential()\n",
    "model.add(LSTM(4, input_shape=(1, look_back)))\n",
    "model.add(Dense(20))\n",
    "model.compile(loss='mean_squared_error', optimizer='adam')\n",
    "model.fit(X_train, Y_train, epochs=150, batch_size=1, verbose=2)\n"
   ]
  },
  {
   "cell_type": "code",
   "execution_count": null,
   "metadata": {},
   "outputs": [],
   "source": []
  },
  {
   "cell_type": "markdown",
   "metadata": {
    "jp-MarkdownHeadingCollapsed": true,
    "tags": []
   },
   "source": [
    "## Evaluation and selection of the model\n",
    "Here multiple models should be evaluated and finaly selected. \n"
   ]
  },
  {
   "cell_type": "code",
   "execution_count": 27,
   "metadata": {
    "ExecuteTime": {
     "end_time": "2023-06-01T19:31:28.907020Z",
     "start_time": "2023-06-01T19:31:28.626799Z"
    }
   },
   "outputs": [
    {
     "name": "stdout",
     "output_type": "stream",
     "text": [
      "19/19 [==============================] - 0s 511us/step\n",
      "5/5 [==============================] - 0s 572us/step\n",
      "Train Score: 0.26 RMSE\n",
      "Test Score: 0.44 RMSE\n"
     ]
    }
   ],
   "source": [
    "# Make predictions\n",
    "train_predict = model.predict(X_train)\n",
    "test_predict = model.predict(X_test)\n",
    "\n",
    "# invert predictions back to original scale\n",
    "train_predict = scaler.inverse_transform(train_predict)\n",
    "Y_train = scaler.inverse_transform([Y_train])\n",
    "test_predict = scaler.inverse_transform(test_predict)\n",
    "Y_test = scaler.inverse_transform([Y_test])\n",
    "\n",
    "\n",
    "import math\n",
    "from sklearn.metrics import mean_squared_error\n",
    "\n",
    "train_score = math.sqrt(mean_squared_error(Y_train[0], train_predict[:,0]))\n",
    "print('Train Score: %.2f RMSE' % (train_score))\n",
    "\n",
    "test_score = math.sqrt(mean_squared_error(Y_test[0], test_predict[:,0]))\n",
    "print('Test Score: %.2f RMSE' % (test_score))\n"
   ]
  },
  {
   "cell_type": "markdown",
   "metadata": {},
   "source": [
    "## Conclusion and reflection\n",
    "Please reflect on the project and provide the conclusion"
   ]
  },
  {
   "cell_type": "markdown",
   "metadata": {},
   "source": [
    "## Test the model with some data\n",
    "Create your own new data representing wine and test the model"
   ]
  },
  {
   "cell_type": "code",
   "execution_count": 2,
   "metadata": {
    "ExecuteTime": {
     "end_time": "2023-06-02T16:31:23.920334Z",
     "start_time": "2023-06-02T16:31:23.497535Z"
    }
   },
   "outputs": [
    {
     "name": "stdout",
     "output_type": "stream",
     "text": [
      "     startDate     endDate    type\n",
      "id                                \n",
      "1   2021-12-24  2022-01-06  School\n",
      "2   2022-04-09  2022-04-18  School\n",
      "3   2022-06-04  2022-06-06  School\n",
      "4   2022-10-27  2022-10-31  School\n",
      "5   2022-11-02  2022-11-02  School\n",
      "6   2022-12-24  2023-01-06  School\n",
      "7   2023-04-01  2023-04-10  School\n",
      "8   2022-01-01  2022-01-01  Public\n",
      "9   2022-01-06  2022-01-06  Public\n",
      "10  2022-04-18  2022-04-18  Public\n",
      "11  2022-05-01  2022-05-01  Public\n",
      "12  2022-05-26  2022-05-26  Public\n",
      "13  2022-06-06  2022-06-06  Public\n",
      "14  2022-06-16  2022-06-16  Public\n",
      "15  2022-08-15  2022-08-15  Public\n",
      "16  2022-10-26  2022-10-26  Public\n",
      "17  2022-11-01  2022-11-01  Public\n",
      "18  2022-12-08  2022-12-08  Public\n",
      "19  2022-12-25  2022-12-25  Public\n",
      "20  2022-12-26  2022-12-26  Public\n",
      "21  2023-01-01  2023-01-01  Public\n",
      "22  2023-01-06  2023-01-06  Public\n"
     ]
    }
   ],
   "source": [
    "from urllib.request import urlopen\n",
    "import json\n",
    "import pandas as pd\n",
    "\n",
    "response = urlopen(\"https://openholidaysapi.org/SchoolHolidays?countryIsoCode=AT&subdivisionCode=AT-6&languageIsoCode=DE&validFrom=2022-01-01&validTo=2023-04-01\")\n",
    "school_holidays = response.read().decode('utf-8', 'replace')\n",
    "\n",
    "response = urlopen('https://openholidaysapi.org/PublicHolidays?countryIsoCode=AT&subdivisionCode=AT-6&languageIsoCode=DE&validFrom=2022-01-01&validTo=2023-04-01')\n",
    "public_holidays = response.read().decode('utf-8', 'replace')\n",
    "\n",
    "sh = json.loads(school_holidays)\n",
    "ph = json.loads(public_holidays)\n",
    "\n",
    "holidays = sh + ph\n",
    "\n",
    "i = 1\n",
    "for h in holidays:\n",
    "  h['id'] = i\n",
    "  i=i+1\n",
    "\n",
    "hf = pd.DataFrame.from_dict(holidays)\n",
    "\n",
    "hf.drop(axis=1, inplace=True, columns=['name','nationwide', 'subdivisions','comment'])\n",
    "\n",
    "hf.set_index(['id'], inplace=True)\n",
    "\n",
    "print(hf)\n",
    "\n",
    "hf.to_csv('Feiertage/holidays.csv')"
   ]
  },
  {
   "cell_type": "code",
   "execution_count": 55,
   "metadata": {},
   "outputs": [
    {
     "ename": "ImportError",
     "evalue": "cannot import name 'urlopen' from 'requests' (/home/codespace/.local/lib/python3.10/site-packages/requests/__init__.py)",
     "output_type": "error",
     "traceback": [
      "\u001b[0;31m---------------------------------------------------------------------------\u001b[0m",
      "\u001b[0;31mImportError\u001b[0m                               Traceback (most recent call last)",
      "Cell \u001b[0;32mIn[55], line 1\u001b[0m\n\u001b[0;32m----> 1\u001b[0m \u001b[39mfrom\u001b[39;00m \u001b[39mrequests\u001b[39;00m \u001b[39mimport\u001b[39;00m urlopen\n\u001b[1;32m      2\u001b[0m \u001b[39mimport\u001b[39;00m \u001b[39mjson\u001b[39;00m\n\u001b[1;32m      3\u001b[0m \u001b[39mimport\u001b[39;00m \u001b[39mpandas\u001b[39;00m \u001b[39mas\u001b[39;00m \u001b[39mpd\u001b[39;00m\n",
      "\u001b[0;31mImportError\u001b[0m: cannot import name 'urlopen' from 'requests' (/home/codespace/.local/lib/python3.10/site-packages/requests/__init__.py)"
     ]
    }
   ],
   "source": []
  },
  {
   "cell_type": "code",
   "execution_count": null,
   "metadata": {},
   "outputs": [],
   "source": []
  }
 ],
 "metadata": {
  "colab": {
   "provenance": []
  },
  "kernelspec": {
   "display_name": "Python 3",
   "language": "python",
   "name": "python3"
  },
  "language_info": {
   "codemirror_mode": {
    "name": "ipython",
    "version": 3
   },
   "file_extension": ".py",
   "mimetype": "text/x-python",
   "name": "python",
   "nbconvert_exporter": "python",
   "pygments_lexer": "ipython3",
   "version": "3.11.3"
  },
  "varInspector": {
   "cols": {
    "lenName": 16,
    "lenType": 16,
    "lenVar": 40
   },
   "kernels_config": {
    "python": {
     "delete_cmd_postfix": "",
     "delete_cmd_prefix": "del ",
     "library": "var_list.py",
     "varRefreshCmd": "print(var_dic_list())"
    },
    "r": {
     "delete_cmd_postfix": ") ",
     "delete_cmd_prefix": "rm(",
     "library": "var_list.r",
     "varRefreshCmd": "cat(var_dic_list()) "
    }
   },
   "types_to_exclude": [
    "module",
    "function",
    "builtin_function_or_method",
    "instance",
    "_Feature"
   ],
   "window_display": false
  }
 },
 "nbformat": 4,
 "nbformat_minor": 4
}
